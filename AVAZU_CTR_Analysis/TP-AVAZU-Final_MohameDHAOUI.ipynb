{
 "cells": [
  {
   "cell_type": "markdown",
   "metadata": {},
   "source": [
    "<h1><center>MDI343 / MDI724 - TP1 Avazu<center></h1>"
   ]
  },
  {
   "cell_type": "markdown",
   "metadata": {},
   "source": [
    "#### For any remark or suggestion, please feel free to contact us at: \n",
    "#### pascal.bianchi@telecom-paristech.fr\n",
    "#### nidham.gazagnadou@telecom-paristech.fr\n",
    "#### kevin.elgui@gmail.com\n",
    "\n"
   ]
  },
  {
   "cell_type": "markdown",
   "metadata": {},
   "source": [
    "## First name : Mohamed\n",
    "## Last name : DHAOUI\n",
    "## Email : mohamed.dhaoui@telecom-paristech.fr"
   ]
  },
  {
   "cell_type": "markdown",
   "metadata": {},
   "source": [
    "##  Introduction"
   ]
  },
  {
   "cell_type": "markdown",
   "metadata": {},
   "source": [
    "Many ads are actually sold on a \"pay-per-click\" (PPC) basis, meaning the company only pays for ad clicks, not ad views. Thus your optimal approach (as a search engine) is actually to choose an ad based on \"expected value\", meaning the price of a click times the likelihood that the ad will be clicked. In other words, a \\$1.00 ad with a 5% probability of being clicked has an expected value of \\$0.05, whereas a \\$2.00 ad with a 1% probability of being clicked has an expected value of only \\$0.02. In this case, you would choose to display the first ad.\n",
    "\n",
    "In order for you to maximize expected value, you therefore need to accurately predict the likelihood that a given ad will be clicked, also known as \"click-through rate\" (CTR).\n",
    "\n",
    "In this notebook, We will walk through the predictive modeling process of CTR using AVAZU Dataset "
   ]
  },
  {
   "cell_type": "markdown",
   "metadata": {},
   "source": [
    "<font color=\"red\">**Question 0:**\n",
    "    Import the needed packages: numpy, pandas etc..\n",
    "</font>"
   ]
  },
  {
   "cell_type": "code",
   "execution_count": 1,
   "metadata": {},
   "outputs": [],
   "source": [
    "import numpy as np\n",
    "import pandas as pd\n",
    "import matplotlib.pyplot as plt\n",
    "import seaborn as sns\n",
    "import datetime\n",
    "%matplotlib inline\n",
    "from matplotlib import pyplot as plt\n",
    "import pandas as pd\n",
    "import numpy as np\n",
    "from sklearn.model_selection import train_test_split\n",
    "from scipy.sparse import csr_matrix, hstack\n",
    "import seaborn as sns\n",
    "from sklearn.preprocessing import  OneHotEncoder\n",
    "from sklearn.preprocessing import LabelEncoder  \n",
    "from sklearn.metrics import roc_curve, auc,roc_auc_score\n",
    "from sklearn.metrics import accuracy_score\n",
    "from sklearn.metrics import log_loss, roc_auc_score\n",
    "from sklearn.metrics import roc_curve, auc,roc_auc_score\n",
    "import datetime\n",
    "import hashlib\n",
    "from sklearn.linear_model import LogisticRegression\n",
    "from sklearn.ensemble import GradientBoostingClassifier\n",
    "from sklearn.ensemble import RandomForestClassifier\n",
    "import time\n",
    "from xgboost import XGBClassifier\n",
    "from utils import plotlift\n",
    "from sklearn.preprocessing import OneHotEncoder\n",
    "from sklearn.metrics import accuracy_score\n",
    "\n",
    "\n",
    "############ suppression des warnings ###############\n",
    "\n",
    "import warnings\n",
    "warnings.filterwarnings('ignore')\n",
    "############ plot config              ###############\n",
    "%matplotlib notebook \n",
    "%matplotlib inline\n",
    "from matplotlib.pyplot import figure\n"
   ]
  },
  {
   "cell_type": "markdown",
   "metadata": {},
   "source": [
    "# The dataset"
   ]
  },
  {
   "cell_type": "markdown",
   "metadata": {},
   "source": [
    "Our dataset comprises of the following features:\n",
    "\n",
    "    id: ad identifier\n",
    "    click: 0 for non-click, 1 for click\n",
    "    hour: in the format of YYMMDDHH\n",
    "    C1: some anonymized categorical variable e.g. 1002\n",
    "    banner_pos: where a banner is located, 1 and 0\n",
    "    site_id: site identifier\n",
    "    site_domain: hashed site domain\n",
    "    site_category: hashed site category e.g. 28905ebd\n",
    "    app_id: mobile app identifier\n",
    "    app_domain\n",
    "    app_category\n",
    "    device_id: mobile device identifier\n",
    "    device_ip: IP address\n",
    "    device_model: hashed model e.g. iPhone 6, Samsung\n",
    "    device_type: hashed device type e.g. tablet, smartphone\n",
    "    device_conn_type: hashed type of connection e.g. Wi-Fi, 4G\n",
    "    C14-C21: some more anonymized categorical variables\n",
    "\n",
    "\n",
    "Let's start by loading the data into a pandas dataframe and exploring it ina python notebook . We will look at basic stats and graphs and then we will do some featres encoding and engineering. Since most of the data was anonymized, we did not have much to refine except for some of the data columns."
   ]
  },
  {
   "cell_type": "markdown",
   "metadata": {},
   "source": [
    "<font color=\"red\">**Question 1:**\n",
    "    Load the data into a pandas DataFrame and display the first lines with the \".head()\" method.\n",
    "    <br>\n",
    "</font>\n"
   ]
  },
  {
   "cell_type": "code",
   "execution_count": 2,
   "metadata": {},
   "outputs": [],
   "source": [
    "\n",
    "################## you need to change th url the train-1000000 ###############\n",
    "\n",
    "df = pd.read_csv(\"/home/user/TelecomParistech/Challenge_ML/data/train-1000000\") #### reading file"
   ]
  },
  {
   "cell_type": "code",
   "execution_count": 3,
   "metadata": {
    "scrolled": true
   },
   "outputs": [
    {
     "data": {
      "text/html": [
       "<div>\n",
       "<style scoped>\n",
       "    .dataframe tbody tr th:only-of-type {\n",
       "        vertical-align: middle;\n",
       "    }\n",
       "\n",
       "    .dataframe tbody tr th {\n",
       "        vertical-align: top;\n",
       "    }\n",
       "\n",
       "    .dataframe thead th {\n",
       "        text-align: right;\n",
       "    }\n",
       "</style>\n",
       "<table border=\"1\" class=\"dataframe\">\n",
       "  <thead>\n",
       "    <tr style=\"text-align: right;\">\n",
       "      <th></th>\n",
       "      <th>id</th>\n",
       "      <th>click</th>\n",
       "      <th>hour</th>\n",
       "      <th>C1</th>\n",
       "      <th>banner_pos</th>\n",
       "      <th>site_id</th>\n",
       "      <th>site_domain</th>\n",
       "      <th>site_category</th>\n",
       "      <th>app_id</th>\n",
       "      <th>app_domain</th>\n",
       "      <th>...</th>\n",
       "      <th>device_type</th>\n",
       "      <th>device_conn_type</th>\n",
       "      <th>C14</th>\n",
       "      <th>C15</th>\n",
       "      <th>C16</th>\n",
       "      <th>C17</th>\n",
       "      <th>C18</th>\n",
       "      <th>C19</th>\n",
       "      <th>C20</th>\n",
       "      <th>C21</th>\n",
       "    </tr>\n",
       "  </thead>\n",
       "  <tbody>\n",
       "    <tr>\n",
       "      <th>0</th>\n",
       "      <td>3.983206e+18</td>\n",
       "      <td>0</td>\n",
       "      <td>14102915</td>\n",
       "      <td>1005</td>\n",
       "      <td>1</td>\n",
       "      <td>e151e245</td>\n",
       "      <td>7e091613</td>\n",
       "      <td>f028772b</td>\n",
       "      <td>ecad2386</td>\n",
       "      <td>7801e8d9</td>\n",
       "      <td>...</td>\n",
       "      <td>1</td>\n",
       "      <td>2</td>\n",
       "      <td>4687</td>\n",
       "      <td>320</td>\n",
       "      <td>50</td>\n",
       "      <td>423</td>\n",
       "      <td>2</td>\n",
       "      <td>39</td>\n",
       "      <td>100148</td>\n",
       "      <td>32</td>\n",
       "    </tr>\n",
       "    <tr>\n",
       "      <th>1</th>\n",
       "      <td>7.756884e+18</td>\n",
       "      <td>0</td>\n",
       "      <td>14103007</td>\n",
       "      <td>1002</td>\n",
       "      <td>0</td>\n",
       "      <td>cb809abf</td>\n",
       "      <td>74acf31a</td>\n",
       "      <td>50e219e0</td>\n",
       "      <td>ecad2386</td>\n",
       "      <td>7801e8d9</td>\n",
       "      <td>...</td>\n",
       "      <td>0</td>\n",
       "      <td>0</td>\n",
       "      <td>17894</td>\n",
       "      <td>320</td>\n",
       "      <td>50</td>\n",
       "      <td>2039</td>\n",
       "      <td>2</td>\n",
       "      <td>39</td>\n",
       "      <td>100077</td>\n",
       "      <td>32</td>\n",
       "    </tr>\n",
       "    <tr>\n",
       "      <th>2</th>\n",
       "      <td>6.941774e+17</td>\n",
       "      <td>0</td>\n",
       "      <td>14102711</td>\n",
       "      <td>1005</td>\n",
       "      <td>0</td>\n",
       "      <td>85f751fd</td>\n",
       "      <td>c4e18dd6</td>\n",
       "      <td>50e219e0</td>\n",
       "      <td>e9739828</td>\n",
       "      <td>df32afa9</td>\n",
       "      <td>...</td>\n",
       "      <td>1</td>\n",
       "      <td>0</td>\n",
       "      <td>22684</td>\n",
       "      <td>320</td>\n",
       "      <td>50</td>\n",
       "      <td>2619</td>\n",
       "      <td>1</td>\n",
       "      <td>163</td>\n",
       "      <td>100055</td>\n",
       "      <td>71</td>\n",
       "    </tr>\n",
       "    <tr>\n",
       "      <th>3</th>\n",
       "      <td>2.664154e+18</td>\n",
       "      <td>1</td>\n",
       "      <td>14102903</td>\n",
       "      <td>1005</td>\n",
       "      <td>0</td>\n",
       "      <td>85f751fd</td>\n",
       "      <td>c4e18dd6</td>\n",
       "      <td>50e219e0</td>\n",
       "      <td>a5184c22</td>\n",
       "      <td>b8d325c3</td>\n",
       "      <td>...</td>\n",
       "      <td>1</td>\n",
       "      <td>0</td>\n",
       "      <td>23222</td>\n",
       "      <td>320</td>\n",
       "      <td>50</td>\n",
       "      <td>2676</td>\n",
       "      <td>0</td>\n",
       "      <td>35</td>\n",
       "      <td>100176</td>\n",
       "      <td>221</td>\n",
       "    </tr>\n",
       "    <tr>\n",
       "      <th>4</th>\n",
       "      <td>1.480510e+19</td>\n",
       "      <td>0</td>\n",
       "      <td>14102902</td>\n",
       "      <td>1005</td>\n",
       "      <td>1</td>\n",
       "      <td>791b5571</td>\n",
       "      <td>fd13bc73</td>\n",
       "      <td>f028772b</td>\n",
       "      <td>ecad2386</td>\n",
       "      <td>7801e8d9</td>\n",
       "      <td>...</td>\n",
       "      <td>1</td>\n",
       "      <td>0</td>\n",
       "      <td>8330</td>\n",
       "      <td>320</td>\n",
       "      <td>50</td>\n",
       "      <td>761</td>\n",
       "      <td>3</td>\n",
       "      <td>175</td>\n",
       "      <td>100081</td>\n",
       "      <td>23</td>\n",
       "    </tr>\n",
       "  </tbody>\n",
       "</table>\n",
       "<p>5 rows × 24 columns</p>\n",
       "</div>"
      ],
      "text/plain": [
       "             id  click      hour    C1  banner_pos   site_id site_domain  \\\n",
       "0  3.983206e+18      0  14102915  1005           1  e151e245    7e091613   \n",
       "1  7.756884e+18      0  14103007  1002           0  cb809abf    74acf31a   \n",
       "2  6.941774e+17      0  14102711  1005           0  85f751fd    c4e18dd6   \n",
       "3  2.664154e+18      1  14102903  1005           0  85f751fd    c4e18dd6   \n",
       "4  1.480510e+19      0  14102902  1005           1  791b5571    fd13bc73   \n",
       "\n",
       "  site_category    app_id app_domain ...  device_type device_conn_type    C14  \\\n",
       "0      f028772b  ecad2386   7801e8d9 ...            1                2   4687   \n",
       "1      50e219e0  ecad2386   7801e8d9 ...            0                0  17894   \n",
       "2      50e219e0  e9739828   df32afa9 ...            1                0  22684   \n",
       "3      50e219e0  a5184c22   b8d325c3 ...            1                0  23222   \n",
       "4      f028772b  ecad2386   7801e8d9 ...            1                0   8330   \n",
       "\n",
       "   C15  C16   C17  C18  C19     C20  C21  \n",
       "0  320   50   423    2   39  100148   32  \n",
       "1  320   50  2039    2   39  100077   32  \n",
       "2  320   50  2619    1  163  100055   71  \n",
       "3  320   50  2676    0   35  100176  221  \n",
       "4  320   50   761    3  175  100081   23  \n",
       "\n",
       "[5 rows x 24 columns]"
      ]
     },
     "execution_count": 3,
     "metadata": {},
     "output_type": "execute_result"
    }
   ],
   "source": [
    "df.head()  #### printing headers"
   ]
  },
  {
   "cell_type": "markdown",
   "metadata": {},
   "source": [
    "<font color=\"red\">**Question 2:**\n",
    "    What is the 'click' frequency in the dataset?\n",
    "    <br>\n",
    "</font>"
   ]
  },
  {
   "cell_type": "code",
   "execution_count": 4,
   "metadata": {
    "scrolled": false
   },
   "outputs": [
    {
     "data": {
      "image/png": "[encoded data removed]",
      "text/plain": [
       "<Figure size 1000x750 with 1 Axes>"
      ]
     },
     "metadata": {},
     "output_type": "display_data"
    }
   ],
   "source": [
    "\n",
    "\n",
    "plt.style.use(\"ggplot\")  #### stype of figure\n",
    "figure(num=None, figsize=(20,15), dpi=50, facecolor='w', edgecolor='k') ### figure custom parameter\n",
    "\n",
    "\n",
    "# Create bars\n",
    "plt.bar([0,1], df.click.value_counts().values) ### plot bar\n",
    " \n",
    "# Create names on the x-axis\n",
    "plt.xticks([0,1], ['Non click','click']) ## put labels\n",
    " \n",
    "# Show graphic\n",
    "plt.show()  ### inline view"
   ]
  },
  {
   "cell_type": "code",
   "execution_count": 5,
   "metadata": {},
   "outputs": [
    {
     "data": {
      "text/plain": [
       "0    830029\n",
       "1    169971\n",
       "Name: click, dtype: int64"
      ]
     },
     "execution_count": 5,
     "metadata": {},
     "output_type": "execute_result"
    }
   ],
   "source": [
    "df.click.value_counts()  ### count of click / non click"
   ]
  },
  {
   "cell_type": "markdown",
   "metadata": {},
   "source": [
    "We note that the Avazu dataset is very unbalanced. The 'click' class represents less than a fifth of the whole database. We already know that a classifier always predicting 'click'=0 will have good preformances in terms of error rate (around 0.17). The ROC and lift curves will be better performance metrics."
   ]
  },
  {
   "cell_type": "markdown",
   "metadata": {},
   "source": [
    "<font color=\"red\">**Question 3:**\n",
    "    What are the categorical features? Using the 'df.dtypes' method, compute the number of distincts values for each of these features.\n",
    "</font>"
   ]
  },
  {
   "cell_type": "code",
   "execution_count": 6,
   "metadata": {},
   "outputs": [
    {
     "name": "stdout",
     "output_type": "stream",
     "text": [
      "Types of variables :\n"
     ]
    },
    {
     "data": {
      "text/html": [
       "<div>\n",
       "<style scoped>\n",
       "    .dataframe tbody tr th:only-of-type {\n",
       "        vertical-align: middle;\n",
       "    }\n",
       "\n",
       "    .dataframe tbody tr th {\n",
       "        vertical-align: top;\n",
       "    }\n",
       "\n",
       "    .dataframe thead th {\n",
       "        text-align: right;\n",
       "    }\n",
       "</style>\n",
       "<table border=\"1\" class=\"dataframe\">\n",
       "  <thead>\n",
       "    <tr style=\"text-align: right;\">\n",
       "      <th></th>\n",
       "      <th>var</th>\n",
       "      <th>type</th>\n",
       "    </tr>\n",
       "  </thead>\n",
       "  <tbody>\n",
       "    <tr>\n",
       "      <th>0</th>\n",
       "      <td>id</td>\n",
       "      <td>float64</td>\n",
       "    </tr>\n",
       "    <tr>\n",
       "      <th>1</th>\n",
       "      <td>click</td>\n",
       "      <td>int64</td>\n",
       "    </tr>\n",
       "    <tr>\n",
       "      <th>2</th>\n",
       "      <td>hour</td>\n",
       "      <td>int64</td>\n",
       "    </tr>\n",
       "    <tr>\n",
       "      <th>3</th>\n",
       "      <td>C1</td>\n",
       "      <td>int64</td>\n",
       "    </tr>\n",
       "    <tr>\n",
       "      <th>4</th>\n",
       "      <td>banner_pos</td>\n",
       "      <td>int64</td>\n",
       "    </tr>\n",
       "    <tr>\n",
       "      <th>5</th>\n",
       "      <td>site_id</td>\n",
       "      <td>object</td>\n",
       "    </tr>\n",
       "    <tr>\n",
       "      <th>6</th>\n",
       "      <td>site_domain</td>\n",
       "      <td>object</td>\n",
       "    </tr>\n",
       "    <tr>\n",
       "      <th>7</th>\n",
       "      <td>site_category</td>\n",
       "      <td>object</td>\n",
       "    </tr>\n",
       "    <tr>\n",
       "      <th>8</th>\n",
       "      <td>app_id</td>\n",
       "      <td>object</td>\n",
       "    </tr>\n",
       "    <tr>\n",
       "      <th>9</th>\n",
       "      <td>app_domain</td>\n",
       "      <td>object</td>\n",
       "    </tr>\n",
       "    <tr>\n",
       "      <th>10</th>\n",
       "      <td>app_category</td>\n",
       "      <td>object</td>\n",
       "    </tr>\n",
       "    <tr>\n",
       "      <th>11</th>\n",
       "      <td>device_id</td>\n",
       "      <td>object</td>\n",
       "    </tr>\n",
       "    <tr>\n",
       "      <th>12</th>\n",
       "      <td>device_ip</td>\n",
       "      <td>object</td>\n",
       "    </tr>\n",
       "    <tr>\n",
       "      <th>13</th>\n",
       "      <td>device_model</td>\n",
       "      <td>object</td>\n",
       "    </tr>\n",
       "    <tr>\n",
       "      <th>14</th>\n",
       "      <td>device_type</td>\n",
       "      <td>int64</td>\n",
       "    </tr>\n",
       "    <tr>\n",
       "      <th>15</th>\n",
       "      <td>device_conn_type</td>\n",
       "      <td>int64</td>\n",
       "    </tr>\n",
       "    <tr>\n",
       "      <th>16</th>\n",
       "      <td>C14</td>\n",
       "      <td>int64</td>\n",
       "    </tr>\n",
       "    <tr>\n",
       "      <th>17</th>\n",
       "      <td>C15</td>\n",
       "      <td>int64</td>\n",
       "    </tr>\n",
       "    <tr>\n",
       "      <th>18</th>\n",
       "      <td>C16</td>\n",
       "      <td>int64</td>\n",
       "    </tr>\n",
       "    <tr>\n",
       "      <th>19</th>\n",
       "      <td>C17</td>\n",
       "      <td>int64</td>\n",
       "    </tr>\n",
       "    <tr>\n",
       "      <th>20</th>\n",
       "      <td>C18</td>\n",
       "      <td>int64</td>\n",
       "    </tr>\n",
       "    <tr>\n",
       "      <th>21</th>\n",
       "      <td>C19</td>\n",
       "      <td>int64</td>\n",
       "    </tr>\n",
       "    <tr>\n",
       "      <th>22</th>\n",
       "      <td>C20</td>\n",
       "      <td>int64</td>\n",
       "    </tr>\n",
       "    <tr>\n",
       "      <th>23</th>\n",
       "      <td>C21</td>\n",
       "      <td>int64</td>\n",
       "    </tr>\n",
       "  </tbody>\n",
       "</table>\n",
       "</div>"
      ],
      "text/plain": [
       "                 var     type\n",
       "0                 id  float64\n",
       "1              click    int64\n",
       "2               hour    int64\n",
       "3                 C1    int64\n",
       "4         banner_pos    int64\n",
       "5            site_id   object\n",
       "6        site_domain   object\n",
       "7      site_category   object\n",
       "8             app_id   object\n",
       "9         app_domain   object\n",
       "10      app_category   object\n",
       "11         device_id   object\n",
       "12         device_ip   object\n",
       "13      device_model   object\n",
       "14       device_type    int64\n",
       "15  device_conn_type    int64\n",
       "16               C14    int64\n",
       "17               C15    int64\n",
       "18               C16    int64\n",
       "19               C17    int64\n",
       "20               C18    int64\n",
       "21               C19    int64\n",
       "22               C20    int64\n",
       "23               C21    int64"
      ]
     },
     "execution_count": 6,
     "metadata": {},
     "output_type": "execute_result"
    }
   ],
   "source": [
    "############### 1st method : types of variables using dtype #############\"\n",
    "\n",
    "\n",
    "var_dtypes=pd.DataFrame(df.dtypes)  ### get types of each column and transform to dataframe\n",
    "var_dtypes=var_dtypes.reset_index() ## resetting index to get var name\n",
    "var_dtypes.columns=['var','type']  ## renaming columns\n",
    "print (\"Types of variables :\")  ### print var\n",
    "var_dtypes"
   ]
  },
  {
   "cell_type": "code",
   "execution_count": 7,
   "metadata": {},
   "outputs": [
    {
     "name": "stdout",
     "output_type": "stream",
     "text": [
      "List of categorical features : \n"
     ]
    },
    {
     "data": {
      "text/plain": [
       "['site_id',\n",
       " 'site_domain',\n",
       " 'site_category',\n",
       " 'app_id',\n",
       " 'app_domain',\n",
       " 'app_category',\n",
       " 'device_id',\n",
       " 'device_ip',\n",
       " 'device_model',\n",
       " 'hour',\n",
       " 'C1',\n",
       " 'banner_pos',\n",
       " 'device_type',\n",
       " 'device_conn_type',\n",
       " 'C14',\n",
       " 'C15',\n",
       " 'C16',\n",
       " 'C17',\n",
       " 'C18',\n",
       " 'C19',\n",
       " 'C20',\n",
       " 'C21']"
      ]
     },
     "execution_count": 7,
     "metadata": {},
     "output_type": "execute_result"
    }
   ],
   "source": [
    "\n",
    "############# Getting categorical variables ,object types and we precize the rest ############\n",
    "\n",
    "listategorical=var_dtypes[(var_dtypes.type=='object')][\"var\"].values.tolist() + ['hour','C1','banner_pos','device_type','device_conn_type']+['C'+str(i) for i in [14,15,16,17,18,19,20,21]]\n",
    "len(listategorical)\n",
    "print(\"List of categorical features : \")\n",
    "listategorical"
   ]
  },
  {
   "cell_type": "code",
   "execution_count": 8,
   "metadata": {},
   "outputs": [
    {
     "name": "stdout",
     "output_type": "stream",
     "text": [
      "list of categorical with occurences\n"
     ]
    },
    {
     "data": {
      "text/html": [
       "<div>\n",
       "<style scoped>\n",
       "    .dataframe tbody tr th:only-of-type {\n",
       "        vertical-align: middle;\n",
       "    }\n",
       "\n",
       "    .dataframe tbody tr th {\n",
       "        vertical-align: top;\n",
       "    }\n",
       "\n",
       "    .dataframe thead th {\n",
       "        text-align: right;\n",
       "    }\n",
       "</style>\n",
       "<table border=\"1\" class=\"dataframe\">\n",
       "  <thead>\n",
       "    <tr style=\"text-align: right;\">\n",
       "      <th></th>\n",
       "      <th>variable</th>\n",
       "      <th>countocc</th>\n",
       "    </tr>\n",
       "  </thead>\n",
       "  <tbody>\n",
       "    <tr>\n",
       "      <th>2</th>\n",
       "      <td>hour</td>\n",
       "      <td>240</td>\n",
       "    </tr>\n",
       "    <tr>\n",
       "      <th>3</th>\n",
       "      <td>C1</td>\n",
       "      <td>7</td>\n",
       "    </tr>\n",
       "    <tr>\n",
       "      <th>4</th>\n",
       "      <td>banner_pos</td>\n",
       "      <td>7</td>\n",
       "    </tr>\n",
       "    <tr>\n",
       "      <th>5</th>\n",
       "      <td>site_id</td>\n",
       "      <td>2651</td>\n",
       "    </tr>\n",
       "    <tr>\n",
       "      <th>6</th>\n",
       "      <td>site_domain</td>\n",
       "      <td>2871</td>\n",
       "    </tr>\n",
       "    <tr>\n",
       "      <th>7</th>\n",
       "      <td>site_category</td>\n",
       "      <td>22</td>\n",
       "    </tr>\n",
       "    <tr>\n",
       "      <th>8</th>\n",
       "      <td>app_id</td>\n",
       "      <td>3157</td>\n",
       "    </tr>\n",
       "    <tr>\n",
       "      <th>9</th>\n",
       "      <td>app_domain</td>\n",
       "      <td>198</td>\n",
       "    </tr>\n",
       "    <tr>\n",
       "      <th>10</th>\n",
       "      <td>app_category</td>\n",
       "      <td>26</td>\n",
       "    </tr>\n",
       "    <tr>\n",
       "      <th>11</th>\n",
       "      <td>device_id</td>\n",
       "      <td>150501</td>\n",
       "    </tr>\n",
       "    <tr>\n",
       "      <th>12</th>\n",
       "      <td>device_ip</td>\n",
       "      <td>555248</td>\n",
       "    </tr>\n",
       "    <tr>\n",
       "      <th>13</th>\n",
       "      <td>device_model</td>\n",
       "      <td>5168</td>\n",
       "    </tr>\n",
       "    <tr>\n",
       "      <th>14</th>\n",
       "      <td>device_type</td>\n",
       "      <td>5</td>\n",
       "    </tr>\n",
       "    <tr>\n",
       "      <th>15</th>\n",
       "      <td>device_conn_type</td>\n",
       "      <td>4</td>\n",
       "    </tr>\n",
       "    <tr>\n",
       "      <th>16</th>\n",
       "      <td>C14</td>\n",
       "      <td>2243</td>\n",
       "    </tr>\n",
       "    <tr>\n",
       "      <th>17</th>\n",
       "      <td>C15</td>\n",
       "      <td>8</td>\n",
       "    </tr>\n",
       "    <tr>\n",
       "      <th>18</th>\n",
       "      <td>C16</td>\n",
       "      <td>9</td>\n",
       "    </tr>\n",
       "    <tr>\n",
       "      <th>19</th>\n",
       "      <td>C17</td>\n",
       "      <td>420</td>\n",
       "    </tr>\n",
       "    <tr>\n",
       "      <th>20</th>\n",
       "      <td>C18</td>\n",
       "      <td>4</td>\n",
       "    </tr>\n",
       "    <tr>\n",
       "      <th>21</th>\n",
       "      <td>C19</td>\n",
       "      <td>66</td>\n",
       "    </tr>\n",
       "    <tr>\n",
       "      <th>22</th>\n",
       "      <td>C20</td>\n",
       "      <td>163</td>\n",
       "    </tr>\n",
       "    <tr>\n",
       "      <th>23</th>\n",
       "      <td>C21</td>\n",
       "      <td>60</td>\n",
       "    </tr>\n",
       "  </tbody>\n",
       "</table>\n",
       "</div>"
      ],
      "text/plain": [
       "            variable  countocc\n",
       "2               hour       240\n",
       "3                 C1         7\n",
       "4         banner_pos         7\n",
       "5            site_id      2651\n",
       "6        site_domain      2871\n",
       "7      site_category        22\n",
       "8             app_id      3157\n",
       "9         app_domain       198\n",
       "10      app_category        26\n",
       "11         device_id    150501\n",
       "12         device_ip    555248\n",
       "13      device_model      5168\n",
       "14       device_type         5\n",
       "15  device_conn_type         4\n",
       "16               C14      2243\n",
       "17               C15         8\n",
       "18               C16         9\n",
       "19               C17       420\n",
       "20               C18         4\n",
       "21               C19        66\n",
       "22               C20       163\n",
       "23               C21        60"
      ]
     },
     "execution_count": 8,
     "metadata": {},
     "output_type": "execute_result"
    }
   ],
   "source": [
    "################\" var tyepes using count of unique values in each field###########\n",
    "\n",
    "types_count=pd.DataFrame(df.nunique()).reset_index() ## get count of unique element in each column\n",
    "types_count.columns=[\"variable\",\"countocc\"] ## renaming dataframe\n",
    "types_count=types_count[types_count.variable != 'click'] ## removing target\n",
    "countype_categorical=types_count[types_count.countocc < 1000000]  ### keeping variables having less than the nmber of obs\n",
    "print(\"list of categorical with occurences\")\n",
    "countype_categorical"
   ]
  },
  {
   "cell_type": "markdown",
   "metadata": {},
   "source": [
    "Some variable appear to have a very high number of unique values, especially the device-id and the device ip , which suggests the values may be specific to a small number of training examples and could be a candidate for removal to reduce features, as they do not include generalisable information."
   ]
  },
  {
   "cell_type": "markdown",
   "metadata": {},
   "source": [
    "<font color=\"red\">**Question 4:**\n",
    "    If one does a dummy encoding of all categorical variables, what would be the dimension of the model?\n",
    "    In other words: what would be the dimension of our big feature vector encoded with dummies. \n",
    "    <br>\n",
    "</font>"
   ]
  },
  {
   "cell_type": "code",
   "execution_count": 9,
   "metadata": {
    "scrolled": true
   },
   "outputs": [
    {
     "name": "stdout",
     "output_type": "stream",
     "text": [
      " Nummber of features is : 723078\n"
     ]
    }
   ],
   "source": [
    "####  number of featres#####\n",
    "\n",
    "n_continuous=sum(countype_categorical.countocc.tolist()) ### we use the countocc variablein the previous dataframe\n",
    "print ( \" Nummber of features is : %s\"%( n_continuous))"
   ]
  },
  {
   "cell_type": "markdown",
   "metadata": {},
   "source": [
    "<font color=\"red\">**Question 5:**\n",
    "    Analyze the 'hour' column: which format is used? How can we transform/simply this feature?\n",
    "</font>"
   ]
  },
  {
   "cell_type": "code",
   "execution_count": 10,
   "metadata": {
    "scrolled": true
   },
   "outputs": [
    {
     "name": "stdout",
     "output_type": "stream",
     "text": [
      "Header of hour column\n"
     ]
    },
    {
     "data": {
      "text/plain": [
       "0    14102915\n",
       "1    14103007\n",
       "2    14102711\n",
       "3    14102903\n",
       "4    14102902\n",
       "Name: hour, dtype: int64"
      ]
     },
     "execution_count": 10,
     "metadata": {},
     "output_type": "execute_result"
    }
   ],
   "source": [
    "print(\"Header of hour column\")\n",
    "\n",
    "df['hour'].head() #### print header"
   ]
  },
  {
   "cell_type": "markdown",
   "metadata": {},
   "source": [
    "The format is YYMMDDHH, so 14091123 means 23:00 on Sept. 11, 2014 UTC \n",
    "If we want to process the date , we need to extract each field separetely \n",
    " * the hour = last two integer\n",
    " * the day = integers withe indexes 4 & 5\n",
    " * the month = integers with indexes 2 & 3\n",
    " * the year = the first tw integers"
   ]
  },
  {
   "cell_type": "markdown",
   "metadata": {},
   "source": [
    "<font color=\"red\">**Question 6:**\n",
    "    Run and understand the following script.\n",
    "</font>"
   ]
  },
  {
   "cell_type": "code",
   "execution_count": 11,
   "metadata": {},
   "outputs": [
    {
     "data": {
      "text/plain": [
       "(2, 15)"
      ]
     },
     "execution_count": 11,
     "metadata": {},
     "output_type": "execute_result"
    }
   ],
   "source": [
    "def datesplit(originalDate):\n",
    "    originalDate = str(originalDate)\n",
    "    \n",
    "    year = int(\"20\" + originalDate[0:2])\n",
    "    month = int(originalDate[2:4])\n",
    "    day = int(originalDate[4:6])\n",
    "    hour = int(originalDate[6:8])\n",
    "    \n",
    "    return datetime.datetime(year, month, day, hour)\n",
    "\n",
    "# Exemple :\n",
    "datesplit(14102915).weekday(), datesplit(14102915).hour"
   ]
  },
  {
   "cell_type": "markdown",
   "metadata": {},
   "source": [
    "\n",
    "The scrit extacts the year , the month , the day and the hour from the date column after transforming it into string, then create a datetime object with the extracted entities . \n",
    "The example shows how we can extract the weekday and the hour from \"14102915\""
   ]
  },
  {
   "cell_type": "markdown",
   "metadata": {},
   "source": [
    "<font color=\"red\">**Question 7:**\n",
    "    Using the \".apply( ... )\" method, create a 'weekday' for the day of the week. Then, replace the 'hour' column by the hour.\n",
    "</font>"
   ]
  },
  {
   "cell_type": "markdown",
   "metadata": {},
   "source": [
    "To answer this question you have to understand that applies takes a function as argument\n",
    "<br>\n",
    "\"lambda x: ... \" is used to create local unamed function of x\n",
    "<br>\n",
    "Check the documentation: https://docs.python.org/3/tutorial/controlflow.html#lambda-expressions"
   ]
  },
  {
   "cell_type": "code",
   "execution_count": 12,
   "metadata": {},
   "outputs": [
    {
     "data": {
      "text/html": [
       "<div>\n",
       "<style scoped>\n",
       "    .dataframe tbody tr th:only-of-type {\n",
       "        vertical-align: middle;\n",
       "    }\n",
       "\n",
       "    .dataframe tbody tr th {\n",
       "        vertical-align: top;\n",
       "    }\n",
       "\n",
       "    .dataframe thead th {\n",
       "        text-align: right;\n",
       "    }\n",
       "</style>\n",
       "<table border=\"1\" class=\"dataframe\">\n",
       "  <thead>\n",
       "    <tr style=\"text-align: right;\">\n",
       "      <th></th>\n",
       "      <th>hour</th>\n",
       "      <th>weekday</th>\n",
       "    </tr>\n",
       "  </thead>\n",
       "  <tbody>\n",
       "    <tr>\n",
       "      <th>0</th>\n",
       "      <td>15</td>\n",
       "      <td>2</td>\n",
       "    </tr>\n",
       "    <tr>\n",
       "      <th>1</th>\n",
       "      <td>7</td>\n",
       "      <td>3</td>\n",
       "    </tr>\n",
       "    <tr>\n",
       "      <th>2</th>\n",
       "      <td>11</td>\n",
       "      <td>0</td>\n",
       "    </tr>\n",
       "    <tr>\n",
       "      <th>3</th>\n",
       "      <td>3</td>\n",
       "      <td>2</td>\n",
       "    </tr>\n",
       "    <tr>\n",
       "      <th>4</th>\n",
       "      <td>2</td>\n",
       "      <td>2</td>\n",
       "    </tr>\n",
       "  </tbody>\n",
       "</table>\n",
       "</div>"
      ],
      "text/plain": [
       "   hour  weekday\n",
       "0    15        2\n",
       "1     7        3\n",
       "2    11        0\n",
       "3     3        2\n",
       "4     2        2"
      ]
     },
     "execution_count": 12,
     "metadata": {},
     "output_type": "execute_result"
    }
   ],
   "source": [
    "df['weekday'] = df[\"hour\"].apply(lambda x:datesplit(x).weekday()).values  #### weekday field\n",
    "df['hour'] = df[\"hour\"].apply(lambda x:datesplit(x).hour).values ### hour field\n",
    "df[['hour','weekday']].head() ### print "
   ]
  },
  {
   "cell_type": "markdown",
   "metadata": {},
   "source": [
    "<font color=\"red\">**Question 8:**\n",
    "    Using the \".groupby( ... )\" method, visualize the influence of the hour and of the day on the 'click' frequency. To do so, plot 'click' vs 'hour' and 'click' vs 'weekday' curves.\n",
    "</font>"
   ]
  },
  {
   "cell_type": "code",
   "execution_count": 13,
   "metadata": {},
   "outputs": [
    {
     "name": "stdout",
     "output_type": "stream",
     "text": [
      "    hour     click\n",
      "0      0  0.182707\n",
      "1      1  0.185734\n",
      "2      2  0.175552\n",
      "3      3  0.175367\n",
      "4      4  0.159664\n",
      "5      5  0.162126\n",
      "6      6  0.169315\n",
      "7      7  0.177490\n",
      "8      8  0.163418\n",
      "9      9  0.159042\n",
      "10    10  0.162613\n",
      "11    11  0.171025\n",
      "12    12  0.171659\n",
      "13    13  0.168032\n",
      "14    14  0.178075\n",
      "15    15  0.183737\n",
      "16    16  0.180076\n",
      "17    17  0.173271\n",
      "18    18  0.164072\n",
      "19    19  0.165725\n",
      "20    20  0.158402\n",
      "21    21  0.162384\n",
      "22    22  0.166847\n",
      "23    23  0.170733\n",
      "   weekday     click\n",
      "0        0  0.183143\n",
      "1        1  0.161577\n",
      "2        2  0.158675\n",
      "3        3  0.173795\n",
      "4        4  0.173392\n",
      "5        5  0.183995\n",
      "6        6  0.183105\n"
     ]
    }
   ],
   "source": [
    "print(df.groupby(by='hour').click.mean().reset_index()) # group click mean by hour \n",
    "print(df.groupby(by='weekday').click.mean().reset_index()) # group lick mean by weekday"
   ]
  },
  {
   "cell_type": "code",
   "execution_count": 14,
   "metadata": {},
   "outputs": [
    {
     "data": {
      "image/png": "[encoded data removed]",
      "text/plain": [
       "<Figure size 1440x432 with 1 Axes>"
      ]
     },
     "metadata": {},
     "output_type": "display_data"
    }
   ],
   "source": [
    "################################### plotting mean click per hour ############################\n",
    "\n",
    "plt.figure(figsize=(20,6))\n",
    "\n",
    "data_hours=df.groupby(by='hour').click.mean().reset_index()\n",
    "\n",
    "# plot hour-click with matplotlib\n",
    "plt.plot('hour', 'click', data=data_hours, marker='o', color='mediumvioletred')\n",
    "plt.title(\"click per hour of day\")\n",
    "plt.show()\n"
   ]
  },
  {
   "cell_type": "code",
   "execution_count": 15,
   "metadata": {},
   "outputs": [
    {
     "data": {
      "image/png": "[encoded data removed]",
      "text/plain": [
       "<Figure size 1440x432 with 1 Axes>"
      ]
     },
     "metadata": {},
     "output_type": "display_data"
    }
   ],
   "source": [
    "################################### plotting mean click per weekday ############################\n",
    "\n",
    "\n",
    "plt.figure(figsize=(20,6))\n",
    "\n",
    "# plot weekday click with matplotlib\n",
    "data_day=df.groupby(by='weekday').click.mean().reset_index()\n",
    "plt.plot('weekday', 'click', data=data_day, marker='o', color='mediumvioletred')\n",
    "plt.title(\"click per  day of week\")\n",
    "plt.show()"
   ]
  },
  {
   "cell_type": "markdown",
   "metadata": {},
   "source": [
    "<font color=\"red\">**Question 9:**\n",
    "    Explain what the axes stand for and try to interpret the shape of the obtained curves.\n",
    "</font>"
   ]
  },
  {
   "cell_type": "markdown",
   "metadata": {},
   "source": [
    "In the plots above , we presented the probability of click per hour and per weekday.\n",
    "Here , we see that the probability of click varies significantly between each hour, with predominant clicks (peaks ) throughout the beginning of morning , in the afternoon and late in  the night . \n",
    "The first peak around 7h may corresponds to the time we spend early in the morning either in transportation or during breakfast where people have the time to navigate with their devices . \n",
    "The second peak is at the middle of the afternoon where most of people can navigate during their cafe break or work .\n",
    "The second plot show that the probability of click is higher in the weekend wich is obvious because people  have more time to spend in the internet. \n"
   ]
  },
  {
   "cell_type": "markdown",
   "metadata": {},
   "source": [
    "# Preliminary work and first model"
   ]
  },
  {
   "cell_type": "markdown",
   "metadata": {},
   "source": [
    "Start by understanding the features with few modalities:\n",
    "'hour', 'weekday', 'C1', 'banner_pos', 'site_category', 'app_category', 'device_type', 'device_conn_type', 'C15', 'C16', 'C18', 'C21'."
   ]
  },
  {
   "cell_type": "markdown",
   "metadata": {},
   "source": [
    "<font color=\"red\">**Question 10:**\n",
    "    For instance, inspect the columns 'C15' (dimension of the advert) and 'site_category': visualize the clicks mean.\n",
    "</font>"
   ]
  },
  {
   "cell_type": "markdown",
   "metadata": {},
   "source": [
    "Let's plot the mean of click per category of C15"
   ]
  },
  {
   "cell_type": "code",
   "execution_count": 16,
   "metadata": {},
   "outputs": [
    {
     "data": {
      "text/html": [
       "<div>\n",
       "<style scoped>\n",
       "    .dataframe tbody tr th:only-of-type {\n",
       "        vertical-align: middle;\n",
       "    }\n",
       "\n",
       "    .dataframe tbody tr th {\n",
       "        vertical-align: top;\n",
       "    }\n",
       "\n",
       "    .dataframe thead th {\n",
       "        text-align: right;\n",
       "    }\n",
       "</style>\n",
       "<table border=\"1\" class=\"dataframe\">\n",
       "  <thead>\n",
       "    <tr style=\"text-align: right;\">\n",
       "      <th></th>\n",
       "      <th>C15</th>\n",
       "      <th>click</th>\n",
       "    </tr>\n",
       "  </thead>\n",
       "  <tbody>\n",
       "    <tr>\n",
       "      <th>0</th>\n",
       "      <td>120</td>\n",
       "      <td>0.033708</td>\n",
       "    </tr>\n",
       "    <tr>\n",
       "      <th>1</th>\n",
       "      <td>216</td>\n",
       "      <td>0.129612</td>\n",
       "    </tr>\n",
       "    <tr>\n",
       "      <th>2</th>\n",
       "      <td>300</td>\n",
       "      <td>0.360537</td>\n",
       "    </tr>\n",
       "    <tr>\n",
       "      <th>3</th>\n",
       "      <td>320</td>\n",
       "      <td>0.158767</td>\n",
       "    </tr>\n",
       "    <tr>\n",
       "      <th>4</th>\n",
       "      <td>480</td>\n",
       "      <td>0.285714</td>\n",
       "    </tr>\n",
       "    <tr>\n",
       "      <th>5</th>\n",
       "      <td>728</td>\n",
       "      <td>0.054144</td>\n",
       "    </tr>\n",
       "    <tr>\n",
       "      <th>6</th>\n",
       "      <td>768</td>\n",
       "      <td>0.375000</td>\n",
       "    </tr>\n",
       "    <tr>\n",
       "      <th>7</th>\n",
       "      <td>1024</td>\n",
       "      <td>0.166667</td>\n",
       "    </tr>\n",
       "  </tbody>\n",
       "</table>\n",
       "</div>"
      ],
      "text/plain": [
       "    C15     click\n",
       "0   120  0.033708\n",
       "1   216  0.129612\n",
       "2   300  0.360537\n",
       "3   320  0.158767\n",
       "4   480  0.285714\n",
       "5   728  0.054144\n",
       "6   768  0.375000\n",
       "7  1024  0.166667"
      ]
     },
     "execution_count": 16,
     "metadata": {},
     "output_type": "execute_result"
    },
    {
     "data": {
      "image/png": "[encoded data removed]",
      "text/plain": [
       "<Figure size 1080x576 with 1 Axes>"
      ]
     },
     "metadata": {},
     "output_type": "display_data"
    }
   ],
   "source": [
    "tmp=df.groupby(by='C15').click.mean().reset_index()  ##### mean click per c15\n",
    "tmp=tmp.pivot_table(index=['C15'], values='click') ### pivoting table tohave categories in columns\n",
    "tmp.plot.bar(stacked=True, width=0.7, figsize=(15,8), color='mediumvioletred',title=\"Mean CLICK per C15\")## stackplot\n",
    "df.groupby(by='C15').click.mean().reset_index() ## mean click per c15 modality\n"
   ]
  },
  {
   "cell_type": "markdown",
   "metadata": {},
   "source": [
    "The distribution of mean click is quite unbalanced ..We also would like to observe the counts of click and no click for each category of C15"
   ]
  },
  {
   "cell_type": "code",
   "execution_count": 17,
   "metadata": {
    "scrolled": false
   },
   "outputs": [
    {
     "name": "stdout",
     "output_type": "stream",
     "text": [
      " click or not per dimension of advert - C15  \n"
     ]
    },
    {
     "data": {
      "text/html": [
       "<div>\n",
       "<style scoped>\n",
       "    .dataframe tbody tr th:only-of-type {\n",
       "        vertical-align: middle;\n",
       "    }\n",
       "\n",
       "    .dataframe tbody tr th {\n",
       "        vertical-align: top;\n",
       "    }\n",
       "\n",
       "    .dataframe thead th {\n",
       "        text-align: right;\n",
       "    }\n",
       "</style>\n",
       "<table border=\"1\" class=\"dataframe\">\n",
       "  <thead>\n",
       "    <tr style=\"text-align: right;\">\n",
       "      <th>click</th>\n",
       "      <th>0</th>\n",
       "      <th>1</th>\n",
       "    </tr>\n",
       "    <tr>\n",
       "      <th>C15</th>\n",
       "      <th></th>\n",
       "      <th></th>\n",
       "    </tr>\n",
       "  </thead>\n",
       "  <tbody>\n",
       "    <tr>\n",
       "      <th>120</th>\n",
       "      <td>86</td>\n",
       "      <td>3</td>\n",
       "    </tr>\n",
       "    <tr>\n",
       "      <th>216</th>\n",
       "      <td>6393</td>\n",
       "      <td>952</td>\n",
       "    </tr>\n",
       "    <tr>\n",
       "      <th>300</th>\n",
       "      <td>36764</td>\n",
       "      <td>20728</td>\n",
       "    </tr>\n",
       "    <tr>\n",
       "      <th>320</th>\n",
       "      <td>784944</td>\n",
       "      <td>148144</td>\n",
       "    </tr>\n",
       "    <tr>\n",
       "      <th>480</th>\n",
       "      <td>40</td>\n",
       "      <td>16</td>\n",
       "    </tr>\n",
       "    <tr>\n",
       "      <th>728</th>\n",
       "      <td>1712</td>\n",
       "      <td>98</td>\n",
       "    </tr>\n",
       "    <tr>\n",
       "      <th>768</th>\n",
       "      <td>30</td>\n",
       "      <td>18</td>\n",
       "    </tr>\n",
       "    <tr>\n",
       "      <th>1024</th>\n",
       "      <td>60</td>\n",
       "      <td>12</td>\n",
       "    </tr>\n",
       "  </tbody>\n",
       "</table>\n",
       "</div>"
      ],
      "text/plain": [
       "click       0       1\n",
       "C15                  \n",
       "120        86       3\n",
       "216      6393     952\n",
       "300     36764   20728\n",
       "320    784944  148144\n",
       "480        40      16\n",
       "728      1712      98\n",
       "768        30      18\n",
       "1024       60      12"
      ]
     },
     "execution_count": 17,
     "metadata": {},
     "output_type": "execute_result"
    },
    {
     "data": {
      "image/png": "[encoded data removed]",
      "text/plain": [
       "<Figure size 1080x720 with 1 Axes>"
      ]
     },
     "metadata": {},
     "output_type": "display_data"
    }
   ],
   "source": [
    "\n",
    "# number of clicks & no clicks by C15\n",
    "c15_type_table=pd.crosstab(index=df['C15'],columns=df['click'])\n",
    "print(\" click or not per dimension of advert - C15  \")\n",
    "c15_type_table.plot(kind='bar',figsize=(15,10),stacked=True,title=\"Count of click/non click by C15\")\n",
    "c15_type_table\n"
   ]
  },
  {
   "cell_type": "markdown",
   "metadata": {},
   "source": [
    "Here we see that there are some categories that generate  a high probability of click even if they are a minority in the the dataset ( the category 768  ) , so we need to put more attention to this behaviour in our  modelling"
   ]
  },
  {
   "cell_type": "markdown",
   "metadata": {},
   "source": [
    "Now let's inspect the click per site category :"
   ]
  },
  {
   "cell_type": "code",
   "execution_count": 18,
   "metadata": {
    "scrolled": false
   },
   "outputs": [
    {
     "data": {
      "text/html": [
       "<div>\n",
       "<style scoped>\n",
       "    .dataframe tbody tr th:only-of-type {\n",
       "        vertical-align: middle;\n",
       "    }\n",
       "\n",
       "    .dataframe tbody tr th {\n",
       "        vertical-align: top;\n",
       "    }\n",
       "\n",
       "    .dataframe thead th {\n",
       "        text-align: right;\n",
       "    }\n",
       "</style>\n",
       "<table border=\"1\" class=\"dataframe\">\n",
       "  <thead>\n",
       "    <tr style=\"text-align: right;\">\n",
       "      <th></th>\n",
       "      <th>site_category</th>\n",
       "      <th>click</th>\n",
       "    </tr>\n",
       "  </thead>\n",
       "  <tbody>\n",
       "    <tr>\n",
       "      <th>0</th>\n",
       "      <td>0569f928</td>\n",
       "      <td>0.053613</td>\n",
       "    </tr>\n",
       "    <tr>\n",
       "      <th>1</th>\n",
       "      <td>28905ebd</td>\n",
       "      <td>0.208076</td>\n",
       "    </tr>\n",
       "    <tr>\n",
       "      <th>2</th>\n",
       "      <td>335d28a8</td>\n",
       "      <td>0.089824</td>\n",
       "    </tr>\n",
       "    <tr>\n",
       "      <th>3</th>\n",
       "      <td>3e814130</td>\n",
       "      <td>0.284245</td>\n",
       "    </tr>\n",
       "    <tr>\n",
       "      <th>4</th>\n",
       "      <td>42a36e14</td>\n",
       "      <td>0.225806</td>\n",
       "    </tr>\n",
       "    <tr>\n",
       "      <th>5</th>\n",
       "      <td>50e219e0</td>\n",
       "      <td>0.128597</td>\n",
       "    </tr>\n",
       "    <tr>\n",
       "      <th>6</th>\n",
       "      <td>5378d028</td>\n",
       "      <td>0.000000</td>\n",
       "    </tr>\n",
       "    <tr>\n",
       "      <th>7</th>\n",
       "      <td>70fb0e29</td>\n",
       "      <td>0.144737</td>\n",
       "    </tr>\n",
       "    <tr>\n",
       "      <th>8</th>\n",
       "      <td>72722551</td>\n",
       "      <td>0.059172</td>\n",
       "    </tr>\n",
       "    <tr>\n",
       "      <th>9</th>\n",
       "      <td>75fa27f6</td>\n",
       "      <td>0.111305</td>\n",
       "    </tr>\n",
       "    <tr>\n",
       "      <th>10</th>\n",
       "      <td>76b2941d</td>\n",
       "      <td>0.035756</td>\n",
       "    </tr>\n",
       "    <tr>\n",
       "      <th>11</th>\n",
       "      <td>8fd0aea4</td>\n",
       "      <td>0.015873</td>\n",
       "    </tr>\n",
       "    <tr>\n",
       "      <th>12</th>\n",
       "      <td>9ccfa2ea</td>\n",
       "      <td>0.000000</td>\n",
       "    </tr>\n",
       "    <tr>\n",
       "      <th>13</th>\n",
       "      <td>a818d37a</td>\n",
       "      <td>0.000000</td>\n",
       "    </tr>\n",
       "    <tr>\n",
       "      <th>14</th>\n",
       "      <td>bcf865d9</td>\n",
       "      <td>0.000000</td>\n",
       "    </tr>\n",
       "    <tr>\n",
       "      <th>15</th>\n",
       "      <td>c0dd3be3</td>\n",
       "      <td>0.128655</td>\n",
       "    </tr>\n",
       "    <tr>\n",
       "      <th>16</th>\n",
       "      <td>c706e647</td>\n",
       "      <td>0.000000</td>\n",
       "    </tr>\n",
       "    <tr>\n",
       "      <th>17</th>\n",
       "      <td>da34532e</td>\n",
       "      <td>0.000000</td>\n",
       "    </tr>\n",
       "    <tr>\n",
       "      <th>18</th>\n",
       "      <td>dedf689d</td>\n",
       "      <td>0.530449</td>\n",
       "    </tr>\n",
       "    <tr>\n",
       "      <th>19</th>\n",
       "      <td>e787de0e</td>\n",
       "      <td>0.000000</td>\n",
       "    </tr>\n",
       "    <tr>\n",
       "      <th>20</th>\n",
       "      <td>f028772b</td>\n",
       "      <td>0.179719</td>\n",
       "    </tr>\n",
       "    <tr>\n",
       "      <th>21</th>\n",
       "      <td>f66779e6</td>\n",
       "      <td>0.034564</td>\n",
       "    </tr>\n",
       "  </tbody>\n",
       "</table>\n",
       "</div>"
      ],
      "text/plain": [
       "   site_category     click\n",
       "0       0569f928  0.053613\n",
       "1       28905ebd  0.208076\n",
       "2       335d28a8  0.089824\n",
       "3       3e814130  0.284245\n",
       "4       42a36e14  0.225806\n",
       "5       50e219e0  0.128597\n",
       "6       5378d028  0.000000\n",
       "7       70fb0e29  0.144737\n",
       "8       72722551  0.059172\n",
       "9       75fa27f6  0.111305\n",
       "10      76b2941d  0.035756\n",
       "11      8fd0aea4  0.015873\n",
       "12      9ccfa2ea  0.000000\n",
       "13      a818d37a  0.000000\n",
       "14      bcf865d9  0.000000\n",
       "15      c0dd3be3  0.128655\n",
       "16      c706e647  0.000000\n",
       "17      da34532e  0.000000\n",
       "18      dedf689d  0.530449\n",
       "19      e787de0e  0.000000\n",
       "20      f028772b  0.179719\n",
       "21      f66779e6  0.034564"
      ]
     },
     "execution_count": 18,
     "metadata": {},
     "output_type": "execute_result"
    },
    {
     "data": {
      "image/png": "[encoded data removed]",
      "text/plain": [
       "<Figure size 1080x576 with 1 Axes>"
      ]
     },
     "metadata": {},
     "output_type": "display_data"
    }
   ],
   "source": [
    "tmp=df.groupby(by='site_category').click.mean().reset_index()  ### mean click per site-category\n",
    "tmp=tmp.pivot_table(index=['site_category'], values='click') ### pivoting table\n",
    "tmp.plot.bar(stacked=True, width=0.7, figsize=(15,8), color='mediumvioletred',title=\"Mean CLICK per site_category\") ## plot\n",
    "df.groupby(by='site_category').click.mean().reset_index()  ### displaying the table\n"
   ]
  },
  {
   "cell_type": "markdown",
   "metadata": {},
   "source": [
    "We observe that there are some site categories that generate more clicks than others . Unfortunately , this variable was hashed so we cannot exxplain the plot above . Let's plot the counts of click and no click for each site category"
   ]
  },
  {
   "cell_type": "code",
   "execution_count": 19,
   "metadata": {
    "scrolled": false
   },
   "outputs": [
    {
     "name": "stdout",
     "output_type": "stream",
     "text": [
      "####click or not per site category####\n"
     ]
    },
    {
     "data": {
      "text/html": [
       "<div>\n",
       "<style scoped>\n",
       "    .dataframe tbody tr th:only-of-type {\n",
       "        vertical-align: middle;\n",
       "    }\n",
       "\n",
       "    .dataframe tbody tr th {\n",
       "        vertical-align: top;\n",
       "    }\n",
       "\n",
       "    .dataframe thead th {\n",
       "        text-align: right;\n",
       "    }\n",
       "</style>\n",
       "<table border=\"1\" class=\"dataframe\">\n",
       "  <thead>\n",
       "    <tr style=\"text-align: right;\">\n",
       "      <th>click</th>\n",
       "      <th>0</th>\n",
       "      <th>1</th>\n",
       "    </tr>\n",
       "    <tr>\n",
       "      <th>site_category</th>\n",
       "      <th></th>\n",
       "      <th></th>\n",
       "    </tr>\n",
       "  </thead>\n",
       "  <tbody>\n",
       "    <tr>\n",
       "      <th>0569f928</th>\n",
       "      <td>406</td>\n",
       "      <td>23</td>\n",
       "    </tr>\n",
       "    <tr>\n",
       "      <th>28905ebd</th>\n",
       "      <td>144146</td>\n",
       "      <td>37874</td>\n",
       "    </tr>\n",
       "    <tr>\n",
       "      <th>335d28a8</th>\n",
       "      <td>3050</td>\n",
       "      <td>301</td>\n",
       "    </tr>\n",
       "    <tr>\n",
       "      <th>3e814130</th>\n",
       "      <td>54159</td>\n",
       "      <td>21508</td>\n",
       "    </tr>\n",
       "    <tr>\n",
       "      <th>42a36e14</th>\n",
       "      <td>48</td>\n",
       "      <td>14</td>\n",
       "    </tr>\n",
       "    <tr>\n",
       "      <th>50e219e0</th>\n",
       "      <td>356335</td>\n",
       "      <td>52586</td>\n",
       "    </tr>\n",
       "    <tr>\n",
       "      <th>5378d028</th>\n",
       "      <td>11</td>\n",
       "      <td>0</td>\n",
       "    </tr>\n",
       "    <tr>\n",
       "      <th>70fb0e29</th>\n",
       "      <td>520</td>\n",
       "      <td>88</td>\n",
       "    </tr>\n",
       "    <tr>\n",
       "      <th>72722551</th>\n",
       "      <td>636</td>\n",
       "      <td>40</td>\n",
       "    </tr>\n",
       "    <tr>\n",
       "      <th>75fa27f6</th>\n",
       "      <td>3561</td>\n",
       "      <td>446</td>\n",
       "    </tr>\n",
       "    <tr>\n",
       "      <th>76b2941d</th>\n",
       "      <td>2481</td>\n",
       "      <td>92</td>\n",
       "    </tr>\n",
       "    <tr>\n",
       "      <th>8fd0aea4</th>\n",
       "      <td>186</td>\n",
       "      <td>3</td>\n",
       "    </tr>\n",
       "    <tr>\n",
       "      <th>9ccfa2ea</th>\n",
       "      <td>5</td>\n",
       "      <td>0</td>\n",
       "    </tr>\n",
       "    <tr>\n",
       "      <th>a818d37a</th>\n",
       "      <td>81</td>\n",
       "      <td>0</td>\n",
       "    </tr>\n",
       "    <tr>\n",
       "      <th>bcf865d9</th>\n",
       "      <td>16</td>\n",
       "      <td>0</td>\n",
       "    </tr>\n",
       "    <tr>\n",
       "      <th>c0dd3be3</th>\n",
       "      <td>894</td>\n",
       "      <td>132</td>\n",
       "    </tr>\n",
       "    <tr>\n",
       "      <th>c706e647</th>\n",
       "      <td>1</td>\n",
       "      <td>0</td>\n",
       "    </tr>\n",
       "    <tr>\n",
       "      <th>da34532e</th>\n",
       "      <td>1</td>\n",
       "      <td>0</td>\n",
       "    </tr>\n",
       "    <tr>\n",
       "      <th>dedf689d</th>\n",
       "      <td>293</td>\n",
       "      <td>331</td>\n",
       "    </tr>\n",
       "    <tr>\n",
       "      <th>e787de0e</th>\n",
       "      <td>28</td>\n",
       "      <td>0</td>\n",
       "    </tr>\n",
       "    <tr>\n",
       "      <th>f028772b</th>\n",
       "      <td>257026</td>\n",
       "      <td>56313</td>\n",
       "    </tr>\n",
       "    <tr>\n",
       "      <th>f66779e6</th>\n",
       "      <td>6145</td>\n",
       "      <td>220</td>\n",
       "    </tr>\n",
       "  </tbody>\n",
       "</table>\n",
       "</div>"
      ],
      "text/plain": [
       "click               0      1\n",
       "site_category               \n",
       "0569f928          406     23\n",
       "28905ebd       144146  37874\n",
       "335d28a8         3050    301\n",
       "3e814130        54159  21508\n",
       "42a36e14           48     14\n",
       "50e219e0       356335  52586\n",
       "5378d028           11      0\n",
       "70fb0e29          520     88\n",
       "72722551          636     40\n",
       "75fa27f6         3561    446\n",
       "76b2941d         2481     92\n",
       "8fd0aea4          186      3\n",
       "9ccfa2ea            5      0\n",
       "a818d37a           81      0\n",
       "bcf865d9           16      0\n",
       "c0dd3be3          894    132\n",
       "c706e647            1      0\n",
       "da34532e            1      0\n",
       "dedf689d          293    331\n",
       "e787de0e           28      0\n",
       "f028772b       257026  56313\n",
       "f66779e6         6145    220"
      ]
     },
     "execution_count": 19,
     "metadata": {},
     "output_type": "execute_result"
    },
    {
     "data": {
      "image/png": "[encoded data removed]",
      "text/plain": [
       "<Figure size 1080x720 with 1 Axes>"
      ]
     },
     "metadata": {},
     "output_type": "display_data"
    }
   ],
   "source": [
    "site_type_table=pd.crosstab(index=df['site_category'],columns=df['click'])  #### mean click per site-category\n",
    "print(\"####click or not per site category####\")\n",
    "site_type_table.plot(kind='bar',figsize=(15,10),stacked=False) ## stack plot\n",
    "plt.title(\"click per site category\")\n",
    "site_type_table ### stack table"
   ]
  },
  {
   "cell_type": "markdown",
   "metadata": {},
   "source": [
    "<font color=\"red\">**Question 11:**\n",
    "    Some site categories have a null click rate. Why? Display the 'count()' of each modality.\n",
    "    <br><br>\n",
    "    Hint: you can use the method \".value_counts()\"\n",
    "</font>"
   ]
  },
  {
   "cell_type": "code",
   "execution_count": 20,
   "metadata": {},
   "outputs": [
    {
     "data": {
      "text/plain": [
       "50e219e0    408921\n",
       "f028772b    313339\n",
       "28905ebd    182020\n",
       "3e814130     75667\n",
       "f66779e6      6365\n",
       "75fa27f6      4007\n",
       "335d28a8      3351\n",
       "76b2941d      2573\n",
       "c0dd3be3      1026\n",
       "72722551       676\n",
       "dedf689d       624\n",
       "70fb0e29       608\n",
       "0569f928       429\n",
       "8fd0aea4       189\n",
       "a818d37a        81\n",
       "42a36e14        62\n",
       "e787de0e        28\n",
       "bcf865d9        16\n",
       "5378d028        11\n",
       "9ccfa2ea         5\n",
       "c706e647         1\n",
       "da34532e         1\n",
       "Name: site_category, dtype: int64"
      ]
     },
     "execution_count": 20,
     "metadata": {},
     "output_type": "execute_result"
    }
   ],
   "source": [
    "df.site_category.value_counts()  ###number of obs per site_category"
   ]
  },
  {
   "cell_type": "markdown",
   "metadata": {},
   "source": [
    "We can imagine that some sites categories like websites for military or research institutions does not generate a good web trafic and could have a very low click rate .\n",
    "Besides ,  many websites ,like personal blog , are not well referenced in the net , do not run ADS in their sites and do not have invested yet in their e-reputation and their digital marketing development . These websites could have also a low click rate. "
   ]
  },
  {
   "cell_type": "code",
   "execution_count": 21,
   "metadata": {
    "scrolled": true
   },
   "outputs": [
    {
     "data": {
      "text/html": [
       "<div>\n",
       "<style scoped>\n",
       "    .dataframe tbody tr th:only-of-type {\n",
       "        vertical-align: middle;\n",
       "    }\n",
       "\n",
       "    .dataframe tbody tr th {\n",
       "        vertical-align: top;\n",
       "    }\n",
       "\n",
       "    .dataframe thead th {\n",
       "        text-align: right;\n",
       "    }\n",
       "</style>\n",
       "<table border=\"1\" class=\"dataframe\">\n",
       "  <thead>\n",
       "    <tr style=\"text-align: right;\">\n",
       "      <th></th>\n",
       "      <th>mean</th>\n",
       "      <th>count</th>\n",
       "    </tr>\n",
       "    <tr>\n",
       "      <th>C1</th>\n",
       "      <th></th>\n",
       "      <th></th>\n",
       "    </tr>\n",
       "  </thead>\n",
       "  <tbody>\n",
       "    <tr>\n",
       "      <th>1005</th>\n",
       "      <td>0.169474</td>\n",
       "      <td>918606.0</td>\n",
       "    </tr>\n",
       "    <tr>\n",
       "      <th>1002</th>\n",
       "      <td>0.211157</td>\n",
       "      <td>54907.0</td>\n",
       "    </tr>\n",
       "    <tr>\n",
       "      <th>1010</th>\n",
       "      <td>0.095497</td>\n",
       "      <td>22409.0</td>\n",
       "    </tr>\n",
       "    <tr>\n",
       "      <th>1012</th>\n",
       "      <td>0.177295</td>\n",
       "      <td>2854.0</td>\n",
       "    </tr>\n",
       "    <tr>\n",
       "      <th>1007</th>\n",
       "      <td>0.035591</td>\n",
       "      <td>871.0</td>\n",
       "    </tr>\n",
       "    <tr>\n",
       "      <th>1001</th>\n",
       "      <td>0.027027</td>\n",
       "      <td>222.0</td>\n",
       "    </tr>\n",
       "    <tr>\n",
       "      <th>1008</th>\n",
       "      <td>0.106870</td>\n",
       "      <td>131.0</td>\n",
       "    </tr>\n",
       "  </tbody>\n",
       "</table>\n",
       "</div>"
      ],
      "text/plain": [
       "          mean     count\n",
       "C1                      \n",
       "1005  0.169474  918606.0\n",
       "1002  0.211157   54907.0\n",
       "1010  0.095497   22409.0\n",
       "1012  0.177295    2854.0\n",
       "1007  0.035591     871.0\n",
       "1001  0.027027     222.0\n",
       "1008  0.106870     131.0"
      ]
     },
     "execution_count": 21,
     "metadata": {},
     "output_type": "execute_result"
    }
   ],
   "source": [
    "col = 'C1' #### the column to inspect\n",
    "a = pd.DataFrame([df.groupby(col).mean()['click'], df.groupby(col).count()['click']]).transpose() ## datframe mean count per col\n",
    "a.columns = ['mean', 'count'] ## renamin\n",
    "a.sort_values(by='count', ascending=False) ## sorting"
   ]
  },
  {
   "cell_type": "markdown",
   "metadata": {},
   "source": [
    "Here we can observe that the mean click vary depending on C1 category , so it could be an important variable in our modelling"
   ]
  },
  {
   "cell_type": "markdown",
   "metadata": {},
   "source": [
    "<font color=\"red\">**Question 12:**\n",
    "    Divide the dataset into a training (90%) and test set (10%) with sklearn (use the following option: random_state=100).\n",
    "</font>"
   ]
  },
  {
   "cell_type": "code",
   "execution_count": 22,
   "metadata": {},
   "outputs": [],
   "source": [
    "X_train_b=df.drop('click',axis=1) ### dropping the target\n",
    "y_train_b=df['click'] ### get the target\n",
    "\n",
    "Xtrain, Xtest, ytrain, ytest = train_test_split(X_train_b, y_train_b, test_size=0.1, random_state=100)"
   ]
  },
  {
   "cell_type": "code",
   "execution_count": 23,
   "metadata": {
    "scrolled": true
   },
   "outputs": [
    {
     "name": "stdout",
     "output_type": "stream",
     "text": [
      "Train shape {900000,24}\n",
      "Test shape {100000,24}\n"
     ]
    }
   ],
   "source": [
    "print(\"Train shape {%s,%s}\" %Xtrain.shape)\n",
    "print(\"Test shape {%s,%s}\" %Xtest.shape)"
   ]
  },
  {
   "cell_type": "markdown",
   "metadata": {},
   "source": [
    "# First work on a reduced number of features"
   ]
  },
  {
   "cell_type": "markdown",
   "metadata": {},
   "source": [
    "<font color=\"red\">**Question 13:**\n",
    "    Put in a list the selected columns: 'hour', 'weekday', 'C1', 'banner_pos', 'site_category', 'app_category', 'device_type', 'device_conn_type', 'C15', 'C16', 'C18', 'C21'.\n",
    "</font>"
   ]
  },
  {
   "cell_type": "code",
   "execution_count": 24,
   "metadata": {},
   "outputs": [],
   "source": [
    "some_columns = ['hour','weekday', 'C1', 'banner_pos', 'site_category', 'app_category', \n",
    "                'device_type', 'device_conn_type', 'C15', 'C16', 'C18', 'C21']  ### list of useful cols"
   ]
  },
  {
   "cell_type": "markdown",
   "metadata": {},
   "source": [
    "Let's select only the subset of columns in the test  and the train dataset"
   ]
  },
  {
   "cell_type": "code",
   "execution_count": 25,
   "metadata": {},
   "outputs": [],
   "source": [
    "X_train=Xtrain[some_columns] ## subcol of train\n",
    "X_test=Xtest[some_columns] ## subcol of test\n",
    "y_train=ytrain ## train target..."
   ]
  },
  {
   "cell_type": "code",
   "execution_count": 26,
   "metadata": {},
   "outputs": [
    {
     "name": "stdout",
     "output_type": "stream",
     "text": [
      "Train new shape {900000,12}\n",
      "List of selected columns : \n",
      "Index(['hour', 'weekday', 'C1', 'banner_pos', 'site_category', 'app_category',\n",
      "       'device_type', 'device_conn_type', 'C15', 'C16', 'C18', 'C21'],\n",
      "      dtype='object')\n"
     ]
    }
   ],
   "source": [
    "############ printing the new shapes ############\"\"\n",
    "\n",
    "print(\"Train new shape {%s,%s}\" %X_train.shape)\n",
    "print(\"List of selected columns : \")\n",
    "print(X_train.columns)\n"
   ]
  },
  {
   "cell_type": "markdown",
   "metadata": {},
   "source": [
    "<font color=\"red\">**Question 14:**\n",
    "    <br>\n",
    "    - Import OneHotEncoder from sklearn.preprocessing\n",
    "    <br>\n",
    "    - Transform the training and the test data restricted to the selected columns\n",
    "    <br>\n",
    "    - Give the type of the outputs.\n",
    "</font>"
   ]
  },
  {
   "cell_type": "markdown",
   "metadata": {},
   "source": [
    "The Onehoteencoder is imported at the begining of the notebook .\n",
    "Before start encoding , let's recall the number of modalities in each variable \n"
   ]
  },
  {
   "cell_type": "code",
   "execution_count": 27,
   "metadata": {},
   "outputs": [
    {
     "name": "stdout",
     "output_type": "stream",
     "text": [
      "Sum of features is 183 \n"
     ]
    },
    {
     "data": {
      "text/html": [
       "<div>\n",
       "<style scoped>\n",
       "    .dataframe tbody tr th:only-of-type {\n",
       "        vertical-align: middle;\n",
       "    }\n",
       "\n",
       "    .dataframe tbody tr th {\n",
       "        vertical-align: top;\n",
       "    }\n",
       "\n",
       "    .dataframe thead th {\n",
       "        text-align: right;\n",
       "    }\n",
       "</style>\n",
       "<table border=\"1\" class=\"dataframe\">\n",
       "  <thead>\n",
       "    <tr style=\"text-align: right;\">\n",
       "      <th></th>\n",
       "      <th>variable</th>\n",
       "      <th>countmod</th>\n",
       "    </tr>\n",
       "  </thead>\n",
       "  <tbody>\n",
       "    <tr>\n",
       "      <th>0</th>\n",
       "      <td>hour</td>\n",
       "      <td>24</td>\n",
       "    </tr>\n",
       "    <tr>\n",
       "      <th>1</th>\n",
       "      <td>weekday</td>\n",
       "      <td>7</td>\n",
       "    </tr>\n",
       "    <tr>\n",
       "      <th>2</th>\n",
       "      <td>C1</td>\n",
       "      <td>7</td>\n",
       "    </tr>\n",
       "    <tr>\n",
       "      <th>3</th>\n",
       "      <td>banner_pos</td>\n",
       "      <td>7</td>\n",
       "    </tr>\n",
       "    <tr>\n",
       "      <th>4</th>\n",
       "      <td>site_category</td>\n",
       "      <td>22</td>\n",
       "    </tr>\n",
       "    <tr>\n",
       "      <th>5</th>\n",
       "      <td>app_category</td>\n",
       "      <td>26</td>\n",
       "    </tr>\n",
       "    <tr>\n",
       "      <th>6</th>\n",
       "      <td>device_type</td>\n",
       "      <td>5</td>\n",
       "    </tr>\n",
       "    <tr>\n",
       "      <th>7</th>\n",
       "      <td>device_conn_type</td>\n",
       "      <td>4</td>\n",
       "    </tr>\n",
       "    <tr>\n",
       "      <th>8</th>\n",
       "      <td>C15</td>\n",
       "      <td>8</td>\n",
       "    </tr>\n",
       "    <tr>\n",
       "      <th>9</th>\n",
       "      <td>C16</td>\n",
       "      <td>9</td>\n",
       "    </tr>\n",
       "    <tr>\n",
       "      <th>10</th>\n",
       "      <td>C18</td>\n",
       "      <td>4</td>\n",
       "    </tr>\n",
       "    <tr>\n",
       "      <th>11</th>\n",
       "      <td>C21</td>\n",
       "      <td>60</td>\n",
       "    </tr>\n",
       "  </tbody>\n",
       "</table>\n",
       "</div>"
      ],
      "text/plain": [
       "            variable  countmod\n",
       "0               hour        24\n",
       "1            weekday         7\n",
       "2                 C1         7\n",
       "3         banner_pos         7\n",
       "4      site_category        22\n",
       "5       app_category        26\n",
       "6        device_type         5\n",
       "7   device_conn_type         4\n",
       "8                C15         8\n",
       "9                C16         9\n",
       "10               C18         4\n",
       "11               C21        60"
      ]
     },
     "execution_count": 27,
     "metadata": {},
     "output_type": "execute_result"
    }
   ],
   "source": [
    "temp=pd.DataFrame(Xtrain[some_columns].nunique()).reset_index() ### recall the numbe of modalities in eah var\n",
    "temp.columns=[\"variable\",\"countmod\"] ### renaming temp\n",
    "print(\"Sum of features is %s \" % sum(temp.countmod)) ### sum of all features\n",
    "temp"
   ]
  },
  {
   "cell_type": "markdown",
   "metadata": {},
   "source": [
    "Features Site_category and App_category are hashed and we need to use labelencoder before performing the one hot encoding .\n",
    "The other variables are represented as integers hence we make use directly of one hot encoding to deal with these features ."
   ]
  },
  {
   "cell_type": "code",
   "execution_count": 28,
   "metadata": {},
   "outputs": [],
   "source": [
    "\n",
    "######## label encoding train  : fit_transfom\n",
    "le_app = LabelEncoder()\n",
    "x=le_app.fit_transform(X_train[['app_category']])\n",
    "pd.DataFrame(x).nunique()\n",
    "X_train.app_category=x\n",
    "\n",
    "le_site = LabelEncoder()\n",
    "x=le_site.fit_transform(X_train[['site_category']])\n",
    "X_train.site_category=x\n",
    "\n",
    "\n",
    "######### label encoding test  : transform only\n",
    "le = LabelEncoder()\n",
    "x=le_app.transform(X_test[['app_category']])\n",
    "X_test.app_category=x\n",
    "\n",
    "x=le_site.transform(X_test[['site_category']])\n",
    "X_test.site_category=x"
   ]
  },
  {
   "cell_type": "code",
   "execution_count": 29,
   "metadata": {},
   "outputs": [
    {
     "name": "stdout",
     "output_type": "stream",
     "text": [
      "Train data after label encoding  : \n"
     ]
    },
    {
     "data": {
      "text/html": [
       "<div>\n",
       "<style scoped>\n",
       "    .dataframe tbody tr th:only-of-type {\n",
       "        vertical-align: middle;\n",
       "    }\n",
       "\n",
       "    .dataframe tbody tr th {\n",
       "        vertical-align: top;\n",
       "    }\n",
       "\n",
       "    .dataframe thead th {\n",
       "        text-align: right;\n",
       "    }\n",
       "</style>\n",
       "<table border=\"1\" class=\"dataframe\">\n",
       "  <thead>\n",
       "    <tr style=\"text-align: right;\">\n",
       "      <th></th>\n",
       "      <th>hour</th>\n",
       "      <th>weekday</th>\n",
       "      <th>C1</th>\n",
       "      <th>banner_pos</th>\n",
       "      <th>site_category</th>\n",
       "      <th>app_category</th>\n",
       "      <th>device_type</th>\n",
       "      <th>device_conn_type</th>\n",
       "      <th>C15</th>\n",
       "      <th>C16</th>\n",
       "      <th>C18</th>\n",
       "      <th>C21</th>\n",
       "    </tr>\n",
       "  </thead>\n",
       "  <tbody>\n",
       "    <tr>\n",
       "      <th>92438</th>\n",
       "      <td>10</td>\n",
       "      <td>0</td>\n",
       "      <td>1010</td>\n",
       "      <td>1</td>\n",
       "      <td>5</td>\n",
       "      <td>3</td>\n",
       "      <td>4</td>\n",
       "      <td>3</td>\n",
       "      <td>320</td>\n",
       "      <td>50</td>\n",
       "      <td>0</td>\n",
       "      <td>79</td>\n",
       "    </tr>\n",
       "    <tr>\n",
       "      <th>60898</th>\n",
       "      <td>22</td>\n",
       "      <td>1</td>\n",
       "      <td>1005</td>\n",
       "      <td>0</td>\n",
       "      <td>5</td>\n",
       "      <td>25</td>\n",
       "      <td>1</td>\n",
       "      <td>2</td>\n",
       "      <td>320</td>\n",
       "      <td>50</td>\n",
       "      <td>0</td>\n",
       "      <td>79</td>\n",
       "    </tr>\n",
       "    <tr>\n",
       "      <th>556199</th>\n",
       "      <td>4</td>\n",
       "      <td>0</td>\n",
       "      <td>1005</td>\n",
       "      <td>0</td>\n",
       "      <td>20</td>\n",
       "      <td>0</td>\n",
       "      <td>1</td>\n",
       "      <td>2</td>\n",
       "      <td>320</td>\n",
       "      <td>50</td>\n",
       "      <td>0</td>\n",
       "      <td>182</td>\n",
       "    </tr>\n",
       "    <tr>\n",
       "      <th>193129</th>\n",
       "      <td>12</td>\n",
       "      <td>1</td>\n",
       "      <td>1005</td>\n",
       "      <td>1</td>\n",
       "      <td>20</td>\n",
       "      <td>0</td>\n",
       "      <td>1</td>\n",
       "      <td>0</td>\n",
       "      <td>320</td>\n",
       "      <td>50</td>\n",
       "      <td>0</td>\n",
       "      <td>48</td>\n",
       "    </tr>\n",
       "    <tr>\n",
       "      <th>231985</th>\n",
       "      <td>13</td>\n",
       "      <td>6</td>\n",
       "      <td>1005</td>\n",
       "      <td>0</td>\n",
       "      <td>1</td>\n",
       "      <td>0</td>\n",
       "      <td>1</td>\n",
       "      <td>0</td>\n",
       "      <td>320</td>\n",
       "      <td>50</td>\n",
       "      <td>0</td>\n",
       "      <td>79</td>\n",
       "    </tr>\n",
       "  </tbody>\n",
       "</table>\n",
       "</div>"
      ],
      "text/plain": [
       "        hour  weekday    C1  banner_pos  site_category  app_category  \\\n",
       "92438     10        0  1010           1              5             3   \n",
       "60898     22        1  1005           0              5            25   \n",
       "556199     4        0  1005           0             20             0   \n",
       "193129    12        1  1005           1             20             0   \n",
       "231985    13        6  1005           0              1             0   \n",
       "\n",
       "        device_type  device_conn_type  C15  C16  C18  C21  \n",
       "92438             4                 3  320   50    0   79  \n",
       "60898             1                 2  320   50    0   79  \n",
       "556199            1                 2  320   50    0  182  \n",
       "193129            1                 0  320   50    0   48  \n",
       "231985            1                 0  320   50    0   79  "
      ]
     },
     "execution_count": 29,
     "metadata": {},
     "output_type": "execute_result"
    }
   ],
   "source": [
    "print(\"Train data after label encoding  : \")\n",
    "X_train.head()"
   ]
  },
  {
   "cell_type": "code",
   "execution_count": 30,
   "metadata": {},
   "outputs": [],
   "source": [
    "################################### One hot encoding ########################################\n",
    "ohe = OneHotEncoder(handle_unknown='ignore')  ### define onhotencoder with ignore option\n",
    "ohe.fit(X_train) ### fitting the onehot encoder\n",
    "Xtrain_oh = ohe.transform(X_train)# fit & transformation of Xtrain restricted to selected columns\n",
    "Xtest_oh = ohe.transform(X_test)#  transformation of Xtrain restricted to selected columns"
   ]
  },
  {
   "cell_type": "code",
   "execution_count": 31,
   "metadata": {},
   "outputs": [
    {
     "name": "stdout",
     "output_type": "stream",
     "text": [
      "(900000, 183)\n",
      "(100000, 183)\n"
     ]
    }
   ],
   "source": [
    "print(Xtrain_oh.shape)\n",
    "print(Xtest_oh.shape)"
   ]
  },
  {
   "cell_type": "code",
   "execution_count": 32,
   "metadata": {},
   "outputs": [
    {
     "name": "stdout",
     "output_type": "stream",
     "text": [
      "Data after one hot encoding : \n"
     ]
    },
    {
     "data": {
      "text/html": [
       "<div>\n",
       "<style scoped>\n",
       "    .dataframe tbody tr th:only-of-type {\n",
       "        vertical-align: middle;\n",
       "    }\n",
       "\n",
       "    .dataframe tbody tr th {\n",
       "        vertical-align: top;\n",
       "    }\n",
       "\n",
       "    .dataframe thead th {\n",
       "        text-align: right;\n",
       "    }\n",
       "</style>\n",
       "<table border=\"1\" class=\"dataframe\">\n",
       "  <thead>\n",
       "    <tr style=\"text-align: right;\">\n",
       "      <th></th>\n",
       "      <th>0</th>\n",
       "      <th>1</th>\n",
       "      <th>2</th>\n",
       "      <th>3</th>\n",
       "      <th>4</th>\n",
       "      <th>5</th>\n",
       "      <th>6</th>\n",
       "      <th>7</th>\n",
       "      <th>8</th>\n",
       "      <th>9</th>\n",
       "      <th>...</th>\n",
       "      <th>173</th>\n",
       "      <th>174</th>\n",
       "      <th>175</th>\n",
       "      <th>176</th>\n",
       "      <th>177</th>\n",
       "      <th>178</th>\n",
       "      <th>179</th>\n",
       "      <th>180</th>\n",
       "      <th>181</th>\n",
       "      <th>182</th>\n",
       "    </tr>\n",
       "  </thead>\n",
       "  <tbody>\n",
       "    <tr>\n",
       "      <th>0</th>\n",
       "      <td>0.0</td>\n",
       "      <td>0.0</td>\n",
       "      <td>0.0</td>\n",
       "      <td>0.0</td>\n",
       "      <td>0.0</td>\n",
       "      <td>0.0</td>\n",
       "      <td>0.0</td>\n",
       "      <td>0.0</td>\n",
       "      <td>0.0</td>\n",
       "      <td>0.0</td>\n",
       "      <td>...</td>\n",
       "      <td>0.0</td>\n",
       "      <td>0.0</td>\n",
       "      <td>0.0</td>\n",
       "      <td>0.0</td>\n",
       "      <td>0.0</td>\n",
       "      <td>0.0</td>\n",
       "      <td>0.0</td>\n",
       "      <td>0.0</td>\n",
       "      <td>0.0</td>\n",
       "      <td>0.0</td>\n",
       "    </tr>\n",
       "    <tr>\n",
       "      <th>1</th>\n",
       "      <td>0.0</td>\n",
       "      <td>0.0</td>\n",
       "      <td>0.0</td>\n",
       "      <td>0.0</td>\n",
       "      <td>0.0</td>\n",
       "      <td>0.0</td>\n",
       "      <td>0.0</td>\n",
       "      <td>0.0</td>\n",
       "      <td>0.0</td>\n",
       "      <td>0.0</td>\n",
       "      <td>...</td>\n",
       "      <td>0.0</td>\n",
       "      <td>0.0</td>\n",
       "      <td>0.0</td>\n",
       "      <td>0.0</td>\n",
       "      <td>0.0</td>\n",
       "      <td>0.0</td>\n",
       "      <td>0.0</td>\n",
       "      <td>0.0</td>\n",
       "      <td>0.0</td>\n",
       "      <td>0.0</td>\n",
       "    </tr>\n",
       "    <tr>\n",
       "      <th>2</th>\n",
       "      <td>0.0</td>\n",
       "      <td>0.0</td>\n",
       "      <td>0.0</td>\n",
       "      <td>0.0</td>\n",
       "      <td>1.0</td>\n",
       "      <td>0.0</td>\n",
       "      <td>0.0</td>\n",
       "      <td>0.0</td>\n",
       "      <td>0.0</td>\n",
       "      <td>0.0</td>\n",
       "      <td>...</td>\n",
       "      <td>0.0</td>\n",
       "      <td>0.0</td>\n",
       "      <td>0.0</td>\n",
       "      <td>0.0</td>\n",
       "      <td>0.0</td>\n",
       "      <td>0.0</td>\n",
       "      <td>0.0</td>\n",
       "      <td>0.0</td>\n",
       "      <td>0.0</td>\n",
       "      <td>0.0</td>\n",
       "    </tr>\n",
       "    <tr>\n",
       "      <th>3</th>\n",
       "      <td>0.0</td>\n",
       "      <td>0.0</td>\n",
       "      <td>0.0</td>\n",
       "      <td>0.0</td>\n",
       "      <td>0.0</td>\n",
       "      <td>0.0</td>\n",
       "      <td>0.0</td>\n",
       "      <td>0.0</td>\n",
       "      <td>0.0</td>\n",
       "      <td>0.0</td>\n",
       "      <td>...</td>\n",
       "      <td>0.0</td>\n",
       "      <td>0.0</td>\n",
       "      <td>0.0</td>\n",
       "      <td>0.0</td>\n",
       "      <td>0.0</td>\n",
       "      <td>0.0</td>\n",
       "      <td>0.0</td>\n",
       "      <td>0.0</td>\n",
       "      <td>0.0</td>\n",
       "      <td>0.0</td>\n",
       "    </tr>\n",
       "    <tr>\n",
       "      <th>4</th>\n",
       "      <td>0.0</td>\n",
       "      <td>0.0</td>\n",
       "      <td>0.0</td>\n",
       "      <td>0.0</td>\n",
       "      <td>0.0</td>\n",
       "      <td>0.0</td>\n",
       "      <td>0.0</td>\n",
       "      <td>0.0</td>\n",
       "      <td>0.0</td>\n",
       "      <td>0.0</td>\n",
       "      <td>...</td>\n",
       "      <td>0.0</td>\n",
       "      <td>0.0</td>\n",
       "      <td>0.0</td>\n",
       "      <td>0.0</td>\n",
       "      <td>0.0</td>\n",
       "      <td>0.0</td>\n",
       "      <td>0.0</td>\n",
       "      <td>0.0</td>\n",
       "      <td>0.0</td>\n",
       "      <td>0.0</td>\n",
       "    </tr>\n",
       "  </tbody>\n",
       "</table>\n",
       "<p>5 rows × 183 columns</p>\n",
       "</div>"
      ],
      "text/plain": [
       "   0    1    2    3    4    5    6    7    8    9   ...   173  174  175  176  \\\n",
       "0  0.0  0.0  0.0  0.0  0.0  0.0  0.0  0.0  0.0  0.0 ...   0.0  0.0  0.0  0.0   \n",
       "1  0.0  0.0  0.0  0.0  0.0  0.0  0.0  0.0  0.0  0.0 ...   0.0  0.0  0.0  0.0   \n",
       "2  0.0  0.0  0.0  0.0  1.0  0.0  0.0  0.0  0.0  0.0 ...   0.0  0.0  0.0  0.0   \n",
       "3  0.0  0.0  0.0  0.0  0.0  0.0  0.0  0.0  0.0  0.0 ...   0.0  0.0  0.0  0.0   \n",
       "4  0.0  0.0  0.0  0.0  0.0  0.0  0.0  0.0  0.0  0.0 ...   0.0  0.0  0.0  0.0   \n",
       "\n",
       "   177  178  179  180  181  182  \n",
       "0  0.0  0.0  0.0  0.0  0.0  0.0  \n",
       "1  0.0  0.0  0.0  0.0  0.0  0.0  \n",
       "2  0.0  0.0  0.0  0.0  0.0  0.0  \n",
       "3  0.0  0.0  0.0  0.0  0.0  0.0  \n",
       "4  0.0  0.0  0.0  0.0  0.0  0.0  \n",
       "\n",
       "[5 rows x 183 columns]"
      ]
     },
     "execution_count": 32,
     "metadata": {},
     "output_type": "execute_result"
    }
   ],
   "source": [
    "print(\"Data after one hot encoding : \")\n",
    "pd.DataFrame(Xtrain_oh.toarray()).head() ## header of the encoded dataframe"
   ]
  },
  {
   "cell_type": "markdown",
   "metadata": {},
   "source": [
    "After one hot encoding , we have only binary columns :  We got k binary variables for each original variable containing k modalities .\n"
   ]
  },
  {
   "cell_type": "markdown",
   "metadata": {},
   "source": [
    "<font color=\"red\">**Question 15:**\n",
    "    What is the new number of features?\n",
    "</font>"
   ]
  },
  {
   "cell_type": "code",
   "execution_count": 33,
   "metadata": {},
   "outputs": [
    {
     "name": "stdout",
     "output_type": "stream",
     "text": [
      "the new number of feature is 183\n"
     ]
    }
   ],
   "source": [
    "print(\"the new number of feature is %s\" %Xtrain_oh.shape[1])"
   ]
  },
  {
   "cell_type": "markdown",
   "metadata": {},
   "source": [
    "<font color=\"red\">**Question 16:**\n",
    "    Visualize the first row of the design matrix you have got.\n",
    "</font>"
   ]
  },
  {
   "cell_type": "code",
   "execution_count": 34,
   "metadata": {},
   "outputs": [
    {
     "data": {
      "text/plain": [
       "array([0., 0., 0., 0., 0., 0., 0., 0., 0., 0., 0., 0., 0., 0., 0., 0., 0.,\n",
       "       0., 0., 0., 0., 0., 1., 0., 0., 1., 0., 0., 0., 0., 0., 0., 0., 1.,\n",
       "       0., 0., 0., 0., 1., 0., 0., 0., 0., 0., 0., 0., 0., 0., 0., 0., 1.,\n",
       "       0., 0., 0., 0., 0., 0., 0., 0., 0., 0., 0., 0., 0., 0., 0., 0., 0.,\n",
       "       0., 0., 0., 0., 0., 0., 0., 0., 0., 0., 0., 0., 0., 0., 0., 0., 0.,\n",
       "       0., 0., 0., 0., 0., 0., 0., 1., 0., 1., 0., 0., 0., 0., 1., 0., 0.,\n",
       "       0., 0., 0., 1., 0., 0., 0., 0., 0., 0., 1., 0., 0., 0., 0., 0., 0.,\n",
       "       1., 0., 0., 0., 0., 0., 0., 0., 0., 0., 0., 0., 0., 0., 0., 0., 0.,\n",
       "       0., 0., 0., 0., 0., 0., 0., 0., 0., 1., 0., 0., 0., 0., 0., 0., 0.,\n",
       "       0., 0., 0., 0., 0., 0., 0., 0., 0., 0., 0., 0., 0., 0., 0., 0., 0.,\n",
       "       0., 0., 0., 0., 0., 0., 0., 0., 0., 0., 0., 0., 0.])"
      ]
     },
     "execution_count": 34,
     "metadata": {},
     "output_type": "execute_result"
    }
   ],
   "source": [
    "Xtrain_oh.toarray()[1] ### first row"
   ]
  },
  {
   "cell_type": "markdown",
   "metadata": {},
   "source": [
    "<font color=\"red\">**Question 17:**\n",
    "    Import and fit a logistic regression model on your the encoded data\n",
    "</font>"
   ]
  },
  {
   "cell_type": "markdown",
   "metadata": {},
   "source": [
    "Let's start by a simple model : the logistic regression with LBFGS as a solver "
   ]
  },
  {
   "cell_type": "code",
   "execution_count": 35,
   "metadata": {
    "scrolled": true
   },
   "outputs": [],
   "source": [
    "####################################### fitting logistsitc regression  ##########\n",
    "start_time = time.time()\n",
    "\n",
    "lr =LogisticRegression(random_state=0, solver='lbfgs') #### initialze classifier\n",
    "lr.fit(Xtrain_oh, y_train) ### fitting classifier\n",
    "\n",
    "end_time = time.time()\n",
    "\n",
    "time_lr_1=(end_time - start_time)\n"
   ]
  },
  {
   "cell_type": "markdown",
   "metadata": {},
   "source": [
    "The logistic regression takes only a few seconds to train which is quite impressive if we take into account the number of observations "
   ]
  },
  {
   "cell_type": "markdown",
   "metadata": {},
   "source": [
    "<font color=\"red\">**Question 18:**\n",
    "    With '.predict' and 'predict_proba', display the hard and soft decision you get on test data.\n",
    "</font>"
   ]
  },
  {
   "cell_type": "code",
   "execution_count": 36,
   "metadata": {},
   "outputs": [
    {
     "name": "stdout",
     "output_type": "stream",
     "text": [
      "hard (classes ) :  [0 0 0 ... 0 0 0]\n",
      "soft ( probabilities ) :  [[0.75870943 0.24129057]\n",
      " [0.73401057 0.26598943]\n",
      " [0.79796849 0.20203151]\n",
      " ...\n",
      " [0.79173663 0.20826337]\n",
      " [0.78450372 0.21549628]\n",
      " [0.87964682 0.12035318]]\n"
     ]
    }
   ],
   "source": [
    "hard =lr.predict(Xtest_oh) #### hard prediction : labels\n",
    "soft = lr.predict_proba(Xtest_oh) ### soft prediction : probas\n",
    "\n",
    "print(\"hard (classes ) : \",hard)\n",
    "print(\"soft ( probabilities ) : \", soft)"
   ]
  },
  {
   "cell_type": "markdown",
   "metadata": {},
   "source": [
    "<font color=\"red\">**Question 19:**\n",
    "    Compute the probability of **error** using sklearn.metrics 'accuracy_score' function. Comment.\n",
    "    \n",
    "</font>"
   ]
  },
  {
   "cell_type": "code",
   "execution_count": 37,
   "metadata": {},
   "outputs": [
    {
     "name": "stdout",
     "output_type": "stream",
     "text": [
      "The accuracy score of the logistic regression model is 0.83%\n"
     ]
    }
   ],
   "source": [
    "print( \"The accuracy score of the logistic regression model is %.2f%%\" %accuracy_score(ytest, hard))"
   ]
  },
  {
   "cell_type": "markdown",
   "metadata": {},
   "source": [
    "That's not bad at all for a first simple model  , But did we use the best metric to evaluate the model ? Let's check more sophisticated metrics\n"
   ]
  },
  {
   "cell_type": "markdown",
   "metadata": {},
   "source": [
    "<font color=\"red\">**Question 20:**\n",
    "    Which sklearn.metrics could you also use?\n",
    "</font>"
   ]
  },
  {
   "cell_type": "markdown",
   "metadata": {},
   "source": [
    "There are many metrics to measure the performance of classifier . For our problem, we would want to evaluate the model by comparing the predicted probabilities versus the actual target values, using an appropriate \"evaluation metric.\" The best metric to use in this case is probably logarithmic loss, which is commonly used when we care about having well-calibrated probabilities. In addition, we might inspect the ROC curve and compute other metrics such as AUC. In this lab , we will use the Log-Loss and the AUC under ROC"
   ]
  },
  {
   "cell_type": "markdown",
   "metadata": {},
   "source": [
    "<font color=\"red\">**Question 21:**\n",
    "    Plot the ROC curve. Then compute the log loss and the Area Under the Curve ROC.\n",
    "</font>"
   ]
  },
  {
   "cell_type": "code",
   "execution_count": 38,
   "metadata": {},
   "outputs": [
    {
     "data": {
      "image/png": "[encoded data removed]",
      "text/plain": [
       "<Figure size 1080x720 with 1 Axes>"
      ]
     },
     "metadata": {},
     "output_type": "display_data"
    }
   ],
   "source": [
    "####################################### plotting the roc curve ##############################\n",
    "plt.figure(figsize=(15,10)) ### customize the size\n",
    "\n",
    "fpr, tpr, thresholds = roc_curve(ytest,soft[:,1]) #### getting fpr and tpr\n",
    "roc_auc =auc(fpr, tpr)\n",
    "\n",
    "plt.plot(fpr, tpr, color='b',\n",
    "         label=r'Mean ROC',\n",
    "         lw=2, alpha=.8)\n",
    "\n",
    "#### customizing axes ##############\n",
    "plt.plot([0, 1], [0, 1], color='darkorange', lw=2, linestyle='--',label='ROC = %0.2f' % roc_auc_score(ytest, soft.T[1]))\n",
    "plt.xlim([0.0, 1.0])\n",
    "plt.ylim([0.0, 1.05])\n",
    "plt.xlabel('False Positive Rate')\n",
    "plt.ylabel('True Positive Rate')\n",
    "plt.title('Roc curve of the classifier')\n",
    "plt.legend(loc=\"lower right\")\n",
    "plt.show()\n"
   ]
  },
  {
   "cell_type": "code",
   "execution_count": 39,
   "metadata": {
    "scrolled": true
   },
   "outputs": [
    {
     "name": "stdout",
     "output_type": "stream",
     "text": [
      "The log loss is 42.52%\n",
      "The roc auc score is 67.62%\n"
     ]
    }
   ],
   "source": [
    "print (\"The log loss is %.2f%%\" % (100*log_loss(ytest,soft[:,1])))\n",
    "print (\"The roc auc score is %.2f%%\" % (100*roc_auc_score(ytest, soft[:,1])))\n",
    "\n",
    "\n",
    "#### save the results for ulterior comparaisoon\n",
    "\n",
    "logloss_lr_1 =log_loss(ytest, soft) #### keep track of the logloss\n",
    "auc_lr_1=roc_auc_score(ytest, soft[:,1]) #### keep track oof the auc"
   ]
  },
  {
   "cell_type": "markdown",
   "metadata": {},
   "source": [
    "As we can see , the score depends a lot on the metric we use and the difference is quite significant between auc ,  accuracy score and log-loss . These metrics can be used to compare between different models . \n",
    "In my opinion , I think that the AUC  or the logloss are the most robust metrics to measure the performance of a classifier as it takes into account the different possible threshhold whle computing the False Positives and the True Positives ."
   ]
  },
  {
   "cell_type": "markdown",
   "metadata": {},
   "source": [
    "<font color=\"red\">**Question 22:**\n",
    "    <br>\n",
    "    - Import the 'plot_lift' function from 'utils.py' and plot the lift curve. What is the lift of the first fifth of the population identified by the test?\n",
    "    <br>\n",
    "    -  Interpret it. \n",
    "</font>"
   ]
  },
  {
   "cell_type": "code",
   "execution_count": 40,
   "metadata": {},
   "outputs": [
    {
     "data": {
      "text/plain": [
       "Text(0.5,1,'The lift curve of the classifier ')"
      ]
     },
     "execution_count": 40,
     "metadata": {},
     "output_type": "execute_result"
    },
    {
     "data": {
      "image/png": "[encoded data removed]",
      "text/plain": [
       "<Figure size 1080x720 with 1 Axes>"
      ]
     },
     "metadata": {},
     "output_type": "display_data"
    }
   ],
   "source": [
    "###### ###############\" plot lift curve #############\" ######\n",
    "plt.figure(figsize=(15,10))\n",
    "plt.style.use(\"ggplot\")\n",
    "plotlift(ytest, soft.T[1])\n",
    "# The following line just plots a vertical line for you to answer the second part of the question\n",
    "plt.axvline(x= 0.2 , linestyle='--', color='g')\n",
    "plt.axhline(y= 1 , linestyle='--', color='r');\n",
    "plt.title(\"The lift curve of the classifier \")"
   ]
  },
  {
   "cell_type": "markdown",
   "metadata": {},
   "source": [
    "We plot a lift curve to describe the classification performance of a LogisticRegression classifier .\n",
    "Here , we measure the performance of the algorithm comparing to random model while increasing the number sample size from 0% to 100 % .The greater the area between the lift curve and the baseline, the better the model.\n",
    "One more detail ,we can have an idea about the convergence speed of algorithm ( in term of samples ) through the lift curve ( the X axis is the %  of sample used ) .But we need  to say that lift charts are not a good way to evaluate a model (as it cannot be used for comparison between models), and are instead a means of evaluating the results where your resources are finite.\n",
    "\n"
   ]
  },
  {
   "cell_type": "markdown",
   "metadata": {},
   "source": [
    "# Complete model"
   ]
  },
  {
   "cell_type": "code",
   "execution_count": 41,
   "metadata": {},
   "outputs": [
    {
     "data": {
      "text/html": [
       "<div>\n",
       "<style scoped>\n",
       "    .dataframe tbody tr th:only-of-type {\n",
       "        vertical-align: middle;\n",
       "    }\n",
       "\n",
       "    .dataframe tbody tr th {\n",
       "        vertical-align: top;\n",
       "    }\n",
       "\n",
       "    .dataframe thead th {\n",
       "        text-align: right;\n",
       "    }\n",
       "</style>\n",
       "<table border=\"1\" class=\"dataframe\">\n",
       "  <thead>\n",
       "    <tr style=\"text-align: right;\">\n",
       "      <th></th>\n",
       "      <th>id</th>\n",
       "      <th>click</th>\n",
       "      <th>hour</th>\n",
       "      <th>C1</th>\n",
       "      <th>banner_pos</th>\n",
       "      <th>site_id</th>\n",
       "      <th>site_domain</th>\n",
       "      <th>site_category</th>\n",
       "      <th>app_id</th>\n",
       "      <th>app_domain</th>\n",
       "      <th>...</th>\n",
       "      <th>device_conn_type</th>\n",
       "      <th>C14</th>\n",
       "      <th>C15</th>\n",
       "      <th>C16</th>\n",
       "      <th>C17</th>\n",
       "      <th>C18</th>\n",
       "      <th>C19</th>\n",
       "      <th>C20</th>\n",
       "      <th>C21</th>\n",
       "      <th>weekday</th>\n",
       "    </tr>\n",
       "  </thead>\n",
       "  <tbody>\n",
       "    <tr>\n",
       "      <th>0</th>\n",
       "      <td>3.983206e+18</td>\n",
       "      <td>0</td>\n",
       "      <td>15</td>\n",
       "      <td>1005</td>\n",
       "      <td>1</td>\n",
       "      <td>e151e245</td>\n",
       "      <td>7e091613</td>\n",
       "      <td>f028772b</td>\n",
       "      <td>ecad2386</td>\n",
       "      <td>7801e8d9</td>\n",
       "      <td>...</td>\n",
       "      <td>2</td>\n",
       "      <td>4687</td>\n",
       "      <td>320</td>\n",
       "      <td>50</td>\n",
       "      <td>423</td>\n",
       "      <td>2</td>\n",
       "      <td>39</td>\n",
       "      <td>100148</td>\n",
       "      <td>32</td>\n",
       "      <td>2</td>\n",
       "    </tr>\n",
       "    <tr>\n",
       "      <th>1</th>\n",
       "      <td>7.756884e+18</td>\n",
       "      <td>0</td>\n",
       "      <td>7</td>\n",
       "      <td>1002</td>\n",
       "      <td>0</td>\n",
       "      <td>cb809abf</td>\n",
       "      <td>74acf31a</td>\n",
       "      <td>50e219e0</td>\n",
       "      <td>ecad2386</td>\n",
       "      <td>7801e8d9</td>\n",
       "      <td>...</td>\n",
       "      <td>0</td>\n",
       "      <td>17894</td>\n",
       "      <td>320</td>\n",
       "      <td>50</td>\n",
       "      <td>2039</td>\n",
       "      <td>2</td>\n",
       "      <td>39</td>\n",
       "      <td>100077</td>\n",
       "      <td>32</td>\n",
       "      <td>3</td>\n",
       "    </tr>\n",
       "    <tr>\n",
       "      <th>2</th>\n",
       "      <td>6.941774e+17</td>\n",
       "      <td>0</td>\n",
       "      <td>11</td>\n",
       "      <td>1005</td>\n",
       "      <td>0</td>\n",
       "      <td>85f751fd</td>\n",
       "      <td>c4e18dd6</td>\n",
       "      <td>50e219e0</td>\n",
       "      <td>e9739828</td>\n",
       "      <td>df32afa9</td>\n",
       "      <td>...</td>\n",
       "      <td>0</td>\n",
       "      <td>22684</td>\n",
       "      <td>320</td>\n",
       "      <td>50</td>\n",
       "      <td>2619</td>\n",
       "      <td>1</td>\n",
       "      <td>163</td>\n",
       "      <td>100055</td>\n",
       "      <td>71</td>\n",
       "      <td>0</td>\n",
       "    </tr>\n",
       "    <tr>\n",
       "      <th>3</th>\n",
       "      <td>2.664154e+18</td>\n",
       "      <td>1</td>\n",
       "      <td>3</td>\n",
       "      <td>1005</td>\n",
       "      <td>0</td>\n",
       "      <td>85f751fd</td>\n",
       "      <td>c4e18dd6</td>\n",
       "      <td>50e219e0</td>\n",
       "      <td>a5184c22</td>\n",
       "      <td>b8d325c3</td>\n",
       "      <td>...</td>\n",
       "      <td>0</td>\n",
       "      <td>23222</td>\n",
       "      <td>320</td>\n",
       "      <td>50</td>\n",
       "      <td>2676</td>\n",
       "      <td>0</td>\n",
       "      <td>35</td>\n",
       "      <td>100176</td>\n",
       "      <td>221</td>\n",
       "      <td>2</td>\n",
       "    </tr>\n",
       "    <tr>\n",
       "      <th>4</th>\n",
       "      <td>1.480510e+19</td>\n",
       "      <td>0</td>\n",
       "      <td>2</td>\n",
       "      <td>1005</td>\n",
       "      <td>1</td>\n",
       "      <td>791b5571</td>\n",
       "      <td>fd13bc73</td>\n",
       "      <td>f028772b</td>\n",
       "      <td>ecad2386</td>\n",
       "      <td>7801e8d9</td>\n",
       "      <td>...</td>\n",
       "      <td>0</td>\n",
       "      <td>8330</td>\n",
       "      <td>320</td>\n",
       "      <td>50</td>\n",
       "      <td>761</td>\n",
       "      <td>3</td>\n",
       "      <td>175</td>\n",
       "      <td>100081</td>\n",
       "      <td>23</td>\n",
       "      <td>2</td>\n",
       "    </tr>\n",
       "  </tbody>\n",
       "</table>\n",
       "<p>5 rows × 25 columns</p>\n",
       "</div>"
      ],
      "text/plain": [
       "             id  click  hour    C1  banner_pos   site_id site_domain  \\\n",
       "0  3.983206e+18      0    15  1005           1  e151e245    7e091613   \n",
       "1  7.756884e+18      0     7  1002           0  cb809abf    74acf31a   \n",
       "2  6.941774e+17      0    11  1005           0  85f751fd    c4e18dd6   \n",
       "3  2.664154e+18      1     3  1005           0  85f751fd    c4e18dd6   \n",
       "4  1.480510e+19      0     2  1005           1  791b5571    fd13bc73   \n",
       "\n",
       "  site_category    app_id app_domain   ...    device_conn_type    C14  C15  \\\n",
       "0      f028772b  ecad2386   7801e8d9   ...                   2   4687  320   \n",
       "1      50e219e0  ecad2386   7801e8d9   ...                   0  17894  320   \n",
       "2      50e219e0  e9739828   df32afa9   ...                   0  22684  320   \n",
       "3      50e219e0  a5184c22   b8d325c3   ...                   0  23222  320   \n",
       "4      f028772b  ecad2386   7801e8d9   ...                   0   8330  320   \n",
       "\n",
       "  C16   C17  C18  C19     C20  C21  weekday  \n",
       "0  50   423    2   39  100148   32        2  \n",
       "1  50  2039    2   39  100077   32        3  \n",
       "2  50  2619    1  163  100055   71        0  \n",
       "3  50  2676    0   35  100176  221        2  \n",
       "4  50   761    3  175  100081   23        2  \n",
       "\n",
       "[5 rows x 25 columns]"
      ]
     },
     "execution_count": 41,
     "metadata": {},
     "output_type": "execute_result"
    }
   ],
   "source": [
    "df.head() ##### recalling the data"
   ]
  },
  {
   "cell_type": "markdown",
   "metadata": {},
   "source": [
    "As an example, we now work on the 'site_id' column.\n",
    "<font color=\"red\">**Question 23:**\n",
    "    <br>\n",
    "    - For each modality, compute the number of occurrences in the dataset and the average of clicks for this modality \n",
    "    <br>\n",
    "    - With 'sns.joiplot', represent the set of points (count, mean) for each modality\n",
    "</font>"
   ]
  },
  {
   "cell_type": "code",
   "execution_count": 42,
   "metadata": {
    "scrolled": true
   },
   "outputs": [
    {
     "data": {
      "text/html": [
       "<div>\n",
       "<style scoped>\n",
       "    .dataframe tbody tr th:only-of-type {\n",
       "        vertical-align: middle;\n",
       "    }\n",
       "\n",
       "    .dataframe tbody tr th {\n",
       "        vertical-align: top;\n",
       "    }\n",
       "\n",
       "    .dataframe thead tr th {\n",
       "        text-align: left;\n",
       "    }\n",
       "\n",
       "    .dataframe thead tr:last-of-type th {\n",
       "        text-align: right;\n",
       "    }\n",
       "</style>\n",
       "<table border=\"1\" class=\"dataframe\">\n",
       "  <thead>\n",
       "    <tr>\n",
       "      <th></th>\n",
       "      <th colspan=\"2\" halign=\"left\">click</th>\n",
       "    </tr>\n",
       "    <tr>\n",
       "      <th></th>\n",
       "      <th>count</th>\n",
       "      <th>mean</th>\n",
       "    </tr>\n",
       "    <tr>\n",
       "      <th>site_id</th>\n",
       "      <th></th>\n",
       "      <th></th>\n",
       "    </tr>\n",
       "  </thead>\n",
       "  <tbody>\n",
       "    <tr>\n",
       "      <th>00255fb4</th>\n",
       "      <td>6</td>\n",
       "      <td>0.000000</td>\n",
       "    </tr>\n",
       "    <tr>\n",
       "      <th>006ab81e</th>\n",
       "      <td>5</td>\n",
       "      <td>0.000000</td>\n",
       "    </tr>\n",
       "    <tr>\n",
       "      <th>00b73968</th>\n",
       "      <td>1</td>\n",
       "      <td>1.000000</td>\n",
       "    </tr>\n",
       "    <tr>\n",
       "      <th>00f5367d</th>\n",
       "      <td>2</td>\n",
       "      <td>0.000000</td>\n",
       "    </tr>\n",
       "    <tr>\n",
       "      <th>00f648b7</th>\n",
       "      <td>23</td>\n",
       "      <td>0.260870</td>\n",
       "    </tr>\n",
       "    <tr>\n",
       "      <th>00f7c6fc</th>\n",
       "      <td>3</td>\n",
       "      <td>0.000000</td>\n",
       "    </tr>\n",
       "    <tr>\n",
       "      <th>0114bb39</th>\n",
       "      <td>3</td>\n",
       "      <td>0.000000</td>\n",
       "    </tr>\n",
       "    <tr>\n",
       "      <th>011b0fda</th>\n",
       "      <td>1</td>\n",
       "      <td>0.000000</td>\n",
       "    </tr>\n",
       "    <tr>\n",
       "      <th>011e5414</th>\n",
       "      <td>35</td>\n",
       "      <td>0.342857</td>\n",
       "    </tr>\n",
       "    <tr>\n",
       "      <th>0126d590</th>\n",
       "      <td>1</td>\n",
       "      <td>0.000000</td>\n",
       "    </tr>\n",
       "    <tr>\n",
       "      <th>01270328</th>\n",
       "      <td>185</td>\n",
       "      <td>0.237838</td>\n",
       "    </tr>\n",
       "    <tr>\n",
       "      <th>0129a661</th>\n",
       "      <td>4</td>\n",
       "      <td>0.250000</td>\n",
       "    </tr>\n",
       "    <tr>\n",
       "      <th>013e516e</th>\n",
       "      <td>1</td>\n",
       "      <td>0.000000</td>\n",
       "    </tr>\n",
       "    <tr>\n",
       "      <th>014428c1</th>\n",
       "      <td>16</td>\n",
       "      <td>0.125000</td>\n",
       "    </tr>\n",
       "    <tr>\n",
       "      <th>015cc1dc</th>\n",
       "      <td>2</td>\n",
       "      <td>0.000000</td>\n",
       "    </tr>\n",
       "    <tr>\n",
       "      <th>019de78a</th>\n",
       "      <td>2</td>\n",
       "      <td>0.500000</td>\n",
       "    </tr>\n",
       "    <tr>\n",
       "      <th>01da43f6</th>\n",
       "      <td>1</td>\n",
       "      <td>1.000000</td>\n",
       "    </tr>\n",
       "    <tr>\n",
       "      <th>01e319df</th>\n",
       "      <td>1</td>\n",
       "      <td>0.000000</td>\n",
       "    </tr>\n",
       "    <tr>\n",
       "      <th>021ba5c7</th>\n",
       "      <td>1</td>\n",
       "      <td>0.000000</td>\n",
       "    </tr>\n",
       "    <tr>\n",
       "      <th>021cd138</th>\n",
       "      <td>164</td>\n",
       "      <td>0.365854</td>\n",
       "    </tr>\n",
       "    <tr>\n",
       "      <th>0222f9ee</th>\n",
       "      <td>1</td>\n",
       "      <td>0.000000</td>\n",
       "    </tr>\n",
       "    <tr>\n",
       "      <th>02296256</th>\n",
       "      <td>6</td>\n",
       "      <td>0.166667</td>\n",
       "    </tr>\n",
       "    <tr>\n",
       "      <th>0234a6fa</th>\n",
       "      <td>21</td>\n",
       "      <td>0.571429</td>\n",
       "    </tr>\n",
       "    <tr>\n",
       "      <th>023f3644</th>\n",
       "      <td>178</td>\n",
       "      <td>0.028090</td>\n",
       "    </tr>\n",
       "    <tr>\n",
       "      <th>02546dd5</th>\n",
       "      <td>23</td>\n",
       "      <td>0.000000</td>\n",
       "    </tr>\n",
       "    <tr>\n",
       "      <th>02610967</th>\n",
       "      <td>1</td>\n",
       "      <td>0.000000</td>\n",
       "    </tr>\n",
       "    <tr>\n",
       "      <th>0273c5ad</th>\n",
       "      <td>141</td>\n",
       "      <td>0.106383</td>\n",
       "    </tr>\n",
       "    <tr>\n",
       "      <th>028f551e</th>\n",
       "      <td>1</td>\n",
       "      <td>0.000000</td>\n",
       "    </tr>\n",
       "    <tr>\n",
       "      <th>0295efc0</th>\n",
       "      <td>1</td>\n",
       "      <td>0.000000</td>\n",
       "    </tr>\n",
       "    <tr>\n",
       "      <th>02a66025</th>\n",
       "      <td>22</td>\n",
       "      <td>0.090909</td>\n",
       "    </tr>\n",
       "    <tr>\n",
       "      <th>...</th>\n",
       "      <td>...</td>\n",
       "      <td>...</td>\n",
       "    </tr>\n",
       "    <tr>\n",
       "      <th>fe7d2ab4</th>\n",
       "      <td>11</td>\n",
       "      <td>0.000000</td>\n",
       "    </tr>\n",
       "    <tr>\n",
       "      <th>fe8cc448</th>\n",
       "      <td>297</td>\n",
       "      <td>0.043771</td>\n",
       "    </tr>\n",
       "    <tr>\n",
       "      <th>fe8ea44c</th>\n",
       "      <td>1</td>\n",
       "      <td>1.000000</td>\n",
       "    </tr>\n",
       "    <tr>\n",
       "      <th>fe918eeb</th>\n",
       "      <td>1</td>\n",
       "      <td>0.000000</td>\n",
       "    </tr>\n",
       "    <tr>\n",
       "      <th>fe9c7f90</th>\n",
       "      <td>1</td>\n",
       "      <td>0.000000</td>\n",
       "    </tr>\n",
       "    <tr>\n",
       "      <th>feb793b0</th>\n",
       "      <td>4</td>\n",
       "      <td>0.000000</td>\n",
       "    </tr>\n",
       "    <tr>\n",
       "      <th>fec6e632</th>\n",
       "      <td>1604</td>\n",
       "      <td>0.132170</td>\n",
       "    </tr>\n",
       "    <tr>\n",
       "      <th>fed1a009</th>\n",
       "      <td>3</td>\n",
       "      <td>0.333333</td>\n",
       "    </tr>\n",
       "    <tr>\n",
       "      <th>fee8da23</th>\n",
       "      <td>5</td>\n",
       "      <td>0.000000</td>\n",
       "    </tr>\n",
       "    <tr>\n",
       "      <th>fefe6fb9</th>\n",
       "      <td>48</td>\n",
       "      <td>0.208333</td>\n",
       "    </tr>\n",
       "    <tr>\n",
       "      <th>ff0784fb</th>\n",
       "      <td>4</td>\n",
       "      <td>0.750000</td>\n",
       "    </tr>\n",
       "    <tr>\n",
       "      <th>ff108d09</th>\n",
       "      <td>6</td>\n",
       "      <td>0.000000</td>\n",
       "    </tr>\n",
       "    <tr>\n",
       "      <th>ff18c3d1</th>\n",
       "      <td>280</td>\n",
       "      <td>0.307143</td>\n",
       "    </tr>\n",
       "    <tr>\n",
       "      <th>ff1b88b6</th>\n",
       "      <td>3</td>\n",
       "      <td>0.000000</td>\n",
       "    </tr>\n",
       "    <tr>\n",
       "      <th>ff1bcc6f</th>\n",
       "      <td>51</td>\n",
       "      <td>0.254902</td>\n",
       "    </tr>\n",
       "    <tr>\n",
       "      <th>ff255427</th>\n",
       "      <td>1</td>\n",
       "      <td>0.000000</td>\n",
       "    </tr>\n",
       "    <tr>\n",
       "      <th>ff361da0</th>\n",
       "      <td>543</td>\n",
       "      <td>0.101289</td>\n",
       "    </tr>\n",
       "    <tr>\n",
       "      <th>ff4425e5</th>\n",
       "      <td>4</td>\n",
       "      <td>0.000000</td>\n",
       "    </tr>\n",
       "    <tr>\n",
       "      <th>ff55c4ea</th>\n",
       "      <td>9</td>\n",
       "      <td>0.000000</td>\n",
       "    </tr>\n",
       "    <tr>\n",
       "      <th>ff61c6a9</th>\n",
       "      <td>103</td>\n",
       "      <td>0.174757</td>\n",
       "    </tr>\n",
       "    <tr>\n",
       "      <th>ff719d0c</th>\n",
       "      <td>4</td>\n",
       "      <td>0.000000</td>\n",
       "    </tr>\n",
       "    <tr>\n",
       "      <th>ff9bcf52</th>\n",
       "      <td>4</td>\n",
       "      <td>0.000000</td>\n",
       "    </tr>\n",
       "    <tr>\n",
       "      <th>ff9d066a</th>\n",
       "      <td>34</td>\n",
       "      <td>0.088235</td>\n",
       "    </tr>\n",
       "    <tr>\n",
       "      <th>ffa0a3ef</th>\n",
       "      <td>7</td>\n",
       "      <td>0.285714</td>\n",
       "    </tr>\n",
       "    <tr>\n",
       "      <th>ffad33d9</th>\n",
       "      <td>3</td>\n",
       "      <td>0.333333</td>\n",
       "    </tr>\n",
       "    <tr>\n",
       "      <th>ffb2c209</th>\n",
       "      <td>120</td>\n",
       "      <td>0.100000</td>\n",
       "    </tr>\n",
       "    <tr>\n",
       "      <th>ffc6e801</th>\n",
       "      <td>4</td>\n",
       "      <td>0.500000</td>\n",
       "    </tr>\n",
       "    <tr>\n",
       "      <th>ffcb6b9a</th>\n",
       "      <td>180</td>\n",
       "      <td>0.161111</td>\n",
       "    </tr>\n",
       "    <tr>\n",
       "      <th>ffcff165</th>\n",
       "      <td>21</td>\n",
       "      <td>0.142857</td>\n",
       "    </tr>\n",
       "    <tr>\n",
       "      <th>fffe8e1c</th>\n",
       "      <td>6</td>\n",
       "      <td>0.166667</td>\n",
       "    </tr>\n",
       "  </tbody>\n",
       "</table>\n",
       "<p>2651 rows × 2 columns</p>\n",
       "</div>"
      ],
      "text/plain": [
       "         click          \n",
       "         count      mean\n",
       "site_id                 \n",
       "00255fb4     6  0.000000\n",
       "006ab81e     5  0.000000\n",
       "00b73968     1  1.000000\n",
       "00f5367d     2  0.000000\n",
       "00f648b7    23  0.260870\n",
       "00f7c6fc     3  0.000000\n",
       "0114bb39     3  0.000000\n",
       "011b0fda     1  0.000000\n",
       "011e5414    35  0.342857\n",
       "0126d590     1  0.000000\n",
       "01270328   185  0.237838\n",
       "0129a661     4  0.250000\n",
       "013e516e     1  0.000000\n",
       "014428c1    16  0.125000\n",
       "015cc1dc     2  0.000000\n",
       "019de78a     2  0.500000\n",
       "01da43f6     1  1.000000\n",
       "01e319df     1  0.000000\n",
       "021ba5c7     1  0.000000\n",
       "021cd138   164  0.365854\n",
       "0222f9ee     1  0.000000\n",
       "02296256     6  0.166667\n",
       "0234a6fa    21  0.571429\n",
       "023f3644   178  0.028090\n",
       "02546dd5    23  0.000000\n",
       "02610967     1  0.000000\n",
       "0273c5ad   141  0.106383\n",
       "028f551e     1  0.000000\n",
       "0295efc0     1  0.000000\n",
       "02a66025    22  0.090909\n",
       "...        ...       ...\n",
       "fe7d2ab4    11  0.000000\n",
       "fe8cc448   297  0.043771\n",
       "fe8ea44c     1  1.000000\n",
       "fe918eeb     1  0.000000\n",
       "fe9c7f90     1  0.000000\n",
       "feb793b0     4  0.000000\n",
       "fec6e632  1604  0.132170\n",
       "fed1a009     3  0.333333\n",
       "fee8da23     5  0.000000\n",
       "fefe6fb9    48  0.208333\n",
       "ff0784fb     4  0.750000\n",
       "ff108d09     6  0.000000\n",
       "ff18c3d1   280  0.307143\n",
       "ff1b88b6     3  0.000000\n",
       "ff1bcc6f    51  0.254902\n",
       "ff255427     1  0.000000\n",
       "ff361da0   543  0.101289\n",
       "ff4425e5     4  0.000000\n",
       "ff55c4ea     9  0.000000\n",
       "ff61c6a9   103  0.174757\n",
       "ff719d0c     4  0.000000\n",
       "ff9bcf52     4  0.000000\n",
       "ff9d066a    34  0.088235\n",
       "ffa0a3ef     7  0.285714\n",
       "ffad33d9     3  0.333333\n",
       "ffb2c209   120  0.100000\n",
       "ffc6e801     4  0.500000\n",
       "ffcb6b9a   180  0.161111\n",
       "ffcff165    21  0.142857\n",
       "fffe8e1c     6  0.166667\n",
       "\n",
       "[2651 rows x 2 columns]"
      ]
     },
     "execution_count": 42,
     "metadata": {},
     "output_type": "execute_result"
    }
   ],
   "source": [
    "### compute number of occurences and mean per site id\n",
    "df[['site_id','click']].groupby(by='site_id').agg(['count','mean'])\n"
   ]
  },
  {
   "cell_type": "code",
   "execution_count": 43,
   "metadata": {},
   "outputs": [
    {
     "data": {
      "text/plain": [
       "<Figure size 1440x432 with 0 Axes>"
      ]
     },
     "metadata": {},
     "output_type": "display_data"
    },
    {
     "data": {
      "image/png": "[encoded data removed]",
      "text/plain": [
       "<Figure size 432x432 with 3 Axes>"
      ]
     },
     "metadata": {},
     "output_type": "display_data"
    },
    {
     "data": {
      "image/png": "[encoded data removed]",
      "text/plain": [
       "<Figure size 432x432 with 3 Axes>"
      ]
     },
     "metadata": {},
     "output_type": "display_data"
    }
   ],
   "source": [
    "################################## plot count mean for each modalities ###########\"\"\n",
    "plt.figure(figsize=(20,6))\n",
    "col = 'site_id'\n",
    "a = pd.DataFrame([df.groupby(col).mean()['click'], df.groupby(col).count()['click']]).transpose()\n",
    "a.columns = ['mean', 'n_val']\n",
    "sns.jointplot(a['n_val'], a['mean'], alpha=0.25);\n",
    "thres = 10000\n",
    "sns.jointplot(a[a['n_val']<thres]['n_val'], a[a['n_val']<thres]['mean'], alpha=0.25);\n",
    "#sns.jointplot(a[a['n_val']<thres]['n_val'], a[a['n_val']<thres]['mean'], alpha=0.9);"
   ]
  },
  {
   "cell_type": "markdown",
   "metadata": {},
   "source": [
    "<font color=\"red\">**Question 24:**\n",
    "    In the above commands, what does the alpha parameter stand for?\n",
    "</font>"
   ]
  },
  {
   "cell_type": "markdown",
   "metadata": {},
   "source": [
    "The alpha parameter controls the density of color of observations ( transparency ), the more we distance from the mean , the more the density of color diminue\n"
   ]
  },
  {
   "cell_type": "markdown",
   "metadata": {},
   "source": [
    "Several sites with a lot of occurrences in the dataset have a click frequency very different from the mean. It is relevant to keep the column 'site_id' at least for the modalities for which 'count' is very high.\n"
   ]
  },
  {
   "cell_type": "markdown",
   "metadata": {},
   "source": [
    "<font color=\"red\">**Question 25:**\n",
    "    Do the same work on the 'device_id' column. What do you notice? What could be the isolated point?\n",
    "</font>"
   ]
  },
  {
   "cell_type": "code",
   "execution_count": 44,
   "metadata": {
    "scrolled": true
   },
   "outputs": [
    {
     "data": {
      "text/html": [
       "<div>\n",
       "<style scoped>\n",
       "    .dataframe tbody tr th:only-of-type {\n",
       "        vertical-align: middle;\n",
       "    }\n",
       "\n",
       "    .dataframe tbody tr th {\n",
       "        vertical-align: top;\n",
       "    }\n",
       "\n",
       "    .dataframe thead tr th {\n",
       "        text-align: left;\n",
       "    }\n",
       "\n",
       "    .dataframe thead tr:last-of-type th {\n",
       "        text-align: right;\n",
       "    }\n",
       "</style>\n",
       "<table border=\"1\" class=\"dataframe\">\n",
       "  <thead>\n",
       "    <tr>\n",
       "      <th></th>\n",
       "      <th colspan=\"2\" halign=\"left\">click</th>\n",
       "    </tr>\n",
       "    <tr>\n",
       "      <th></th>\n",
       "      <th>count</th>\n",
       "      <th>mean</th>\n",
       "    </tr>\n",
       "    <tr>\n",
       "      <th>device_id</th>\n",
       "      <th></th>\n",
       "      <th></th>\n",
       "    </tr>\n",
       "  </thead>\n",
       "  <tbody>\n",
       "    <tr>\n",
       "      <th>00000919</th>\n",
       "      <td>1</td>\n",
       "      <td>0.0</td>\n",
       "    </tr>\n",
       "    <tr>\n",
       "      <th>0000194a</th>\n",
       "      <td>1</td>\n",
       "      <td>1.0</td>\n",
       "    </tr>\n",
       "    <tr>\n",
       "      <th>000070cc</th>\n",
       "      <td>1</td>\n",
       "      <td>0.0</td>\n",
       "    </tr>\n",
       "    <tr>\n",
       "      <th>00012342</th>\n",
       "      <td>1</td>\n",
       "      <td>0.0</td>\n",
       "    </tr>\n",
       "    <tr>\n",
       "      <th>0001515a</th>\n",
       "      <td>1</td>\n",
       "      <td>1.0</td>\n",
       "    </tr>\n",
       "    <tr>\n",
       "      <th>00017304</th>\n",
       "      <td>1</td>\n",
       "      <td>0.0</td>\n",
       "    </tr>\n",
       "    <tr>\n",
       "      <th>0001edc1</th>\n",
       "      <td>1</td>\n",
       "      <td>1.0</td>\n",
       "    </tr>\n",
       "    <tr>\n",
       "      <th>00027d63</th>\n",
       "      <td>1</td>\n",
       "      <td>1.0</td>\n",
       "    </tr>\n",
       "    <tr>\n",
       "      <th>0002a816</th>\n",
       "      <td>1</td>\n",
       "      <td>0.0</td>\n",
       "    </tr>\n",
       "    <tr>\n",
       "      <th>00030b6d</th>\n",
       "      <td>1</td>\n",
       "      <td>0.0</td>\n",
       "    </tr>\n",
       "    <tr>\n",
       "      <th>00030d45</th>\n",
       "      <td>1</td>\n",
       "      <td>0.0</td>\n",
       "    </tr>\n",
       "    <tr>\n",
       "      <th>00038618</th>\n",
       "      <td>2</td>\n",
       "      <td>0.0</td>\n",
       "    </tr>\n",
       "    <tr>\n",
       "      <th>0003a1f5</th>\n",
       "      <td>1</td>\n",
       "      <td>0.0</td>\n",
       "    </tr>\n",
       "    <tr>\n",
       "      <th>0003e74f</th>\n",
       "      <td>1</td>\n",
       "      <td>0.0</td>\n",
       "    </tr>\n",
       "    <tr>\n",
       "      <th>00057dc5</th>\n",
       "      <td>1</td>\n",
       "      <td>0.0</td>\n",
       "    </tr>\n",
       "    <tr>\n",
       "      <th>00058d01</th>\n",
       "      <td>1</td>\n",
       "      <td>0.0</td>\n",
       "    </tr>\n",
       "    <tr>\n",
       "      <th>0005ad82</th>\n",
       "      <td>1</td>\n",
       "      <td>0.0</td>\n",
       "    </tr>\n",
       "    <tr>\n",
       "      <th>0006676e</th>\n",
       "      <td>1</td>\n",
       "      <td>0.0</td>\n",
       "    </tr>\n",
       "    <tr>\n",
       "      <th>0007b36d</th>\n",
       "      <td>1</td>\n",
       "      <td>0.0</td>\n",
       "    </tr>\n",
       "    <tr>\n",
       "      <th>000817d8</th>\n",
       "      <td>2</td>\n",
       "      <td>0.0</td>\n",
       "    </tr>\n",
       "    <tr>\n",
       "      <th>00083085</th>\n",
       "      <td>1</td>\n",
       "      <td>1.0</td>\n",
       "    </tr>\n",
       "    <tr>\n",
       "      <th>000838b9</th>\n",
       "      <td>1</td>\n",
       "      <td>0.0</td>\n",
       "    </tr>\n",
       "    <tr>\n",
       "      <th>00089a9c</th>\n",
       "      <td>2</td>\n",
       "      <td>0.5</td>\n",
       "    </tr>\n",
       "    <tr>\n",
       "      <th>00097739</th>\n",
       "      <td>1</td>\n",
       "      <td>0.0</td>\n",
       "    </tr>\n",
       "    <tr>\n",
       "      <th>000994a0</th>\n",
       "      <td>1</td>\n",
       "      <td>1.0</td>\n",
       "    </tr>\n",
       "    <tr>\n",
       "      <th>0009b88e</th>\n",
       "      <td>1</td>\n",
       "      <td>0.0</td>\n",
       "    </tr>\n",
       "    <tr>\n",
       "      <th>000a0e4c</th>\n",
       "      <td>1</td>\n",
       "      <td>0.0</td>\n",
       "    </tr>\n",
       "    <tr>\n",
       "      <th>000a51d6</th>\n",
       "      <td>1</td>\n",
       "      <td>1.0</td>\n",
       "    </tr>\n",
       "    <tr>\n",
       "      <th>000a8399</th>\n",
       "      <td>1</td>\n",
       "      <td>0.0</td>\n",
       "    </tr>\n",
       "    <tr>\n",
       "      <th>000a9070</th>\n",
       "      <td>1</td>\n",
       "      <td>0.0</td>\n",
       "    </tr>\n",
       "    <tr>\n",
       "      <th>...</th>\n",
       "      <td>...</td>\n",
       "      <td>...</td>\n",
       "    </tr>\n",
       "    <tr>\n",
       "      <th>fff40d34</th>\n",
       "      <td>1</td>\n",
       "      <td>0.0</td>\n",
       "    </tr>\n",
       "    <tr>\n",
       "      <th>fff43563</th>\n",
       "      <td>2</td>\n",
       "      <td>0.0</td>\n",
       "    </tr>\n",
       "    <tr>\n",
       "      <th>fff46785</th>\n",
       "      <td>1</td>\n",
       "      <td>0.0</td>\n",
       "    </tr>\n",
       "    <tr>\n",
       "      <th>fff4bd93</th>\n",
       "      <td>1</td>\n",
       "      <td>0.0</td>\n",
       "    </tr>\n",
       "    <tr>\n",
       "      <th>fff4e647</th>\n",
       "      <td>1</td>\n",
       "      <td>0.0</td>\n",
       "    </tr>\n",
       "    <tr>\n",
       "      <th>fff52a52</th>\n",
       "      <td>1</td>\n",
       "      <td>1.0</td>\n",
       "    </tr>\n",
       "    <tr>\n",
       "      <th>fff543d0</th>\n",
       "      <td>1</td>\n",
       "      <td>1.0</td>\n",
       "    </tr>\n",
       "    <tr>\n",
       "      <th>fff57d1d</th>\n",
       "      <td>1</td>\n",
       "      <td>0.0</td>\n",
       "    </tr>\n",
       "    <tr>\n",
       "      <th>fff6c47b</th>\n",
       "      <td>1</td>\n",
       "      <td>0.0</td>\n",
       "    </tr>\n",
       "    <tr>\n",
       "      <th>fff735d8</th>\n",
       "      <td>1</td>\n",
       "      <td>1.0</td>\n",
       "    </tr>\n",
       "    <tr>\n",
       "      <th>fff74754</th>\n",
       "      <td>1</td>\n",
       "      <td>0.0</td>\n",
       "    </tr>\n",
       "    <tr>\n",
       "      <th>fff7bba5</th>\n",
       "      <td>1</td>\n",
       "      <td>1.0</td>\n",
       "    </tr>\n",
       "    <tr>\n",
       "      <th>fff8b415</th>\n",
       "      <td>1</td>\n",
       "      <td>0.0</td>\n",
       "    </tr>\n",
       "    <tr>\n",
       "      <th>fff8f0a1</th>\n",
       "      <td>1</td>\n",
       "      <td>0.0</td>\n",
       "    </tr>\n",
       "    <tr>\n",
       "      <th>fff93cb4</th>\n",
       "      <td>1</td>\n",
       "      <td>0.0</td>\n",
       "    </tr>\n",
       "    <tr>\n",
       "      <th>fffa2f21</th>\n",
       "      <td>1</td>\n",
       "      <td>0.0</td>\n",
       "    </tr>\n",
       "    <tr>\n",
       "      <th>fffaac6d</th>\n",
       "      <td>3</td>\n",
       "      <td>0.0</td>\n",
       "    </tr>\n",
       "    <tr>\n",
       "      <th>fffb0699</th>\n",
       "      <td>1</td>\n",
       "      <td>0.0</td>\n",
       "    </tr>\n",
       "    <tr>\n",
       "      <th>fffb6698</th>\n",
       "      <td>1</td>\n",
       "      <td>0.0</td>\n",
       "    </tr>\n",
       "    <tr>\n",
       "      <th>fffbc5bb</th>\n",
       "      <td>1</td>\n",
       "      <td>0.0</td>\n",
       "    </tr>\n",
       "    <tr>\n",
       "      <th>fffc305e</th>\n",
       "      <td>1</td>\n",
       "      <td>1.0</td>\n",
       "    </tr>\n",
       "    <tr>\n",
       "      <th>fffc33d1</th>\n",
       "      <td>1</td>\n",
       "      <td>0.0</td>\n",
       "    </tr>\n",
       "    <tr>\n",
       "      <th>fffca6a5</th>\n",
       "      <td>2</td>\n",
       "      <td>1.0</td>\n",
       "    </tr>\n",
       "    <tr>\n",
       "      <th>fffcea00</th>\n",
       "      <td>1</td>\n",
       "      <td>0.0</td>\n",
       "    </tr>\n",
       "    <tr>\n",
       "      <th>fffd3aa8</th>\n",
       "      <td>1</td>\n",
       "      <td>0.0</td>\n",
       "    </tr>\n",
       "    <tr>\n",
       "      <th>fffdf33e</th>\n",
       "      <td>1</td>\n",
       "      <td>0.0</td>\n",
       "    </tr>\n",
       "    <tr>\n",
       "      <th>fffe3ef0</th>\n",
       "      <td>1</td>\n",
       "      <td>0.0</td>\n",
       "    </tr>\n",
       "    <tr>\n",
       "      <th>fffe5cb4</th>\n",
       "      <td>1</td>\n",
       "      <td>0.0</td>\n",
       "    </tr>\n",
       "    <tr>\n",
       "      <th>fffe9672</th>\n",
       "      <td>1</td>\n",
       "      <td>0.0</td>\n",
       "    </tr>\n",
       "    <tr>\n",
       "      <th>ffffd98b</th>\n",
       "      <td>2</td>\n",
       "      <td>0.5</td>\n",
       "    </tr>\n",
       "  </tbody>\n",
       "</table>\n",
       "<p>150501 rows × 2 columns</p>\n",
       "</div>"
      ],
      "text/plain": [
       "          click     \n",
       "          count mean\n",
       "device_id           \n",
       "00000919      1  0.0\n",
       "0000194a      1  1.0\n",
       "000070cc      1  0.0\n",
       "00012342      1  0.0\n",
       "0001515a      1  1.0\n",
       "00017304      1  0.0\n",
       "0001edc1      1  1.0\n",
       "00027d63      1  1.0\n",
       "0002a816      1  0.0\n",
       "00030b6d      1  0.0\n",
       "00030d45      1  0.0\n",
       "00038618      2  0.0\n",
       "0003a1f5      1  0.0\n",
       "0003e74f      1  0.0\n",
       "00057dc5      1  0.0\n",
       "00058d01      1  0.0\n",
       "0005ad82      1  0.0\n",
       "0006676e      1  0.0\n",
       "0007b36d      1  0.0\n",
       "000817d8      2  0.0\n",
       "00083085      1  1.0\n",
       "000838b9      1  0.0\n",
       "00089a9c      2  0.5\n",
       "00097739      1  0.0\n",
       "000994a0      1  1.0\n",
       "0009b88e      1  0.0\n",
       "000a0e4c      1  0.0\n",
       "000a51d6      1  1.0\n",
       "000a8399      1  0.0\n",
       "000a9070      1  0.0\n",
       "...         ...  ...\n",
       "fff40d34      1  0.0\n",
       "fff43563      2  0.0\n",
       "fff46785      1  0.0\n",
       "fff4bd93      1  0.0\n",
       "fff4e647      1  0.0\n",
       "fff52a52      1  1.0\n",
       "fff543d0      1  1.0\n",
       "fff57d1d      1  0.0\n",
       "fff6c47b      1  0.0\n",
       "fff735d8      1  1.0\n",
       "fff74754      1  0.0\n",
       "fff7bba5      1  1.0\n",
       "fff8b415      1  0.0\n",
       "fff8f0a1      1  0.0\n",
       "fff93cb4      1  0.0\n",
       "fffa2f21      1  0.0\n",
       "fffaac6d      3  0.0\n",
       "fffb0699      1  0.0\n",
       "fffb6698      1  0.0\n",
       "fffbc5bb      1  0.0\n",
       "fffc305e      1  1.0\n",
       "fffc33d1      1  0.0\n",
       "fffca6a5      2  1.0\n",
       "fffcea00      1  0.0\n",
       "fffd3aa8      1  0.0\n",
       "fffdf33e      1  0.0\n",
       "fffe3ef0      1  0.0\n",
       "fffe5cb4      1  0.0\n",
       "fffe9672      1  0.0\n",
       "ffffd98b      2  0.5\n",
       "\n",
       "[150501 rows x 2 columns]"
      ]
     },
     "execution_count": 44,
     "metadata": {},
     "output_type": "execute_result"
    }
   ],
   "source": [
    "df[['device_id','click']].groupby(by='device_id').agg(['count','mean']) ###the same as the site category\n"
   ]
  },
  {
   "cell_type": "code",
   "execution_count": 45,
   "metadata": {
    "scrolled": false
   },
   "outputs": [
    {
     "data": {
      "image/png": "[encoded data removed]",
      "text/plain": [
       "<Figure size 432x432 with 3 Axes>"
      ]
     },
     "metadata": {},
     "output_type": "display_data"
    },
    {
     "data": {
      "image/png": "[encoded data removed]",
      "text/plain": [
       "<Figure size 432x432 with 3 Axes>"
      ]
     },
     "metadata": {},
     "output_type": "display_data"
    }
   ],
   "source": [
    "col = 'device_id'\n",
    "\n",
    "a = pd.DataFrame([df.groupby(col).mean()['click'], df.groupby(col).count()['click']]).transpose()\n",
    "a.columns = ['mean', 'n_val']\n",
    "sns.jointplot(a['n_val'], a['mean'], alpha=0.25);\n",
    "thres = 10000\n",
    "sns.jointplot(a[a['n_val']<thres]['n_val'], a[a['n_val']<thres]['mean'], alpha=0.25);"
   ]
  },
  {
   "cell_type": "markdown",
   "metadata": {},
   "source": [
    "There is a device ID that was highly used compared to the other devices ,it can be a robot or an automated script , So we need to isolte such outlier"
   ]
  },
  {
   "cell_type": "code",
   "execution_count": 46,
   "metadata": {},
   "outputs": [
    {
     "name": "stdout",
     "output_type": "stream",
     "text": [
      "The device that need to be isolated is a99f214a\n"
     ]
    }
   ],
   "source": [
    "############ gettng the device_id having the highest count ############\n",
    "df_device=df[['device_id','click']].groupby(by='device_id').agg(['count','mean']) ###get mean & count per devie\n",
    "df_device.columns = [\"_\".join(x) for x in df_device.columns.ravel()]\n",
    "device_weird=df_device.sort_values(by=\"click_count\", ascending=False).index[0]\n",
    "print(\"The device that need to be isolated is %s\" %device_weird)"
   ]
  },
  {
   "cell_type": "markdown",
   "metadata": {},
   "source": [
    "<font color=\"red\">**Question 26**:   \n",
    "    In the column df['device_id'], spot the value V corresponding to the largest number of 'count' (using '.value_counts' method). Create a new column df['user'] defined as follows:\n",
    "</font>\n",
    "$$\n",
    "\\text{user} = \\left\\{\\begin{array}[h]{ll} \\text{device_ip + device_model} & \\text{if device_id = V}\\\\ \\text{device_id} & \\text{else.}\\end{array}\\right.\n",
    "$$"
   ]
  },
  {
   "cell_type": "code",
   "execution_count": 47,
   "metadata": {
    "scrolled": true
   },
   "outputs": [
    {
     "data": {
      "text/html": [
       "<div>\n",
       "<style scoped>\n",
       "    .dataframe tbody tr th:only-of-type {\n",
       "        vertical-align: middle;\n",
       "    }\n",
       "\n",
       "    .dataframe tbody tr th {\n",
       "        vertical-align: top;\n",
       "    }\n",
       "\n",
       "    .dataframe thead th {\n",
       "        text-align: right;\n",
       "    }\n",
       "</style>\n",
       "<table border=\"1\" class=\"dataframe\">\n",
       "  <thead>\n",
       "    <tr style=\"text-align: right;\">\n",
       "      <th></th>\n",
       "      <th>id</th>\n",
       "      <th>click</th>\n",
       "      <th>hour</th>\n",
       "      <th>C1</th>\n",
       "      <th>banner_pos</th>\n",
       "      <th>site_id</th>\n",
       "      <th>site_domain</th>\n",
       "      <th>site_category</th>\n",
       "      <th>app_id</th>\n",
       "      <th>app_domain</th>\n",
       "      <th>...</th>\n",
       "      <th>C14</th>\n",
       "      <th>C15</th>\n",
       "      <th>C16</th>\n",
       "      <th>C17</th>\n",
       "      <th>C18</th>\n",
       "      <th>C19</th>\n",
       "      <th>C20</th>\n",
       "      <th>C21</th>\n",
       "      <th>weekday</th>\n",
       "      <th>user</th>\n",
       "    </tr>\n",
       "  </thead>\n",
       "  <tbody>\n",
       "    <tr>\n",
       "      <th>0</th>\n",
       "      <td>3.983206e+18</td>\n",
       "      <td>0</td>\n",
       "      <td>15</td>\n",
       "      <td>1005</td>\n",
       "      <td>1</td>\n",
       "      <td>e151e245</td>\n",
       "      <td>7e091613</td>\n",
       "      <td>f028772b</td>\n",
       "      <td>ecad2386</td>\n",
       "      <td>7801e8d9</td>\n",
       "      <td>...</td>\n",
       "      <td>4687</td>\n",
       "      <td>320</td>\n",
       "      <td>50</td>\n",
       "      <td>423</td>\n",
       "      <td>2</td>\n",
       "      <td>39</td>\n",
       "      <td>100148</td>\n",
       "      <td>32</td>\n",
       "      <td>2</td>\n",
       "      <td>fb6566d3be87996b</td>\n",
       "    </tr>\n",
       "    <tr>\n",
       "      <th>1</th>\n",
       "      <td>7.756884e+18</td>\n",
       "      <td>0</td>\n",
       "      <td>7</td>\n",
       "      <td>1002</td>\n",
       "      <td>0</td>\n",
       "      <td>cb809abf</td>\n",
       "      <td>74acf31a</td>\n",
       "      <td>50e219e0</td>\n",
       "      <td>ecad2386</td>\n",
       "      <td>7801e8d9</td>\n",
       "      <td>...</td>\n",
       "      <td>17894</td>\n",
       "      <td>320</td>\n",
       "      <td>50</td>\n",
       "      <td>2039</td>\n",
       "      <td>2</td>\n",
       "      <td>39</td>\n",
       "      <td>100077</td>\n",
       "      <td>32</td>\n",
       "      <td>3</td>\n",
       "      <td>9b7af851</td>\n",
       "    </tr>\n",
       "    <tr>\n",
       "      <th>2</th>\n",
       "      <td>6.941774e+17</td>\n",
       "      <td>0</td>\n",
       "      <td>11</td>\n",
       "      <td>1005</td>\n",
       "      <td>0</td>\n",
       "      <td>85f751fd</td>\n",
       "      <td>c4e18dd6</td>\n",
       "      <td>50e219e0</td>\n",
       "      <td>e9739828</td>\n",
       "      <td>df32afa9</td>\n",
       "      <td>...</td>\n",
       "      <td>22684</td>\n",
       "      <td>320</td>\n",
       "      <td>50</td>\n",
       "      <td>2619</td>\n",
       "      <td>1</td>\n",
       "      <td>163</td>\n",
       "      <td>100055</td>\n",
       "      <td>71</td>\n",
       "      <td>0</td>\n",
       "      <td>748e298a3c55fad5</td>\n",
       "    </tr>\n",
       "    <tr>\n",
       "      <th>3</th>\n",
       "      <td>2.664154e+18</td>\n",
       "      <td>1</td>\n",
       "      <td>3</td>\n",
       "      <td>1005</td>\n",
       "      <td>0</td>\n",
       "      <td>85f751fd</td>\n",
       "      <td>c4e18dd6</td>\n",
       "      <td>50e219e0</td>\n",
       "      <td>a5184c22</td>\n",
       "      <td>b8d325c3</td>\n",
       "      <td>...</td>\n",
       "      <td>23222</td>\n",
       "      <td>320</td>\n",
       "      <td>50</td>\n",
       "      <td>2676</td>\n",
       "      <td>0</td>\n",
       "      <td>35</td>\n",
       "      <td>100176</td>\n",
       "      <td>221</td>\n",
       "      <td>2</td>\n",
       "      <td>a50da3d4c5cc73c1</td>\n",
       "    </tr>\n",
       "    <tr>\n",
       "      <th>4</th>\n",
       "      <td>1.480510e+19</td>\n",
       "      <td>0</td>\n",
       "      <td>2</td>\n",
       "      <td>1005</td>\n",
       "      <td>1</td>\n",
       "      <td>791b5571</td>\n",
       "      <td>fd13bc73</td>\n",
       "      <td>f028772b</td>\n",
       "      <td>ecad2386</td>\n",
       "      <td>7801e8d9</td>\n",
       "      <td>...</td>\n",
       "      <td>8330</td>\n",
       "      <td>320</td>\n",
       "      <td>50</td>\n",
       "      <td>761</td>\n",
       "      <td>3</td>\n",
       "      <td>175</td>\n",
       "      <td>100081</td>\n",
       "      <td>23</td>\n",
       "      <td>2</td>\n",
       "      <td>d5f88679a5bce124</td>\n",
       "    </tr>\n",
       "    <tr>\n",
       "      <th>5</th>\n",
       "      <td>1.591127e+19</td>\n",
       "      <td>0</td>\n",
       "      <td>0</td>\n",
       "      <td>1005</td>\n",
       "      <td>0</td>\n",
       "      <td>85f751fd</td>\n",
       "      <td>c4e18dd6</td>\n",
       "      <td>50e219e0</td>\n",
       "      <td>febd1138</td>\n",
       "      <td>82e27996</td>\n",
       "      <td>...</td>\n",
       "      <td>21611</td>\n",
       "      <td>320</td>\n",
       "      <td>50</td>\n",
       "      <td>2480</td>\n",
       "      <td>3</td>\n",
       "      <td>297</td>\n",
       "      <td>100111</td>\n",
       "      <td>61</td>\n",
       "      <td>0</td>\n",
       "      <td>189590f92ea4f8ba</td>\n",
       "    </tr>\n",
       "    <tr>\n",
       "      <th>6</th>\n",
       "      <td>4.149473e+18</td>\n",
       "      <td>0</td>\n",
       "      <td>8</td>\n",
       "      <td>1010</td>\n",
       "      <td>1</td>\n",
       "      <td>85f751fd</td>\n",
       "      <td>c4e18dd6</td>\n",
       "      <td>50e219e0</td>\n",
       "      <td>03a08c3f</td>\n",
       "      <td>7801e8d9</td>\n",
       "      <td>...</td>\n",
       "      <td>15704</td>\n",
       "      <td>320</td>\n",
       "      <td>50</td>\n",
       "      <td>1722</td>\n",
       "      <td>0</td>\n",
       "      <td>35</td>\n",
       "      <td>100084</td>\n",
       "      <td>79</td>\n",
       "      <td>4</td>\n",
       "      <td>192d98b0</td>\n",
       "    </tr>\n",
       "    <tr>\n",
       "      <th>7</th>\n",
       "      <td>1.085379e+19</td>\n",
       "      <td>0</td>\n",
       "      <td>4</td>\n",
       "      <td>1005</td>\n",
       "      <td>0</td>\n",
       "      <td>85f751fd</td>\n",
       "      <td>c4e18dd6</td>\n",
       "      <td>50e219e0</td>\n",
       "      <td>a5184c22</td>\n",
       "      <td>b8d325c3</td>\n",
       "      <td>...</td>\n",
       "      <td>23224</td>\n",
       "      <td>320</td>\n",
       "      <td>50</td>\n",
       "      <td>2676</td>\n",
       "      <td>0</td>\n",
       "      <td>35</td>\n",
       "      <td>100176</td>\n",
       "      <td>221</td>\n",
       "      <td>2</td>\n",
       "      <td>342b6e9ea0f5f879</td>\n",
       "    </tr>\n",
       "    <tr>\n",
       "      <th>8</th>\n",
       "      <td>2.629918e+18</td>\n",
       "      <td>0</td>\n",
       "      <td>13</td>\n",
       "      <td>1010</td>\n",
       "      <td>1</td>\n",
       "      <td>85f751fd</td>\n",
       "      <td>c4e18dd6</td>\n",
       "      <td>50e219e0</td>\n",
       "      <td>8486dd4e</td>\n",
       "      <td>7801e8d9</td>\n",
       "      <td>...</td>\n",
       "      <td>17875</td>\n",
       "      <td>320</td>\n",
       "      <td>50</td>\n",
       "      <td>2036</td>\n",
       "      <td>3</td>\n",
       "      <td>47</td>\n",
       "      <td>-1</td>\n",
       "      <td>156</td>\n",
       "      <td>5</td>\n",
       "      <td>50dc7a55</td>\n",
       "    </tr>\n",
       "    <tr>\n",
       "      <th>9</th>\n",
       "      <td>1.419062e+19</td>\n",
       "      <td>0</td>\n",
       "      <td>0</td>\n",
       "      <td>1010</td>\n",
       "      <td>1</td>\n",
       "      <td>85f751fd</td>\n",
       "      <td>c4e18dd6</td>\n",
       "      <td>50e219e0</td>\n",
       "      <td>04f2be5f</td>\n",
       "      <td>7801e8d9</td>\n",
       "      <td>...</td>\n",
       "      <td>22552</td>\n",
       "      <td>320</td>\n",
       "      <td>50</td>\n",
       "      <td>2602</td>\n",
       "      <td>0</td>\n",
       "      <td>163</td>\n",
       "      <td>100084</td>\n",
       "      <td>182</td>\n",
       "      <td>6</td>\n",
       "      <td>feb99a64</td>\n",
       "    </tr>\n",
       "  </tbody>\n",
       "</table>\n",
       "<p>10 rows × 26 columns</p>\n",
       "</div>"
      ],
      "text/plain": [
       "             id  click  hour    C1  banner_pos   site_id site_domain  \\\n",
       "0  3.983206e+18      0    15  1005           1  e151e245    7e091613   \n",
       "1  7.756884e+18      0     7  1002           0  cb809abf    74acf31a   \n",
       "2  6.941774e+17      0    11  1005           0  85f751fd    c4e18dd6   \n",
       "3  2.664154e+18      1     3  1005           0  85f751fd    c4e18dd6   \n",
       "4  1.480510e+19      0     2  1005           1  791b5571    fd13bc73   \n",
       "5  1.591127e+19      0     0  1005           0  85f751fd    c4e18dd6   \n",
       "6  4.149473e+18      0     8  1010           1  85f751fd    c4e18dd6   \n",
       "7  1.085379e+19      0     4  1005           0  85f751fd    c4e18dd6   \n",
       "8  2.629918e+18      0    13  1010           1  85f751fd    c4e18dd6   \n",
       "9  1.419062e+19      0     0  1010           1  85f751fd    c4e18dd6   \n",
       "\n",
       "  site_category    app_id app_domain        ...           C14  C15 C16   C17  \\\n",
       "0      f028772b  ecad2386   7801e8d9        ...          4687  320  50   423   \n",
       "1      50e219e0  ecad2386   7801e8d9        ...         17894  320  50  2039   \n",
       "2      50e219e0  e9739828   df32afa9        ...         22684  320  50  2619   \n",
       "3      50e219e0  a5184c22   b8d325c3        ...         23222  320  50  2676   \n",
       "4      f028772b  ecad2386   7801e8d9        ...          8330  320  50   761   \n",
       "5      50e219e0  febd1138   82e27996        ...         21611  320  50  2480   \n",
       "6      50e219e0  03a08c3f   7801e8d9        ...         15704  320  50  1722   \n",
       "7      50e219e0  a5184c22   b8d325c3        ...         23224  320  50  2676   \n",
       "8      50e219e0  8486dd4e   7801e8d9        ...         17875  320  50  2036   \n",
       "9      50e219e0  04f2be5f   7801e8d9        ...         22552  320  50  2602   \n",
       "\n",
       "   C18  C19     C20  C21  weekday              user  \n",
       "0    2   39  100148   32        2  fb6566d3be87996b  \n",
       "1    2   39  100077   32        3          9b7af851  \n",
       "2    1  163  100055   71        0  748e298a3c55fad5  \n",
       "3    0   35  100176  221        2  a50da3d4c5cc73c1  \n",
       "4    3  175  100081   23        2  d5f88679a5bce124  \n",
       "5    3  297  100111   61        0  189590f92ea4f8ba  \n",
       "6    0   35  100084   79        4          192d98b0  \n",
       "7    0   35  100176  221        2  342b6e9ea0f5f879  \n",
       "8    3   47      -1  156        5          50dc7a55  \n",
       "9    0  163  100084  182        6          feb99a64  \n",
       "\n",
       "[10 rows x 26 columns]"
      ]
     },
     "execution_count": 47,
     "metadata": {},
     "output_type": "execute_result"
    }
   ],
   "source": [
    "\n",
    "df_device=df[['device_id','click']].groupby(by='device_id').agg(['count','mean'])## prepare count mean click per device\n",
    "df_device.columns = [\"_\".join(x) for x in df_device.columns.ravel()]\n",
    "V=df_device.sort_values(by=\"click_count\", ascending=False).index[0]#### we sort the data by click  count\n",
    "df_new=df.copy() ## create a copy in case of\n",
    "df_new['user'] =df_new.device_id ## initalize the column user with device id\n",
    "df_new.user[df_new.device_id==V]=df_new.device_ip[df_new.device_id==V]+df_new.device_model[df_new.device_id==V] ##update in device-id =V\n",
    "df_new.head(10)"
   ]
  },
  {
   "cell_type": "markdown",
   "metadata": {},
   "source": [
    "<font color=\"red\">**Question 27**:\n",
    "    Drop the following columns: 'device_id','device_model','device_ip'\n",
    "</font>"
   ]
  },
  {
   "cell_type": "code",
   "execution_count": 48,
   "metadata": {},
   "outputs": [],
   "source": [
    "##################### dropping columns #############\n",
    "\n",
    "df_new=df_new.drop('device_id',axis=1)\n",
    "df_new=df_new.drop('device_model',axis=1)\n",
    "df_new=df_new.drop('device_ip',axis=1)"
   ]
  },
  {
   "cell_type": "markdown",
   "metadata": {},
   "source": [
    "<font color=\"red\">**Question 28**:\n",
    "    One could look at the similarity between 'site_id' and 'site_domain'. Merge those columns into a new 'site' column and delete the old 'site_id' and 'site_domain' columns.\n",
    "</font>"
   ]
  },
  {
   "cell_type": "code",
   "execution_count": 49,
   "metadata": {},
   "outputs": [],
   "source": [
    "df_new['site']=df_new.site_id+df_new.site_domain ### create site variable"
   ]
  },
  {
   "cell_type": "code",
   "execution_count": 50,
   "metadata": {},
   "outputs": [],
   "source": [
    "#######\"\"\" dropping site_id and site_domain #############\"\"\"\n",
    "df_new=df_new.drop('site_id',axis=1)\n",
    "df_new=df_new.drop('site_domain',axis=1)"
   ]
  },
  {
   "cell_type": "code",
   "execution_count": 51,
   "metadata": {},
   "outputs": [
    {
     "data": {
      "text/plain": [
       "Index(['id', 'click', 'hour', 'C1', 'banner_pos', 'site_category', 'app_id',\n",
       "       'app_domain', 'app_category', 'device_type', 'device_conn_type', 'C14',\n",
       "       'C15', 'C16', 'C17', 'C18', 'C19', 'C20', 'C21', 'weekday', 'user',\n",
       "       'site'],\n",
       "      dtype='object')"
      ]
     },
     "execution_count": 51,
     "metadata": {},
     "output_type": "execute_result"
    }
   ],
   "source": [
    "df_new.columns"
   ]
  },
  {
   "cell_type": "markdown",
   "metadata": {},
   "source": [
    "<font color=\"red\">**Question 29**:\n",
    "    Once again, split the modified DataFrame df into a train (90%) and a test set (10%) (with option: random_state = 100).\n",
    "</font>"
   ]
  },
  {
   "cell_type": "code",
   "execution_count": 52,
   "metadata": {},
   "outputs": [],
   "source": [
    "########### set index ##########\"\"\n",
    "df_new=df_new.set_index('id')\n"
   ]
  },
  {
   "cell_type": "code",
   "execution_count": 53,
   "metadata": {},
   "outputs": [],
   "source": [
    "###################################### labbel encoding ################################\n",
    "\n",
    "df_new.C20[df_new.C20==-1]=99999999 ### label encoder does not accept -1\n",
    "\n",
    "######## label encoding train\n",
    "le_app = LabelEncoder()\n",
    "x=le_app.fit_transform(df_new[['app_category']].astype(str))\n",
    "df_new.app_category=x\n",
    "\n",
    "le_site = LabelEncoder()\n",
    "x=le_site.fit_transform(df_new[['site_category']].astype(str))\n",
    "df_new.site_category=x\n",
    "\n",
    "le_appid = LabelEncoder()\n",
    "x=le_appid.fit_transform(df_new[['app_id']].astype(str))\n",
    "df_new.app_id=x\n",
    "\n",
    "le_appdomain = LabelEncoder()\n",
    "x=le_appdomain.fit_transform(df_new[['app_domain']].astype(str))\n",
    "df_new.app_domain=x\n",
    "\n",
    "le_user= LabelEncoder()\n",
    "x=le_user.fit_transform(df_new[['user']].astype(str))\n",
    "df_new.user=x\n",
    "\n",
    "le_site = LabelEncoder()\n",
    "x=le_site.fit_transform(df_new[['site']].astype(str))\n",
    "df_new.site=x"
   ]
  },
  {
   "cell_type": "code",
   "execution_count": 54,
   "metadata": {},
   "outputs": [
    {
     "name": "stdout",
     "output_type": "stream",
     "text": [
      "Train shape {900000,20}\n",
      "Test shape {100000,20}\n"
     ]
    }
   ],
   "source": [
    "##################################  test train split ####################################\n",
    "\n",
    "X_train_b=df_new.drop('click',axis=1)\n",
    "y_train_b=df_new['click']\n",
    "Xtrain, Xtest, ytrain, ytest = train_test_split(X_train_b, y_train_b, test_size=0.1, random_state=100)\n",
    "print(\"Train shape {%s,%s}\" %Xtrain.shape)\n",
    "print(\"Test shape {%s,%s}\" %Xtest.shape)"
   ]
  },
  {
   "cell_type": "code",
   "execution_count": 55,
   "metadata": {},
   "outputs": [
    {
     "data": {
      "text/html": [
       "<div>\n",
       "<style scoped>\n",
       "    .dataframe tbody tr th:only-of-type {\n",
       "        vertical-align: middle;\n",
       "    }\n",
       "\n",
       "    .dataframe tbody tr th {\n",
       "        vertical-align: top;\n",
       "    }\n",
       "\n",
       "    .dataframe thead th {\n",
       "        text-align: right;\n",
       "    }\n",
       "</style>\n",
       "<table border=\"1\" class=\"dataframe\">\n",
       "  <thead>\n",
       "    <tr style=\"text-align: right;\">\n",
       "      <th></th>\n",
       "      <th>hour</th>\n",
       "      <th>C1</th>\n",
       "      <th>banner_pos</th>\n",
       "      <th>site_category</th>\n",
       "      <th>app_id</th>\n",
       "      <th>app_domain</th>\n",
       "      <th>app_category</th>\n",
       "      <th>device_type</th>\n",
       "      <th>device_conn_type</th>\n",
       "      <th>C14</th>\n",
       "      <th>C15</th>\n",
       "      <th>C16</th>\n",
       "      <th>C17</th>\n",
       "      <th>C18</th>\n",
       "      <th>C19</th>\n",
       "      <th>C20</th>\n",
       "      <th>C21</th>\n",
       "      <th>weekday</th>\n",
       "      <th>user</th>\n",
       "      <th>site</th>\n",
       "    </tr>\n",
       "    <tr>\n",
       "      <th>id</th>\n",
       "      <th></th>\n",
       "      <th></th>\n",
       "      <th></th>\n",
       "      <th></th>\n",
       "      <th></th>\n",
       "      <th></th>\n",
       "      <th></th>\n",
       "      <th></th>\n",
       "      <th></th>\n",
       "      <th></th>\n",
       "      <th></th>\n",
       "      <th></th>\n",
       "      <th></th>\n",
       "      <th></th>\n",
       "      <th></th>\n",
       "      <th></th>\n",
       "      <th></th>\n",
       "      <th></th>\n",
       "      <th></th>\n",
       "      <th></th>\n",
       "    </tr>\n",
       "  </thead>\n",
       "  <tbody>\n",
       "    <tr>\n",
       "      <th>3.406845e+18</th>\n",
       "      <td>10</td>\n",
       "      <td>1010</td>\n",
       "      <td>1</td>\n",
       "      <td>5</td>\n",
       "      <td>928</td>\n",
       "      <td>90</td>\n",
       "      <td>3</td>\n",
       "      <td>4</td>\n",
       "      <td>3</td>\n",
       "      <td>15703</td>\n",
       "      <td>320</td>\n",
       "      <td>50</td>\n",
       "      <td>1722</td>\n",
       "      <td>0</td>\n",
       "      <td>35</td>\n",
       "      <td>99999999</td>\n",
       "      <td>79</td>\n",
       "      <td>0</td>\n",
       "      <td>405125</td>\n",
       "      <td>2901</td>\n",
       "    </tr>\n",
       "    <tr>\n",
       "      <th>1.598544e+19</th>\n",
       "      <td>22</td>\n",
       "      <td>1005</td>\n",
       "      <td>0</td>\n",
       "      <td>5</td>\n",
       "      <td>1742</td>\n",
       "      <td>24</td>\n",
       "      <td>25</td>\n",
       "      <td>1</td>\n",
       "      <td>2</td>\n",
       "      <td>15703</td>\n",
       "      <td>320</td>\n",
       "      <td>50</td>\n",
       "      <td>1722</td>\n",
       "      <td>0</td>\n",
       "      <td>35</td>\n",
       "      <td>99999999</td>\n",
       "      <td>79</td>\n",
       "      <td>1</td>\n",
       "      <td>70870</td>\n",
       "      <td>2901</td>\n",
       "    </tr>\n",
       "    <tr>\n",
       "      <th>1.792626e+19</th>\n",
       "      <td>4</td>\n",
       "      <td>1005</td>\n",
       "      <td>0</td>\n",
       "      <td>20</td>\n",
       "      <td>2911</td>\n",
       "      <td>90</td>\n",
       "      <td>0</td>\n",
       "      <td>1</td>\n",
       "      <td>2</td>\n",
       "      <td>22553</td>\n",
       "      <td>320</td>\n",
       "      <td>50</td>\n",
       "      <td>2602</td>\n",
       "      <td>0</td>\n",
       "      <td>163</td>\n",
       "      <td>99999999</td>\n",
       "      <td>182</td>\n",
       "      <td>0</td>\n",
       "      <td>485087</td>\n",
       "      <td>402</td>\n",
       "    </tr>\n",
       "    <tr>\n",
       "      <th>8.452958e+18</th>\n",
       "      <td>12</td>\n",
       "      <td>1005</td>\n",
       "      <td>1</td>\n",
       "      <td>20</td>\n",
       "      <td>2911</td>\n",
       "      <td>90</td>\n",
       "      <td>0</td>\n",
       "      <td>1</td>\n",
       "      <td>0</td>\n",
       "      <td>19772</td>\n",
       "      <td>320</td>\n",
       "      <td>50</td>\n",
       "      <td>2227</td>\n",
       "      <td>0</td>\n",
       "      <td>935</td>\n",
       "      <td>100075</td>\n",
       "      <td>48</td>\n",
       "      <td>1</td>\n",
       "      <td>607155</td>\n",
       "      <td>2887</td>\n",
       "    </tr>\n",
       "    <tr>\n",
       "      <th>1.640144e+19</th>\n",
       "      <td>13</td>\n",
       "      <td>1005</td>\n",
       "      <td>0</td>\n",
       "      <td>1</td>\n",
       "      <td>2911</td>\n",
       "      <td>90</td>\n",
       "      <td>0</td>\n",
       "      <td>1</td>\n",
       "      <td>0</td>\n",
       "      <td>15708</td>\n",
       "      <td>320</td>\n",
       "      <td>50</td>\n",
       "      <td>1722</td>\n",
       "      <td>0</td>\n",
       "      <td>35</td>\n",
       "      <td>100084</td>\n",
       "      <td>79</td>\n",
       "      <td>6</td>\n",
       "      <td>441799</td>\n",
       "      <td>665</td>\n",
       "    </tr>\n",
       "  </tbody>\n",
       "</table>\n",
       "</div>"
      ],
      "text/plain": [
       "              hour    C1  banner_pos  site_category  app_id  app_domain  \\\n",
       "id                                                                        \n",
       "3.406845e+18    10  1010           1              5     928          90   \n",
       "1.598544e+19    22  1005           0              5    1742          24   \n",
       "1.792626e+19     4  1005           0             20    2911          90   \n",
       "8.452958e+18    12  1005           1             20    2911          90   \n",
       "1.640144e+19    13  1005           0              1    2911          90   \n",
       "\n",
       "              app_category  device_type  device_conn_type    C14  C15  C16  \\\n",
       "id                                                                           \n",
       "3.406845e+18             3            4                 3  15703  320   50   \n",
       "1.598544e+19            25            1                 2  15703  320   50   \n",
       "1.792626e+19             0            1                 2  22553  320   50   \n",
       "8.452958e+18             0            1                 0  19772  320   50   \n",
       "1.640144e+19             0            1                 0  15708  320   50   \n",
       "\n",
       "               C17  C18  C19       C20  C21  weekday    user  site  \n",
       "id                                                                  \n",
       "3.406845e+18  1722    0   35  99999999   79        0  405125  2901  \n",
       "1.598544e+19  1722    0   35  99999999   79        1   70870  2901  \n",
       "1.792626e+19  2602    0  163  99999999  182        0  485087   402  \n",
       "8.452958e+18  2227    0  935    100075   48        1  607155  2887  \n",
       "1.640144e+19  1722    0   35    100084   79        6  441799   665  "
      ]
     },
     "execution_count": 55,
     "metadata": {},
     "output_type": "execute_result"
    }
   ],
   "source": [
    "Xtrain.head()"
   ]
  },
  {
   "cell_type": "markdown",
   "metadata": {},
   "source": [
    "<font color=\"red\">**Question 30**:\n",
    "    Define a OneHotEncoder and then, 'fit_transform' the train set.\n",
    "</font>"
   ]
  },
  {
   "cell_type": "code",
   "execution_count": 56,
   "metadata": {},
   "outputs": [],
   "source": [
    "\n",
    "####################################### onehot encoding #################################\n",
    "ohe = OneHotEncoder(handle_unknown='ignore')\n",
    "Xtrain_oh = ohe.fit_transform(Xtrain) # Fill here"
   ]
  },
  {
   "cell_type": "code",
   "execution_count": 57,
   "metadata": {},
   "outputs": [
    {
     "data": {
      "text/plain": [
       "(900000, 713334)"
      ]
     },
     "execution_count": 57,
     "metadata": {},
     "output_type": "execute_result"
    }
   ],
   "source": [
    "Xtrain_oh.shape"
   ]
  },
  {
   "cell_type": "markdown",
   "metadata": {},
   "source": [
    "<font color=\"red\">**Question 31**:\n",
    "    Transform the test set. If an error occurs, analyze it and try to solve it. Which argument did you set ?\n",
    "</font>"
   ]
  },
  {
   "cell_type": "code",
   "execution_count": 58,
   "metadata": {},
   "outputs": [],
   "source": [
    "\n",
    "Xtest_oh = ohe.transform(Xtest) # and transform Xtest restricted to selected columns\n",
    "\n"
   ]
  },
  {
   "cell_type": "markdown",
   "metadata": {},
   "source": [
    "\n",
    "The number of categorical values for many variables is relatively high , so the test set could regroup some modalities that did not exist in the train . We used  handle_unknow='ignore' to ignore the new modalities"
   ]
  },
  {
   "cell_type": "markdown",
   "metadata": {},
   "source": [
    "<font color=\"red\">**Question 32**:\n",
    "    What is the new number of features?\n",
    "</font>"
   ]
  },
  {
   "cell_type": "code",
   "execution_count": 59,
   "metadata": {},
   "outputs": [
    {
     "name": "stdout",
     "output_type": "stream",
     "text": [
      "The number of features is 713334\n"
     ]
    }
   ],
   "source": [
    "print(\"The number of features is %s\"%Xtest_oh.shape[1])"
   ]
  },
  {
   "cell_type": "markdown",
   "metadata": {},
   "source": [
    "<font color=\"red\">**Question 33**:\n",
    "    How many modalities have been seen more than a 100 times?\n",
    "</font>"
   ]
  },
  {
   "cell_type": "code",
   "execution_count": 60,
   "metadata": {},
   "outputs": [
    {
     "name": "stdout",
     "output_type": "stream",
     "text": [
      "The number of modalities is 1971\n"
     ]
    }
   ],
   "source": [
    "# The following 'n_ones' vector below gives the number of '1' in each column/modality of the Xtrain_oh design matrix.\n",
    "n_ones = np.array(Xtrain_oh.sum(axis=0))\n",
    "listcount1=n_ones[0]\n",
    "print(\"The number of modalities is %s\" %sum(listcount1>100))"
   ]
  },
  {
   "cell_type": "markdown",
   "metadata": {},
   "source": [
    "We have 1971 modalities that were seen more that a 100 times which is relatively low comparing the number of features we have ."
   ]
  },
  {
   "cell_type": "markdown",
   "metadata": {},
   "source": [
    "The list 'cols_to_keep' below is used to store the indices of the modalities seen more than a 100 times. You can notice the use of the 'enumerate' function."
   ]
  },
  {
   "cell_type": "code",
   "execution_count": 61,
   "metadata": {},
   "outputs": [],
   "source": [
    "useful=list(map(lambda x:x> 100,listcount1.tolist())) ### useful columns\n",
    "cols_to_keep=[i for i, x in enumerate(useful) if x] ### what columns to keep\n"
   ]
  },
  {
   "cell_type": "markdown",
   "metadata": {},
   "source": [
    "<font color=\"red\">**Question 34**:\n",
    "    Using only our restriction on the 'cols_to_keep' columns, retrain a logistic regression model and compare its performance in terms of 'log_loss' and 'roc_auc_curve'.\n",
    "</font>"
   ]
  },
  {
   "cell_type": "code",
   "execution_count": 62,
   "metadata": {},
   "outputs": [],
   "source": [
    "\n",
    "start_time = time.time()\n",
    "#################################### Fitting LR ########################################\n",
    "Xtrain_oh_res=Xtrain_oh[:,cols_to_keep] ###### restrict the number of cols\n",
    "lrmodel =LogisticRegression(random_state=0, solver='lbfgs')\n",
    "lrmodel.fit(Xtrain_oh_res, np.array(ytrain))\n",
    "\n",
    "\n",
    "end_time = time.time()\n",
    "\n",
    "time_lr_new=(end_time - start_time)\n"
   ]
  },
  {
   "cell_type": "code",
   "execution_count": 63,
   "metadata": {},
   "outputs": [
    {
     "name": "stdout",
     "output_type": "stream",
     "text": [
      "The log loss of the new logistic regression is 0.40\n",
      "The auc of the new logistic regression is 0.74\n"
     ]
    }
   ],
   "source": [
    "################################### evaluting usng auc and logloss#################\"\"\n",
    "hard =lrmodel.predict(Xtest_oh[:,cols_to_keep])\n",
    "soft = lrmodel.predict_proba(Xtest_oh[:,cols_to_keep])\n",
    "\n",
    "print(\"The log loss of the new logistic regression is %.2f\" %log_loss(ytest, soft[:,1]))\n",
    "print(\"The auc of the new logistic regression is %.2f\" %roc_auc_score(ytest, soft[:,1]))\n",
    "log_loss_lr_new=log_loss(ytest, soft[:,1])\n",
    "auc_lr_new=roc_auc_score(ytest, soft[:,1])"
   ]
  },
  {
   "cell_type": "markdown",
   "metadata": {},
   "source": [
    "Based on the auc metric , we have enhanced a bit the performance of  model affter adding the new variables . \n",
    "Let's try more advanced models"
   ]
  },
  {
   "cell_type": "markdown",
   "metadata": {},
   "source": [
    "# Gradient Boosting Decision Trees"
   ]
  },
  {
   "cell_type": "markdown",
   "metadata": {},
   "source": [
    "<font color=\"red\">**Question 35**:\n",
    "    <br>\n",
    "    - Import GradientBoostingClassifier from scikit learn. \n",
    "    <br>\n",
    "    - Initialize it using 50 estimators and a learning rate of 0.8. Set 'verbose=True' to monitor the progress of the algorithm.\n",
    "    <br>\n",
    "    - Fit it on the same columns 'cols_to_keep' of Xtrain_oh than for the previous logistic regression.\n",
    "    <br>\n",
    "    - Evaluate its performance as in the previous step.\n",
    "</font>"
   ]
  },
  {
   "cell_type": "code",
   "execution_count": 64,
   "metadata": {},
   "outputs": [
    {
     "name": "stdout",
     "output_type": "stream",
     "text": [
      "      Iter       Train Loss   Remaining Time \n",
      "         1           0.8743            2.30m\n",
      "         2           0.8646            2.16m\n",
      "         3           0.8583            2.09m\n",
      "         4           0.8535            2.04m\n",
      "         5           0.8503            1.99m\n",
      "         6           0.8464            1.94m\n",
      "         7           0.8441            1.89m\n",
      "         8           0.8418            1.84m\n",
      "         9           0.8404            1.79m\n",
      "        10           0.8383            1.76m\n",
      "        20           0.8282            1.30m\n",
      "        30           0.8234           52.40s\n",
      "        40           0.8190           26.38s\n",
      "        50           0.8163            0.00s\n"
     ]
    }
   ],
   "source": [
    "##############\" Training gradient boosting tree ##########################\n",
    "start_time = time.time()\n",
    "\n",
    "gb = GradientBoostingClassifier(n_estimators=50, learning_rate = 0.8,  random_state = 0,verbose=True)\n",
    "gb.fit(Xtrain_oh[:,cols_to_keep], np.array(ytrain))\n",
    "\n",
    "end_time = time.time()\n",
    "\n",
    "time_xgbt=(end_time - start_time)"
   ]
  },
  {
   "cell_type": "code",
   "execution_count": 65,
   "metadata": {},
   "outputs": [
    {
     "name": "stdout",
     "output_type": "stream",
     "text": [
      "The logloss of GBT is : 40.92% , the auc is 72.52%\n"
     ]
    }
   ],
   "source": [
    "############################ evaluating GBT #####################\n",
    "\n",
    "soft = gb.predict_proba(Xtest_oh[:,cols_to_keep])\n",
    "hard =lrmodel.predict(Xtest_oh[:,cols_to_keep])\n",
    "\n",
    "print(\"The logloss of GBT is : %.2f%% , the auc is %.2f%%\" %(100*log_loss(ytest, soft[:,1]), 100*roc_auc_score(ytest, soft[:,1])))\n",
    "\n",
    "log_los_xgbt =log_loss(ytest, soft[:,1])\n",
    "auc_xgbt=roc_auc_score(ytest, soft[:,1])"
   ]
  },
  {
   "cell_type": "markdown",
   "metadata": {},
   "source": [
    "The gradient boosting does not enhanced the auc or the logloss of the model  , we might need to tune the model ."
   ]
  },
  {
   "cell_type": "markdown",
   "metadata": {},
   "source": [
    "<font color=\"red\">**Question 36**:\n",
    "    What does the 'gb.estimators_' output?\n",
    "</font>"
   ]
  },
  {
   "cell_type": "code",
   "execution_count": 66,
   "metadata": {},
   "outputs": [
    {
     "data": {
      "text/plain": [
       "array([[DecisionTreeRegressor(criterion='friedman_mse', max_depth=3,\n",
       "           max_features=None, max_leaf_nodes=None,\n",
       "           min_impurity_decrease=0.0, min_impurity_split=None,\n",
       "           min_samples_leaf=1, min_samples_split=2,\n",
       "           min_weight_fraction_leaf=0.0, presort='auto',\n",
       "           random_state=<mtrand.RandomState object at 0x7f22867989d8>,\n",
       "           splitter='best')],\n",
       "       [DecisionTreeRegressor(criterion='friedman_mse', max_depth=3,\n",
       "           max_features=None, max_leaf_nodes=None,\n",
       "           min_impurity_decrease=0.0, min_impurity_split=None,\n",
       "           min_samples_leaf=1, min_samples_split=2,\n",
       "           min_weight_fraction_leaf=0.0, presort='auto',\n",
       "           random_state=<mtrand.RandomState object at 0x7f22867989d8>,\n",
       "           splitter='best')],\n",
       "       [DecisionTreeRegressor(criterion='friedman_mse', max_depth=3,\n",
       "           max_features=None, max_leaf_nodes=None,\n",
       "           min_impurity_decrease=0.0, min_impurity_split=None,\n",
       "           min_samples_leaf=1, min_samples_split=2,\n",
       "           min_weight_fraction_leaf=0.0, presort='auto',\n",
       "           random_state=<mtrand.RandomState object at 0x7f22867989d8>,\n",
       "           splitter='best')],\n",
       "       [DecisionTreeRegressor(criterion='friedman_mse', max_depth=3,\n",
       "           max_features=None, max_leaf_nodes=None,\n",
       "           min_impurity_decrease=0.0, min_impurity_split=None,\n",
       "           min_samples_leaf=1, min_samples_split=2,\n",
       "           min_weight_fraction_leaf=0.0, presort='auto',\n",
       "           random_state=<mtrand.RandomState object at 0x7f22867989d8>,\n",
       "           splitter='best')],\n",
       "       [DecisionTreeRegressor(criterion='friedman_mse', max_depth=3,\n",
       "           max_features=None, max_leaf_nodes=None,\n",
       "           min_impurity_decrease=0.0, min_impurity_split=None,\n",
       "           min_samples_leaf=1, min_samples_split=2,\n",
       "           min_weight_fraction_leaf=0.0, presort='auto',\n",
       "           random_state=<mtrand.RandomState object at 0x7f22867989d8>,\n",
       "           splitter='best')],\n",
       "       [DecisionTreeRegressor(criterion='friedman_mse', max_depth=3,\n",
       "           max_features=None, max_leaf_nodes=None,\n",
       "           min_impurity_decrease=0.0, min_impurity_split=None,\n",
       "           min_samples_leaf=1, min_samples_split=2,\n",
       "           min_weight_fraction_leaf=0.0, presort='auto',\n",
       "           random_state=<mtrand.RandomState object at 0x7f22867989d8>,\n",
       "           splitter='best')],\n",
       "       [DecisionTreeRegressor(criterion='friedman_mse', max_depth=3,\n",
       "           max_features=None, max_leaf_nodes=None,\n",
       "           min_impurity_decrease=0.0, min_impurity_split=None,\n",
       "           min_samples_leaf=1, min_samples_split=2,\n",
       "           min_weight_fraction_leaf=0.0, presort='auto',\n",
       "           random_state=<mtrand.RandomState object at 0x7f22867989d8>,\n",
       "           splitter='best')],\n",
       "       [DecisionTreeRegressor(criterion='friedman_mse', max_depth=3,\n",
       "           max_features=None, max_leaf_nodes=None,\n",
       "           min_impurity_decrease=0.0, min_impurity_split=None,\n",
       "           min_samples_leaf=1, min_samples_split=2,\n",
       "           min_weight_fraction_leaf=0.0, presort='auto',\n",
       "           random_state=<mtrand.RandomState object at 0x7f22867989d8>,\n",
       "           splitter='best')],\n",
       "       [DecisionTreeRegressor(criterion='friedman_mse', max_depth=3,\n",
       "           max_features=None, max_leaf_nodes=None,\n",
       "           min_impurity_decrease=0.0, min_impurity_split=None,\n",
       "           min_samples_leaf=1, min_samples_split=2,\n",
       "           min_weight_fraction_leaf=0.0, presort='auto',\n",
       "           random_state=<mtrand.RandomState object at 0x7f22867989d8>,\n",
       "           splitter='best')],\n",
       "       [DecisionTreeRegressor(criterion='friedman_mse', max_depth=3,\n",
       "           max_features=None, max_leaf_nodes=None,\n",
       "           min_impurity_decrease=0.0, min_impurity_split=None,\n",
       "           min_samples_leaf=1, min_samples_split=2,\n",
       "           min_weight_fraction_leaf=0.0, presort='auto',\n",
       "           random_state=<mtrand.RandomState object at 0x7f22867989d8>,\n",
       "           splitter='best')],\n",
       "       [DecisionTreeRegressor(criterion='friedman_mse', max_depth=3,\n",
       "           max_features=None, max_leaf_nodes=None,\n",
       "           min_impurity_decrease=0.0, min_impurity_split=None,\n",
       "           min_samples_leaf=1, min_samples_split=2,\n",
       "           min_weight_fraction_leaf=0.0, presort='auto',\n",
       "           random_state=<mtrand.RandomState object at 0x7f22867989d8>,\n",
       "           splitter='best')],\n",
       "       [DecisionTreeRegressor(criterion='friedman_mse', max_depth=3,\n",
       "           max_features=None, max_leaf_nodes=None,\n",
       "           min_impurity_decrease=0.0, min_impurity_split=None,\n",
       "           min_samples_leaf=1, min_samples_split=2,\n",
       "           min_weight_fraction_leaf=0.0, presort='auto',\n",
       "           random_state=<mtrand.RandomState object at 0x7f22867989d8>,\n",
       "           splitter='best')],\n",
       "       [DecisionTreeRegressor(criterion='friedman_mse', max_depth=3,\n",
       "           max_features=None, max_leaf_nodes=None,\n",
       "           min_impurity_decrease=0.0, min_impurity_split=None,\n",
       "           min_samples_leaf=1, min_samples_split=2,\n",
       "           min_weight_fraction_leaf=0.0, presort='auto',\n",
       "           random_state=<mtrand.RandomState object at 0x7f22867989d8>,\n",
       "           splitter='best')],\n",
       "       [DecisionTreeRegressor(criterion='friedman_mse', max_depth=3,\n",
       "           max_features=None, max_leaf_nodes=None,\n",
       "           min_impurity_decrease=0.0, min_impurity_split=None,\n",
       "           min_samples_leaf=1, min_samples_split=2,\n",
       "           min_weight_fraction_leaf=0.0, presort='auto',\n",
       "           random_state=<mtrand.RandomState object at 0x7f22867989d8>,\n",
       "           splitter='best')],\n",
       "       [DecisionTreeRegressor(criterion='friedman_mse', max_depth=3,\n",
       "           max_features=None, max_leaf_nodes=None,\n",
       "           min_impurity_decrease=0.0, min_impurity_split=None,\n",
       "           min_samples_leaf=1, min_samples_split=2,\n",
       "           min_weight_fraction_leaf=0.0, presort='auto',\n",
       "           random_state=<mtrand.RandomState object at 0x7f22867989d8>,\n",
       "           splitter='best')],\n",
       "       [DecisionTreeRegressor(criterion='friedman_mse', max_depth=3,\n",
       "           max_features=None, max_leaf_nodes=None,\n",
       "           min_impurity_decrease=0.0, min_impurity_split=None,\n",
       "           min_samples_leaf=1, min_samples_split=2,\n",
       "           min_weight_fraction_leaf=0.0, presort='auto',\n",
       "           random_state=<mtrand.RandomState object at 0x7f22867989d8>,\n",
       "           splitter='best')],\n",
       "       [DecisionTreeRegressor(criterion='friedman_mse', max_depth=3,\n",
       "           max_features=None, max_leaf_nodes=None,\n",
       "           min_impurity_decrease=0.0, min_impurity_split=None,\n",
       "           min_samples_leaf=1, min_samples_split=2,\n",
       "           min_weight_fraction_leaf=0.0, presort='auto',\n",
       "           random_state=<mtrand.RandomState object at 0x7f22867989d8>,\n",
       "           splitter='best')],\n",
       "       [DecisionTreeRegressor(criterion='friedman_mse', max_depth=3,\n",
       "           max_features=None, max_leaf_nodes=None,\n",
       "           min_impurity_decrease=0.0, min_impurity_split=None,\n",
       "           min_samples_leaf=1, min_samples_split=2,\n",
       "           min_weight_fraction_leaf=0.0, presort='auto',\n",
       "           random_state=<mtrand.RandomState object at 0x7f22867989d8>,\n",
       "           splitter='best')],\n",
       "       [DecisionTreeRegressor(criterion='friedman_mse', max_depth=3,\n",
       "           max_features=None, max_leaf_nodes=None,\n",
       "           min_impurity_decrease=0.0, min_impurity_split=None,\n",
       "           min_samples_leaf=1, min_samples_split=2,\n",
       "           min_weight_fraction_leaf=0.0, presort='auto',\n",
       "           random_state=<mtrand.RandomState object at 0x7f22867989d8>,\n",
       "           splitter='best')],\n",
       "       [DecisionTreeRegressor(criterion='friedman_mse', max_depth=3,\n",
       "           max_features=None, max_leaf_nodes=None,\n",
       "           min_impurity_decrease=0.0, min_impurity_split=None,\n",
       "           min_samples_leaf=1, min_samples_split=2,\n",
       "           min_weight_fraction_leaf=0.0, presort='auto',\n",
       "           random_state=<mtrand.RandomState object at 0x7f22867989d8>,\n",
       "           splitter='best')],\n",
       "       [DecisionTreeRegressor(criterion='friedman_mse', max_depth=3,\n",
       "           max_features=None, max_leaf_nodes=None,\n",
       "           min_impurity_decrease=0.0, min_impurity_split=None,\n",
       "           min_samples_leaf=1, min_samples_split=2,\n",
       "           min_weight_fraction_leaf=0.0, presort='auto',\n",
       "           random_state=<mtrand.RandomState object at 0x7f22867989d8>,\n",
       "           splitter='best')],\n",
       "       [DecisionTreeRegressor(criterion='friedman_mse', max_depth=3,\n",
       "           max_features=None, max_leaf_nodes=None,\n",
       "           min_impurity_decrease=0.0, min_impurity_split=None,\n",
       "           min_samples_leaf=1, min_samples_split=2,\n",
       "           min_weight_fraction_leaf=0.0, presort='auto',\n",
       "           random_state=<mtrand.RandomState object at 0x7f22867989d8>,\n",
       "           splitter='best')],\n",
       "       [DecisionTreeRegressor(criterion='friedman_mse', max_depth=3,\n",
       "           max_features=None, max_leaf_nodes=None,\n",
       "           min_impurity_decrease=0.0, min_impurity_split=None,\n",
       "           min_samples_leaf=1, min_samples_split=2,\n",
       "           min_weight_fraction_leaf=0.0, presort='auto',\n",
       "           random_state=<mtrand.RandomState object at 0x7f22867989d8>,\n",
       "           splitter='best')],\n",
       "       [DecisionTreeRegressor(criterion='friedman_mse', max_depth=3,\n",
       "           max_features=None, max_leaf_nodes=None,\n",
       "           min_impurity_decrease=0.0, min_impurity_split=None,\n",
       "           min_samples_leaf=1, min_samples_split=2,\n",
       "           min_weight_fraction_leaf=0.0, presort='auto',\n",
       "           random_state=<mtrand.RandomState object at 0x7f22867989d8>,\n",
       "           splitter='best')],\n",
       "       [DecisionTreeRegressor(criterion='friedman_mse', max_depth=3,\n",
       "           max_features=None, max_leaf_nodes=None,\n",
       "           min_impurity_decrease=0.0, min_impurity_split=None,\n",
       "           min_samples_leaf=1, min_samples_split=2,\n",
       "           min_weight_fraction_leaf=0.0, presort='auto',\n",
       "           random_state=<mtrand.RandomState object at 0x7f22867989d8>,\n",
       "           splitter='best')],\n",
       "       [DecisionTreeRegressor(criterion='friedman_mse', max_depth=3,\n",
       "           max_features=None, max_leaf_nodes=None,\n",
       "           min_impurity_decrease=0.0, min_impurity_split=None,\n",
       "           min_samples_leaf=1, min_samples_split=2,\n",
       "           min_weight_fraction_leaf=0.0, presort='auto',\n",
       "           random_state=<mtrand.RandomState object at 0x7f22867989d8>,\n",
       "           splitter='best')],\n",
       "       [DecisionTreeRegressor(criterion='friedman_mse', max_depth=3,\n",
       "           max_features=None, max_leaf_nodes=None,\n",
       "           min_impurity_decrease=0.0, min_impurity_split=None,\n",
       "           min_samples_leaf=1, min_samples_split=2,\n",
       "           min_weight_fraction_leaf=0.0, presort='auto',\n",
       "           random_state=<mtrand.RandomState object at 0x7f22867989d8>,\n",
       "           splitter='best')],\n",
       "       [DecisionTreeRegressor(criterion='friedman_mse', max_depth=3,\n",
       "           max_features=None, max_leaf_nodes=None,\n",
       "           min_impurity_decrease=0.0, min_impurity_split=None,\n",
       "           min_samples_leaf=1, min_samples_split=2,\n",
       "           min_weight_fraction_leaf=0.0, presort='auto',\n",
       "           random_state=<mtrand.RandomState object at 0x7f22867989d8>,\n",
       "           splitter='best')],\n",
       "       [DecisionTreeRegressor(criterion='friedman_mse', max_depth=3,\n",
       "           max_features=None, max_leaf_nodes=None,\n",
       "           min_impurity_decrease=0.0, min_impurity_split=None,\n",
       "           min_samples_leaf=1, min_samples_split=2,\n",
       "           min_weight_fraction_leaf=0.0, presort='auto',\n",
       "           random_state=<mtrand.RandomState object at 0x7f22867989d8>,\n",
       "           splitter='best')],\n",
       "       [DecisionTreeRegressor(criterion='friedman_mse', max_depth=3,\n",
       "           max_features=None, max_leaf_nodes=None,\n",
       "           min_impurity_decrease=0.0, min_impurity_split=None,\n",
       "           min_samples_leaf=1, min_samples_split=2,\n",
       "           min_weight_fraction_leaf=0.0, presort='auto',\n",
       "           random_state=<mtrand.RandomState object at 0x7f22867989d8>,\n",
       "           splitter='best')],\n",
       "       [DecisionTreeRegressor(criterion='friedman_mse', max_depth=3,\n",
       "           max_features=None, max_leaf_nodes=None,\n",
       "           min_impurity_decrease=0.0, min_impurity_split=None,\n",
       "           min_samples_leaf=1, min_samples_split=2,\n",
       "           min_weight_fraction_leaf=0.0, presort='auto',\n",
       "           random_state=<mtrand.RandomState object at 0x7f22867989d8>,\n",
       "           splitter='best')],\n",
       "       [DecisionTreeRegressor(criterion='friedman_mse', max_depth=3,\n",
       "           max_features=None, max_leaf_nodes=None,\n",
       "           min_impurity_decrease=0.0, min_impurity_split=None,\n",
       "           min_samples_leaf=1, min_samples_split=2,\n",
       "           min_weight_fraction_leaf=0.0, presort='auto',\n",
       "           random_state=<mtrand.RandomState object at 0x7f22867989d8>,\n",
       "           splitter='best')],\n",
       "       [DecisionTreeRegressor(criterion='friedman_mse', max_depth=3,\n",
       "           max_features=None, max_leaf_nodes=None,\n",
       "           min_impurity_decrease=0.0, min_impurity_split=None,\n",
       "           min_samples_leaf=1, min_samples_split=2,\n",
       "           min_weight_fraction_leaf=0.0, presort='auto',\n",
       "           random_state=<mtrand.RandomState object at 0x7f22867989d8>,\n",
       "           splitter='best')],\n",
       "       [DecisionTreeRegressor(criterion='friedman_mse', max_depth=3,\n",
       "           max_features=None, max_leaf_nodes=None,\n",
       "           min_impurity_decrease=0.0, min_impurity_split=None,\n",
       "           min_samples_leaf=1, min_samples_split=2,\n",
       "           min_weight_fraction_leaf=0.0, presort='auto',\n",
       "           random_state=<mtrand.RandomState object at 0x7f22867989d8>,\n",
       "           splitter='best')],\n",
       "       [DecisionTreeRegressor(criterion='friedman_mse', max_depth=3,\n",
       "           max_features=None, max_leaf_nodes=None,\n",
       "           min_impurity_decrease=0.0, min_impurity_split=None,\n",
       "           min_samples_leaf=1, min_samples_split=2,\n",
       "           min_weight_fraction_leaf=0.0, presort='auto',\n",
       "           random_state=<mtrand.RandomState object at 0x7f22867989d8>,\n",
       "           splitter='best')],\n",
       "       [DecisionTreeRegressor(criterion='friedman_mse', max_depth=3,\n",
       "           max_features=None, max_leaf_nodes=None,\n",
       "           min_impurity_decrease=0.0, min_impurity_split=None,\n",
       "           min_samples_leaf=1, min_samples_split=2,\n",
       "           min_weight_fraction_leaf=0.0, presort='auto',\n",
       "           random_state=<mtrand.RandomState object at 0x7f22867989d8>,\n",
       "           splitter='best')],\n",
       "       [DecisionTreeRegressor(criterion='friedman_mse', max_depth=3,\n",
       "           max_features=None, max_leaf_nodes=None,\n",
       "           min_impurity_decrease=0.0, min_impurity_split=None,\n",
       "           min_samples_leaf=1, min_samples_split=2,\n",
       "           min_weight_fraction_leaf=0.0, presort='auto',\n",
       "           random_state=<mtrand.RandomState object at 0x7f22867989d8>,\n",
       "           splitter='best')],\n",
       "       [DecisionTreeRegressor(criterion='friedman_mse', max_depth=3,\n",
       "           max_features=None, max_leaf_nodes=None,\n",
       "           min_impurity_decrease=0.0, min_impurity_split=None,\n",
       "           min_samples_leaf=1, min_samples_split=2,\n",
       "           min_weight_fraction_leaf=0.0, presort='auto',\n",
       "           random_state=<mtrand.RandomState object at 0x7f22867989d8>,\n",
       "           splitter='best')],\n",
       "       [DecisionTreeRegressor(criterion='friedman_mse', max_depth=3,\n",
       "           max_features=None, max_leaf_nodes=None,\n",
       "           min_impurity_decrease=0.0, min_impurity_split=None,\n",
       "           min_samples_leaf=1, min_samples_split=2,\n",
       "           min_weight_fraction_leaf=0.0, presort='auto',\n",
       "           random_state=<mtrand.RandomState object at 0x7f22867989d8>,\n",
       "           splitter='best')],\n",
       "       [DecisionTreeRegressor(criterion='friedman_mse', max_depth=3,\n",
       "           max_features=None, max_leaf_nodes=None,\n",
       "           min_impurity_decrease=0.0, min_impurity_split=None,\n",
       "           min_samples_leaf=1, min_samples_split=2,\n",
       "           min_weight_fraction_leaf=0.0, presort='auto',\n",
       "           random_state=<mtrand.RandomState object at 0x7f22867989d8>,\n",
       "           splitter='best')],\n",
       "       [DecisionTreeRegressor(criterion='friedman_mse', max_depth=3,\n",
       "           max_features=None, max_leaf_nodes=None,\n",
       "           min_impurity_decrease=0.0, min_impurity_split=None,\n",
       "           min_samples_leaf=1, min_samples_split=2,\n",
       "           min_weight_fraction_leaf=0.0, presort='auto',\n",
       "           random_state=<mtrand.RandomState object at 0x7f22867989d8>,\n",
       "           splitter='best')],\n",
       "       [DecisionTreeRegressor(criterion='friedman_mse', max_depth=3,\n",
       "           max_features=None, max_leaf_nodes=None,\n",
       "           min_impurity_decrease=0.0, min_impurity_split=None,\n",
       "           min_samples_leaf=1, min_samples_split=2,\n",
       "           min_weight_fraction_leaf=0.0, presort='auto',\n",
       "           random_state=<mtrand.RandomState object at 0x7f22867989d8>,\n",
       "           splitter='best')],\n",
       "       [DecisionTreeRegressor(criterion='friedman_mse', max_depth=3,\n",
       "           max_features=None, max_leaf_nodes=None,\n",
       "           min_impurity_decrease=0.0, min_impurity_split=None,\n",
       "           min_samples_leaf=1, min_samples_split=2,\n",
       "           min_weight_fraction_leaf=0.0, presort='auto',\n",
       "           random_state=<mtrand.RandomState object at 0x7f22867989d8>,\n",
       "           splitter='best')],\n",
       "       [DecisionTreeRegressor(criterion='friedman_mse', max_depth=3,\n",
       "           max_features=None, max_leaf_nodes=None,\n",
       "           min_impurity_decrease=0.0, min_impurity_split=None,\n",
       "           min_samples_leaf=1, min_samples_split=2,\n",
       "           min_weight_fraction_leaf=0.0, presort='auto',\n",
       "           random_state=<mtrand.RandomState object at 0x7f22867989d8>,\n",
       "           splitter='best')],\n",
       "       [DecisionTreeRegressor(criterion='friedman_mse', max_depth=3,\n",
       "           max_features=None, max_leaf_nodes=None,\n",
       "           min_impurity_decrease=0.0, min_impurity_split=None,\n",
       "           min_samples_leaf=1, min_samples_split=2,\n",
       "           min_weight_fraction_leaf=0.0, presort='auto',\n",
       "           random_state=<mtrand.RandomState object at 0x7f22867989d8>,\n",
       "           splitter='best')],\n",
       "       [DecisionTreeRegressor(criterion='friedman_mse', max_depth=3,\n",
       "           max_features=None, max_leaf_nodes=None,\n",
       "           min_impurity_decrease=0.0, min_impurity_split=None,\n",
       "           min_samples_leaf=1, min_samples_split=2,\n",
       "           min_weight_fraction_leaf=0.0, presort='auto',\n",
       "           random_state=<mtrand.RandomState object at 0x7f22867989d8>,\n",
       "           splitter='best')],\n",
       "       [DecisionTreeRegressor(criterion='friedman_mse', max_depth=3,\n",
       "           max_features=None, max_leaf_nodes=None,\n",
       "           min_impurity_decrease=0.0, min_impurity_split=None,\n",
       "           min_samples_leaf=1, min_samples_split=2,\n",
       "           min_weight_fraction_leaf=0.0, presort='auto',\n",
       "           random_state=<mtrand.RandomState object at 0x7f22867989d8>,\n",
       "           splitter='best')],\n",
       "       [DecisionTreeRegressor(criterion='friedman_mse', max_depth=3,\n",
       "           max_features=None, max_leaf_nodes=None,\n",
       "           min_impurity_decrease=0.0, min_impurity_split=None,\n",
       "           min_samples_leaf=1, min_samples_split=2,\n",
       "           min_weight_fraction_leaf=0.0, presort='auto',\n",
       "           random_state=<mtrand.RandomState object at 0x7f22867989d8>,\n",
       "           splitter='best')],\n",
       "       [DecisionTreeRegressor(criterion='friedman_mse', max_depth=3,\n",
       "           max_features=None, max_leaf_nodes=None,\n",
       "           min_impurity_decrease=0.0, min_impurity_split=None,\n",
       "           min_samples_leaf=1, min_samples_split=2,\n",
       "           min_weight_fraction_leaf=0.0, presort='auto',\n",
       "           random_state=<mtrand.RandomState object at 0x7f22867989d8>,\n",
       "           splitter='best')],\n",
       "       [DecisionTreeRegressor(criterion='friedman_mse', max_depth=3,\n",
       "           max_features=None, max_leaf_nodes=None,\n",
       "           min_impurity_decrease=0.0, min_impurity_split=None,\n",
       "           min_samples_leaf=1, min_samples_split=2,\n",
       "           min_weight_fraction_leaf=0.0, presort='auto',\n",
       "           random_state=<mtrand.RandomState object at 0x7f22867989d8>,\n",
       "           splitter='best')]], dtype=object)"
      ]
     },
     "execution_count": 66,
     "metadata": {},
     "output_type": "execute_result"
    }
   ],
   "source": [
    "gb.estimators_"
   ]
  },
  {
   "cell_type": "markdown",
   "metadata": {},
   "source": [
    "gb.estimators_ outputs the different ordered decision-tree models used for boosting "
   ]
  },
  {
   "cell_type": "markdown",
   "metadata": {},
   "source": [
    "We now try to use the 'gb' classifier to generate features that will be relevant inputs for the logistic regression.\n",
    "<font color=\"red\">**Question 37**:\n",
    "    With the 'gb.apply()' method, generate a transformation 'leafs_train' of the training set 'Xtrain_oh[:, cols_to_keep]' for which the nth column corresponds to the number of the leaf returned by the estimator n.\n",
    "</font>"
   ]
  },
  {
   "cell_type": "code",
   "execution_count": 67,
   "metadata": {
    "scrolled": true
   },
   "outputs": [
    {
     "name": "stdout",
     "output_type": "stream",
     "text": [
      "The shape of leafs train is {900000,50,1}\n"
     ]
    }
   ],
   "source": [
    "\n",
    "######################## getting leafs_train #############\"\"\n",
    "leafs_train=gb.apply(Xtrain_oh[:, cols_to_keep])\n",
    "print(\"The shape of leafs train is {%s,%s,%s}\" %leafs_train.shape)\n"
   ]
  },
  {
   "cell_type": "markdown",
   "metadata": {},
   "source": [
    "After your applied gb.apply on Xtrain_oh[:, cols_to_keep], remember that use have only one class to predict (click = 0 or 1). "
   ]
  },
  {
   "cell_type": "code",
   "execution_count": 68,
   "metadata": {},
   "outputs": [],
   "source": [
    "leafs_train = pd.DataFrame(leafs_train[:, :, 0] ) # getting the train\n",
    "leafs_test = pd.DataFrame( gb.apply(Xtest_oh[:, cols_to_keep])[:, :, 0] ) ### getting the test"
   ]
  },
  {
   "cell_type": "markdown",
   "metadata": {},
   "source": [
    "<font color=\"red\">**Question 38**:\n",
    "    Encode these new features into dummies.\n",
    "</font>"
   ]
  },
  {
   "cell_type": "code",
   "execution_count": 69,
   "metadata": {},
   "outputs": [],
   "source": [
    "############################## onehotencoding of leaftrain & test #####################\n",
    "ohe = OneHotEncoder() \n",
    "ohe.fit(leafs_train)\n",
    "leafs_train_oh = ohe.transform(leafs_train)\n",
    "leafs_test_oh = ohe.transform(leafs_test)"
   ]
  },
  {
   "cell_type": "markdown",
   "metadata": {},
   "source": [
    "<font color=\"red\">**Question 39**:\n",
    "    With the \"hstack\" function, create a new matrix of features by concatenating horizontally our new features \"leafs_train_oh\" and \"leafs_test_oh\", and previous features used for logistic regression (e.g. in \"Xtrain_oh[:, cols_to_keep]\").\n",
    "</font>\n",
    "<br><br>\n",
    "**Remark**: we use \"hstack\" from scipy.sparse (and not from numpy) because the output of our OneHotEncoder is a sparse array. You can verify it with the command \"type(Xtrain_oh)\"."
   ]
  },
  {
   "cell_type": "code",
   "execution_count": 70,
   "metadata": {},
   "outputs": [],
   "source": [
    "Xtrain_concat = hstack([ leafs_train_oh  , Xtrain_oh[:, cols_to_keep] ]) # hstack train\n",
    "Xtest_concat = hstack([ leafs_test_oh  , Xtest_oh[:, cols_to_keep] ]) ### hstack test"
   ]
  },
  {
   "cell_type": "markdown",
   "metadata": {},
   "source": [
    "<font color=\"red\">**Question 40**:\n",
    "    Run a logistic regression on the new features and evaluate its performance as before.\n",
    "</font>"
   ]
  },
  {
   "cell_type": "code",
   "execution_count": 71,
   "metadata": {
    "scrolled": true
   },
   "outputs": [],
   "source": [
    "start_time = time.time()\n",
    "\n",
    "################################## fitting logistic regression ########################\n",
    "\n",
    "lrmodel =LogisticRegression(random_state=0, solver='lbfgs')\n",
    "lrmodel.fit(Xtrain_concat, np.array(ytrain))\n",
    "\n",
    "end_time = time.time()\n",
    "\n",
    "time_lr_new_xgb=(end_time - start_time)"
   ]
  },
  {
   "cell_type": "code",
   "execution_count": 72,
   "metadata": {},
   "outputs": [
    {
     "name": "stdout",
     "output_type": "stream",
     "text": [
      "The logloss of Logistic Regression after GBT features selection is  40.26% , the auc is 73.70%\n"
     ]
    }
   ],
   "source": [
    "############## Evaluating the model #######################\n",
    "hard =lrmodel.predict(Xtest_concat)\n",
    "soft = lrmodel.predict_proba(Xtest_concat)\n",
    "\n",
    "print(\"The logloss of Logistic Regression after GBT features selection is  %.2f%% , the auc is %.2f%%\" %(100*log_loss(ytest,soft[:,1]) ,100*roc_auc_score(ytest, soft[:,1])))\n",
    "log_loss_lr_new_xgb=log_loss(ytest, soft[:,1]) \n",
    "auc_lr_new_xgb=roc_auc_score(ytest, soft[:,1])"
   ]
  },
  {
   "cell_type": "markdown",
   "metadata": {},
   "source": [
    "We succeded to  enhance a little bit our model , but could we do better ?"
   ]
  },
  {
   "cell_type": "markdown",
   "metadata": {},
   "source": [
    "<font color=\"red\">**Question 41**:\n",
    "    <br>\n",
    "    - Import XGBClassifier from xgboost package.\n",
    "    <br>\n",
    "    - Initialize it using the same number of estimators and learning rate as before. \n",
    "    <br>\n",
    "    - Which value of n_jobs did you choose?\n",
    "    <br>\n",
    "    - Fit it on the same columns 'cols_to_keep' of Xtrain_oh than for the previous logistic regression.\n",
    "    <br>\n",
    "    - Evaluate its performance and compare it to the GradientBoosting classifier of scikit learn. How is the error? Does it take more time to run?\n",
    "</font>"
   ]
  },
  {
   "cell_type": "markdown",
   "metadata": {},
   "source": [
    "Now let's use XGBClassifier from xgboost package . \n",
    "We will set njobs to -1 so that we could use all available processe in the machine "
   ]
  },
  {
   "cell_type": "code",
   "execution_count": 73,
   "metadata": {},
   "outputs": [
    {
     "name": "stdout",
     "output_type": "stream",
     "text": [
      "CPU times: user 37.9 s, sys: 296 ms, total: 38.2 s\n",
      "Wall time: 40.8 s\n"
     ]
    }
   ],
   "source": [
    "\n",
    "################################### fitting xgb ####################\"\"\n",
    "start_time = time.time()\n",
    "\n",
    "\n",
    "xgb = XGBClassifier( n_estimators=50, learning_rate = 0.8 ,verbose=True ,njobs=-1)\n",
    "%time xgb.fit(Xtrain_oh[:,cols_to_keep], np.array(ytrain)) \n",
    "\n",
    "end_time = time.time()\n",
    "\n",
    "time_xgbclassifier =(end_time - start_time)"
   ]
  },
  {
   "cell_type": "code",
   "execution_count": 74,
   "metadata": {},
   "outputs": [
    {
     "name": "stdout",
     "output_type": "stream",
     "text": [
      "The logloss of XGBClassifier  40.79% , the auc is 72.44%\n"
     ]
    }
   ],
   "source": [
    "################################### evaluating xgb xgb ####################\"\"\n",
    "\n",
    "hard =xgb.predict(Xtest_oh[:,cols_to_keep])\n",
    "soft = xgb.predict_proba(Xtest_oh[:,cols_to_keep])\n",
    "print(\"The logloss of XGBClassifier  %.2f%% , the auc is %.2f%%\" %(100*log_loss(ytest, soft[:,1]) ,100*roc_auc_score(ytest, soft[:,1])))\n",
    "log_loss_xgbclassifier=log_loss(ytest, soft[:,1])\n",
    "auc_xgbclassifier = roc_auc_score(ytest, soft[:,1])\n"
   ]
  },
  {
   "cell_type": "markdown",
   "metadata": {},
   "source": [
    "We did not improve the results ,let's try to increase the number of estimators "
   ]
  },
  {
   "cell_type": "markdown",
   "metadata": {},
   "source": [
    "<font color=\"red\">**Question 42**:\n",
    "    Increase the number of estimators (e.g. 1024) and visualize the impact on performance. You might have to adapt the learning rate.\n",
    "</font>"
   ]
  },
  {
   "cell_type": "code",
   "execution_count": 75,
   "metadata": {},
   "outputs": [
    {
     "name": "stdout",
     "output_type": "stream",
     "text": [
      "CPU times: user 11min 9s, sys: 404 ms, total: 11min 9s\n",
      "Wall time: 11min 10s\n"
     ]
    }
   ],
   "source": [
    "######################## XGB with 1024 estimators #################################\n",
    "\n",
    "\n",
    "start_time = time.time()\n",
    "\n",
    "xgb = XGBClassifier( n_estimators=1024, learning_rate = 0.8 ,njobs=-1)  ##### initialze classifier\n",
    "%time xgb.fit(Xtrain_oh[:,cols_to_keep], np.array(y_train)) #### train and measure time\n",
    "\n",
    "end_time = time.time()\n",
    "\n",
    "time_xgbclassifier_1024 =(end_time - start_time)\n"
   ]
  },
  {
   "cell_type": "code",
   "execution_count": 76,
   "metadata": {},
   "outputs": [
    {
     "name": "stdout",
     "output_type": "stream",
     "text": [
      "The logloss of XGBClassifier with 1024 estimators is  0.40% , the auc is 74.26%\n"
     ]
    }
   ],
   "source": [
    "######################## evaluating XGB with 1024 estimators #################################\n",
    "\n",
    "\n",
    "hard =xgb.predict(Xtest_oh[:,cols_to_keep])  #### hard predction\n",
    "soft = xgb.predict_proba(Xtest_oh[:,cols_to_keep]) ###\" prob prediciton\n",
    "print(\"The logloss of XGBClassifier with 1024 estimators is  %.2f%% , the auc is %.2f%%\" %(log_loss(ytest, soft[:,1]) ,100*roc_auc_score(ytest, soft[:,1])))\n",
    "\n",
    "log_loss_xgbclassifier_1024=log_loss(ytest,soft[:,1]) ### keep record of logloss\n",
    "auc_xgbclassifier_1024= roc_auc_score(ytest, soft[:,1]) ### keep record of auc"
   ]
  },
  {
   "cell_type": "markdown",
   "metadata": {},
   "source": [
    "Not bad at all , let's try a to change the learning rate from 0.8 to 0.1 and see the results:"
   ]
  },
  {
   "cell_type": "code",
   "execution_count": 77,
   "metadata": {},
   "outputs": [
    {
     "name": "stdout",
     "output_type": "stream",
     "text": [
      "CPU times: user 11min, sys: 252 ms, total: 11min 1s\n",
      "Wall time: 11min 1s\n"
     ]
    }
   ],
   "source": [
    "######################## fitting XGB with 1024 estimators annd 0.1 leanring rate#################################\n",
    "\n",
    "start_time = time.time()\n",
    "\n",
    "xgb = XGBClassifier( n_estimators=1024, learning_rate = 0.1 ,njobs=2)\n",
    "%time xgb.fit(Xtrain_oh[:,cols_to_keep], np.array(y_train)) \n",
    "\n",
    "\n",
    "end_time = time.time()\n",
    "\n",
    "time_xgbclassifier_1024_learnrate =(end_time - start_time)"
   ]
  },
  {
   "cell_type": "code",
   "execution_count": 78,
   "metadata": {},
   "outputs": [
    {
     "name": "stdout",
     "output_type": "stream",
     "text": [
      "The logloss of XGBClassifier with 1024 estimators and learning rate = 0.2 is  40.33% , the auc is 73.60%\n"
     ]
    }
   ],
   "source": [
    "######################## evaluating XGB with 1024 estimators annd 0.1 leanring rate#################################\n",
    "\n",
    "\n",
    "hard =xgb.predict(Xtest_oh[:,cols_to_keep])\n",
    "soft = xgb.predict_proba(Xtest_oh[:,cols_to_keep])\n",
    "\n",
    "print(\"The logloss of XGBClassifier with 1024 estimators and learning rate = 0.2 is  %.2f%% , the auc is %.2f%%\" %(100*log_loss(ytest, soft[:,1]) ,100*roc_auc_score(ytest, soft[:,1])))\n",
    "\n",
    "log_loss_xgbclassifier_1024_learnrate=log_loss(ytest,soft[:,1])\n",
    "auc_xgbclassifier_1024_learnrate= roc_auc_score(ytest, soft[:,1])"
   ]
  },
  {
   "cell_type": "markdown",
   "metadata": {},
   "source": [
    "We get a better results after increasing the number of estimators , which seems normal . \n",
    "Concerning the learning rate , we set it to 0.8 and then to 0.2 but we did not see a big difference in term of AUC . The training time is considerable ith 1024 estimators"
   ]
  },
  {
   "cell_type": "markdown",
   "metadata": {},
   "source": [
    "# Features hashing and random forest"
   ]
  },
  {
   "cell_type": "markdown",
   "metadata": {},
   "source": [
    "We restart with raw features before dummy encoding: Xtrain, Xtest.\n",
    "<font color=\"red\">**Question 43**:\n",
    "    Display again the number of modalities per feature in Xtrain.\n",
    "</font>"
   ]
  },
  {
   "cell_type": "code",
   "execution_count": 79,
   "metadata": {
    "scrolled": true
   },
   "outputs": [
    {
     "name": "stdout",
     "output_type": "stream",
     "text": [
      "The variable hour has 24 modalities\n",
      "The variable C1 has 7 modalities\n",
      "The variable banner_pos has 7 modalities\n",
      "The variable site_category has 22 modalities\n",
      "The variable app_id has 3054 modalities\n",
      "The variable app_domain has 196 modalities\n",
      "The variable app_category has 26 modalities\n",
      "The variable device_type has 5 modalities\n",
      "The variable device_conn_type has 4 modalities\n",
      "The variable C14 has 2225 modalities\n",
      "The variable C15 has 8 modalities\n",
      "The variable C16 has 9 modalities\n",
      "The variable C17 has 420 modalities\n",
      "The variable C18 has 4 modalities\n",
      "The variable C19 has 66 modalities\n",
      "The variable C20 has 163 modalities\n",
      "The variable C21 has 60 modalities\n",
      "The variable weekday has 7 modalities\n",
      "The variable user has 701585 modalities\n",
      "The variable site has 5442 modalities\n"
     ]
    }
   ],
   "source": [
    "col_feat=Xtrain.columns.tolist()  #### get colnames of tran\n",
    "nfeat=0  \n",
    "for i,f in enumerate(col_feat) : \n",
    "    print(\"The variable %s has %s modalities\" %(col_feat[i] ,Xtrain[f].value_counts().size))\n"
   ]
  },
  {
   "cell_type": "markdown",
   "metadata": {},
   "source": [
    "We want to define a transformation which regroups the least frequent modalities into a label 'isRare'. In order to do so, we decide to define our own Transformer.\n",
    "<font color=\"red\">**Question 44**:\n",
    "    Understand the different steps of 'fit' and 'transform'.\n",
    "</font>"
   ]
  },
  {
   "cell_type": "code",
   "execution_count": 80,
   "metadata": {},
   "outputs": [],
   "source": [
    "from sklearn.base import BaseEstimator, TransformerMixin\n",
    "\n",
    "class MergeRareTransformer(BaseEstimator, TransformerMixin):\n",
    "    \n",
    "    def __init__(self, col_names, threshold):\n",
    "        self.col_names = col_names\n",
    "        self.threshold = threshold\n",
    "\n",
    "    def fit(self, X, y=None):\n",
    "\n",
    "        X = pd.DataFrame(X)\n",
    "        counts_dict_list = []\n",
    "        ################## READ THIS #########################\n",
    "        for i in range(len(self.col_names)):\n",
    "            \n",
    "            serie = X[self.col_names[i]].value_counts()  # Série des counts de chaque modalité\n",
    "            rare_indexes = serie[serie<self.threshold[i]].index  # indexes of mod  < thresh\n",
    "            frequent_indexes = serie[serie>=self.threshold[i]].index  #frequent index\n",
    "            dico = {x:'isRare' for x in rare_indexes}\n",
    "            dico.update({x: str(x) for x in frequent_indexes})\n",
    "            counts_dict_list.append(dico)   # many subdictionnary of index of rare and not rare modalities per var\n",
    "            \n",
    "        ######################################################\n",
    "            \n",
    "        self.counts_dict_list_ = counts_dict_list\n",
    "        return self\n",
    "\n",
    "    def transform(self, X):\n",
    "\n",
    "        Xt = pd.DataFrame()\n",
    "        ################## READ THIS #########################\n",
    "        for col, count_dict in zip(self.col_names, self.counts_dict_list_):\n",
    "            Xt[col] = X[col].apply(lambda x:count_dict[x] if x in count_dict else 'isRare')\n",
    "            # \"else 'isRare'\"if we do not find the modality in the fitting process\n",
    "        ######################################################\n",
    "\n",
    "        return Xt\n"
   ]
  },
  {
   "cell_type": "markdown",
   "metadata": {},
   "source": [
    "* The class \"mergeraretransformer\" regroups the modalities of columns , having frequency less than a fixed threshhold, into a class \"israre\"  .\n",
    "* Rare_indexes contains the indexes of modalities of columns having a frequency less than the threshold\n",
    "* frequent indexes contains the frequent modalities for a given column\n",
    "* count_dic_list contains many sub-dictionnaries describing the rare and not rare modalties for each variable\n",
    "* Elsewhere 'isRare' to take into account omodalities that we did not see in the fitting process , they are considered as \"rare\""
   ]
  },
  {
   "cell_type": "markdown",
   "metadata": {},
   "source": [
    "<font color=\"red\">**Question 45:**\n",
    "    <br>\n",
    "    - Fit and transform the training set. To do so, merge all mmodalities occuring at least 20 times in each column.\n",
    "    <br>\n",
    "    - Transform the test set.\n",
    "</font>"
   ]
  },
  {
   "cell_type": "code",
   "execution_count": 81,
   "metadata": {},
   "outputs": [
    {
     "data": {
      "text/html": [
       "<div>\n",
       "<style scoped>\n",
       "    .dataframe tbody tr th:only-of-type {\n",
       "        vertical-align: middle;\n",
       "    }\n",
       "\n",
       "    .dataframe tbody tr th {\n",
       "        vertical-align: top;\n",
       "    }\n",
       "\n",
       "    .dataframe thead th {\n",
       "        text-align: right;\n",
       "    }\n",
       "</style>\n",
       "<table border=\"1\" class=\"dataframe\">\n",
       "  <thead>\n",
       "    <tr style=\"text-align: right;\">\n",
       "      <th></th>\n",
       "      <th>hour</th>\n",
       "      <th>C1</th>\n",
       "      <th>banner_pos</th>\n",
       "      <th>site_category</th>\n",
       "      <th>app_id</th>\n",
       "      <th>app_domain</th>\n",
       "      <th>app_category</th>\n",
       "      <th>device_type</th>\n",
       "      <th>device_conn_type</th>\n",
       "      <th>C14</th>\n",
       "      <th>C15</th>\n",
       "      <th>C16</th>\n",
       "      <th>C17</th>\n",
       "      <th>C18</th>\n",
       "      <th>C19</th>\n",
       "      <th>C20</th>\n",
       "      <th>C21</th>\n",
       "      <th>weekday</th>\n",
       "      <th>user</th>\n",
       "      <th>site</th>\n",
       "    </tr>\n",
       "    <tr>\n",
       "      <th>id</th>\n",
       "      <th></th>\n",
       "      <th></th>\n",
       "      <th></th>\n",
       "      <th></th>\n",
       "      <th></th>\n",
       "      <th></th>\n",
       "      <th></th>\n",
       "      <th></th>\n",
       "      <th></th>\n",
       "      <th></th>\n",
       "      <th></th>\n",
       "      <th></th>\n",
       "      <th></th>\n",
       "      <th></th>\n",
       "      <th></th>\n",
       "      <th></th>\n",
       "      <th></th>\n",
       "      <th></th>\n",
       "      <th></th>\n",
       "      <th></th>\n",
       "    </tr>\n",
       "  </thead>\n",
       "  <tbody>\n",
       "    <tr>\n",
       "      <th>3.406845e+18</th>\n",
       "      <td>10</td>\n",
       "      <td>1010</td>\n",
       "      <td>1</td>\n",
       "      <td>5</td>\n",
       "      <td>928</td>\n",
       "      <td>90</td>\n",
       "      <td>3</td>\n",
       "      <td>4</td>\n",
       "      <td>3</td>\n",
       "      <td>15703</td>\n",
       "      <td>320</td>\n",
       "      <td>50</td>\n",
       "      <td>1722</td>\n",
       "      <td>0</td>\n",
       "      <td>35</td>\n",
       "      <td>99999999</td>\n",
       "      <td>79</td>\n",
       "      <td>0</td>\n",
       "      <td>405125</td>\n",
       "      <td>2901</td>\n",
       "    </tr>\n",
       "    <tr>\n",
       "      <th>1.598544e+19</th>\n",
       "      <td>22</td>\n",
       "      <td>1005</td>\n",
       "      <td>0</td>\n",
       "      <td>5</td>\n",
       "      <td>1742</td>\n",
       "      <td>24</td>\n",
       "      <td>25</td>\n",
       "      <td>1</td>\n",
       "      <td>2</td>\n",
       "      <td>15703</td>\n",
       "      <td>320</td>\n",
       "      <td>50</td>\n",
       "      <td>1722</td>\n",
       "      <td>0</td>\n",
       "      <td>35</td>\n",
       "      <td>99999999</td>\n",
       "      <td>79</td>\n",
       "      <td>1</td>\n",
       "      <td>70870</td>\n",
       "      <td>2901</td>\n",
       "    </tr>\n",
       "    <tr>\n",
       "      <th>1.792626e+19</th>\n",
       "      <td>4</td>\n",
       "      <td>1005</td>\n",
       "      <td>0</td>\n",
       "      <td>20</td>\n",
       "      <td>2911</td>\n",
       "      <td>90</td>\n",
       "      <td>0</td>\n",
       "      <td>1</td>\n",
       "      <td>2</td>\n",
       "      <td>22553</td>\n",
       "      <td>320</td>\n",
       "      <td>50</td>\n",
       "      <td>2602</td>\n",
       "      <td>0</td>\n",
       "      <td>163</td>\n",
       "      <td>99999999</td>\n",
       "      <td>182</td>\n",
       "      <td>0</td>\n",
       "      <td>485087</td>\n",
       "      <td>402</td>\n",
       "    </tr>\n",
       "    <tr>\n",
       "      <th>8.452958e+18</th>\n",
       "      <td>12</td>\n",
       "      <td>1005</td>\n",
       "      <td>1</td>\n",
       "      <td>20</td>\n",
       "      <td>2911</td>\n",
       "      <td>90</td>\n",
       "      <td>0</td>\n",
       "      <td>1</td>\n",
       "      <td>0</td>\n",
       "      <td>19772</td>\n",
       "      <td>320</td>\n",
       "      <td>50</td>\n",
       "      <td>2227</td>\n",
       "      <td>0</td>\n",
       "      <td>935</td>\n",
       "      <td>100075</td>\n",
       "      <td>48</td>\n",
       "      <td>1</td>\n",
       "      <td>607155</td>\n",
       "      <td>2887</td>\n",
       "    </tr>\n",
       "    <tr>\n",
       "      <th>1.640144e+19</th>\n",
       "      <td>13</td>\n",
       "      <td>1005</td>\n",
       "      <td>0</td>\n",
       "      <td>1</td>\n",
       "      <td>2911</td>\n",
       "      <td>90</td>\n",
       "      <td>0</td>\n",
       "      <td>1</td>\n",
       "      <td>0</td>\n",
       "      <td>15708</td>\n",
       "      <td>320</td>\n",
       "      <td>50</td>\n",
       "      <td>1722</td>\n",
       "      <td>0</td>\n",
       "      <td>35</td>\n",
       "      <td>100084</td>\n",
       "      <td>79</td>\n",
       "      <td>6</td>\n",
       "      <td>441799</td>\n",
       "      <td>665</td>\n",
       "    </tr>\n",
       "  </tbody>\n",
       "</table>\n",
       "</div>"
      ],
      "text/plain": [
       "              hour    C1  banner_pos  site_category  app_id  app_domain  \\\n",
       "id                                                                        \n",
       "3.406845e+18    10  1010           1              5     928          90   \n",
       "1.598544e+19    22  1005           0              5    1742          24   \n",
       "1.792626e+19     4  1005           0             20    2911          90   \n",
       "8.452958e+18    12  1005           1             20    2911          90   \n",
       "1.640144e+19    13  1005           0              1    2911          90   \n",
       "\n",
       "              app_category  device_type  device_conn_type    C14  C15  C16  \\\n",
       "id                                                                           \n",
       "3.406845e+18             3            4                 3  15703  320   50   \n",
       "1.598544e+19            25            1                 2  15703  320   50   \n",
       "1.792626e+19             0            1                 2  22553  320   50   \n",
       "8.452958e+18             0            1                 0  19772  320   50   \n",
       "1.640144e+19             0            1                 0  15708  320   50   \n",
       "\n",
       "               C17  C18  C19       C20  C21  weekday    user  site  \n",
       "id                                                                  \n",
       "3.406845e+18  1722    0   35  99999999   79        0  405125  2901  \n",
       "1.598544e+19  1722    0   35  99999999   79        1   70870  2901  \n",
       "1.792626e+19  2602    0  163  99999999  182        0  485087   402  \n",
       "8.452958e+18  2227    0  935    100075   48        1  607155  2887  \n",
       "1.640144e+19  1722    0   35    100084   79        6  441799   665  "
      ]
     },
     "execution_count": 81,
     "metadata": {},
     "output_type": "execute_result"
    }
   ],
   "source": [
    "Xtrain.head()  ### recall the datframe structure"
   ]
  },
  {
   "cell_type": "code",
   "execution_count": 82,
   "metadata": {},
   "outputs": [
    {
     "data": {
      "text/plain": [
       "Index(['hour', 'C1', 'banner_pos', 'site_category', 'app_id', 'app_domain',\n",
       "       'app_category', 'device_type', 'device_conn_type', 'C14', 'C15', 'C16',\n",
       "       'C17', 'C18', 'C19', 'C20', 'C21', 'weekday', 'user', 'site'],\n",
       "      dtype='object')"
      ]
     },
     "execution_count": 82,
     "metadata": {},
     "output_type": "execute_result"
    }
   ],
   "source": [
    "Xtrain.columns ### recall the columns"
   ]
  },
  {
   "cell_type": "code",
   "execution_count": 83,
   "metadata": {},
   "outputs": [],
   "source": [
    "############# creating  a copy of xtrain and xtest ###################\n",
    "\n",
    "Xtrain_new=Xtrain.copy()\n",
    "Xtest_new=Xtest.copy()\n"
   ]
  },
  {
   "cell_type": "code",
   "execution_count": 85,
   "metadata": {},
   "outputs": [],
   "source": [
    "\n",
    "##############\" merging modalities occuring at leas 20 times ############\n",
    "mg = MergeRareTransformer(col_names=Xtrain.columns, threshold=[20]*len(Xtrain.columns))# initalze the mergerareransformer\n",
    "mg.fit(Xtrain_new) ### fitting the transformer\n",
    "Xtrain_mg =mg.transform(Xtrain_new) #  transform. the train\n",
    "Xtest_mg = mg.transform(Xtest_new) #  transform. the test"
   ]
  },
  {
   "cell_type": "code",
   "execution_count": 86,
   "metadata": {},
   "outputs": [
    {
     "data": {
      "text/html": [
       "<div>\n",
       "<style scoped>\n",
       "    .dataframe tbody tr th:only-of-type {\n",
       "        vertical-align: middle;\n",
       "    }\n",
       "\n",
       "    .dataframe tbody tr th {\n",
       "        vertical-align: top;\n",
       "    }\n",
       "\n",
       "    .dataframe thead th {\n",
       "        text-align: right;\n",
       "    }\n",
       "</style>\n",
       "<table border=\"1\" class=\"dataframe\">\n",
       "  <thead>\n",
       "    <tr style=\"text-align: right;\">\n",
       "      <th></th>\n",
       "      <th>hour</th>\n",
       "      <th>C1</th>\n",
       "      <th>banner_pos</th>\n",
       "      <th>site_category</th>\n",
       "      <th>app_id</th>\n",
       "      <th>app_domain</th>\n",
       "      <th>app_category</th>\n",
       "      <th>device_type</th>\n",
       "      <th>device_conn_type</th>\n",
       "      <th>C14</th>\n",
       "      <th>C15</th>\n",
       "      <th>C16</th>\n",
       "      <th>C17</th>\n",
       "      <th>C18</th>\n",
       "      <th>C19</th>\n",
       "      <th>C20</th>\n",
       "      <th>C21</th>\n",
       "      <th>weekday</th>\n",
       "      <th>user</th>\n",
       "      <th>site</th>\n",
       "    </tr>\n",
       "    <tr>\n",
       "      <th>id</th>\n",
       "      <th></th>\n",
       "      <th></th>\n",
       "      <th></th>\n",
       "      <th></th>\n",
       "      <th></th>\n",
       "      <th></th>\n",
       "      <th></th>\n",
       "      <th></th>\n",
       "      <th></th>\n",
       "      <th></th>\n",
       "      <th></th>\n",
       "      <th></th>\n",
       "      <th></th>\n",
       "      <th></th>\n",
       "      <th></th>\n",
       "      <th></th>\n",
       "      <th></th>\n",
       "      <th></th>\n",
       "      <th></th>\n",
       "      <th></th>\n",
       "    </tr>\n",
       "  </thead>\n",
       "  <tbody>\n",
       "    <tr>\n",
       "      <th>3.406845e+18</th>\n",
       "      <td>10</td>\n",
       "      <td>1010</td>\n",
       "      <td>1</td>\n",
       "      <td>5</td>\n",
       "      <td>928</td>\n",
       "      <td>90</td>\n",
       "      <td>3</td>\n",
       "      <td>4</td>\n",
       "      <td>3</td>\n",
       "      <td>15703</td>\n",
       "      <td>320</td>\n",
       "      <td>50</td>\n",
       "      <td>1722</td>\n",
       "      <td>0</td>\n",
       "      <td>35</td>\n",
       "      <td>99999999</td>\n",
       "      <td>79</td>\n",
       "      <td>0</td>\n",
       "      <td>isRare</td>\n",
       "      <td>2901</td>\n",
       "    </tr>\n",
       "    <tr>\n",
       "      <th>1.598544e+19</th>\n",
       "      <td>22</td>\n",
       "      <td>1005</td>\n",
       "      <td>0</td>\n",
       "      <td>5</td>\n",
       "      <td>1742</td>\n",
       "      <td>24</td>\n",
       "      <td>25</td>\n",
       "      <td>1</td>\n",
       "      <td>2</td>\n",
       "      <td>15703</td>\n",
       "      <td>320</td>\n",
       "      <td>50</td>\n",
       "      <td>1722</td>\n",
       "      <td>0</td>\n",
       "      <td>35</td>\n",
       "      <td>99999999</td>\n",
       "      <td>79</td>\n",
       "      <td>1</td>\n",
       "      <td>isRare</td>\n",
       "      <td>2901</td>\n",
       "    </tr>\n",
       "    <tr>\n",
       "      <th>1.792626e+19</th>\n",
       "      <td>4</td>\n",
       "      <td>1005</td>\n",
       "      <td>0</td>\n",
       "      <td>20</td>\n",
       "      <td>2911</td>\n",
       "      <td>90</td>\n",
       "      <td>0</td>\n",
       "      <td>1</td>\n",
       "      <td>2</td>\n",
       "      <td>22553</td>\n",
       "      <td>320</td>\n",
       "      <td>50</td>\n",
       "      <td>2602</td>\n",
       "      <td>0</td>\n",
       "      <td>163</td>\n",
       "      <td>99999999</td>\n",
       "      <td>182</td>\n",
       "      <td>0</td>\n",
       "      <td>isRare</td>\n",
       "      <td>402</td>\n",
       "    </tr>\n",
       "    <tr>\n",
       "      <th>8.452958e+18</th>\n",
       "      <td>12</td>\n",
       "      <td>1005</td>\n",
       "      <td>1</td>\n",
       "      <td>20</td>\n",
       "      <td>2911</td>\n",
       "      <td>90</td>\n",
       "      <td>0</td>\n",
       "      <td>1</td>\n",
       "      <td>0</td>\n",
       "      <td>19772</td>\n",
       "      <td>320</td>\n",
       "      <td>50</td>\n",
       "      <td>2227</td>\n",
       "      <td>0</td>\n",
       "      <td>935</td>\n",
       "      <td>100075</td>\n",
       "      <td>48</td>\n",
       "      <td>1</td>\n",
       "      <td>isRare</td>\n",
       "      <td>2887</td>\n",
       "    </tr>\n",
       "    <tr>\n",
       "      <th>1.640144e+19</th>\n",
       "      <td>13</td>\n",
       "      <td>1005</td>\n",
       "      <td>0</td>\n",
       "      <td>1</td>\n",
       "      <td>2911</td>\n",
       "      <td>90</td>\n",
       "      <td>0</td>\n",
       "      <td>1</td>\n",
       "      <td>0</td>\n",
       "      <td>15708</td>\n",
       "      <td>320</td>\n",
       "      <td>50</td>\n",
       "      <td>1722</td>\n",
       "      <td>0</td>\n",
       "      <td>35</td>\n",
       "      <td>100084</td>\n",
       "      <td>79</td>\n",
       "      <td>6</td>\n",
       "      <td>isRare</td>\n",
       "      <td>665</td>\n",
       "    </tr>\n",
       "  </tbody>\n",
       "</table>\n",
       "</div>"
      ],
      "text/plain": [
       "             hour    C1 banner_pos site_category app_id app_domain  \\\n",
       "id                                                                   \n",
       "3.406845e+18   10  1010          1             5    928         90   \n",
       "1.598544e+19   22  1005          0             5   1742         24   \n",
       "1.792626e+19    4  1005          0            20   2911         90   \n",
       "8.452958e+18   12  1005          1            20   2911         90   \n",
       "1.640144e+19   13  1005          0             1   2911         90   \n",
       "\n",
       "             app_category device_type device_conn_type    C14  C15 C16   C17  \\\n",
       "id                                                                             \n",
       "3.406845e+18            3           4                3  15703  320  50  1722   \n",
       "1.598544e+19           25           1                2  15703  320  50  1722   \n",
       "1.792626e+19            0           1                2  22553  320  50  2602   \n",
       "8.452958e+18            0           1                0  19772  320  50  2227   \n",
       "1.640144e+19            0           1                0  15708  320  50  1722   \n",
       "\n",
       "             C18  C19       C20  C21 weekday    user  site  \n",
       "id                                                          \n",
       "3.406845e+18   0   35  99999999   79       0  isRare  2901  \n",
       "1.598544e+19   0   35  99999999   79       1  isRare  2901  \n",
       "1.792626e+19   0  163  99999999  182       0  isRare   402  \n",
       "8.452958e+18   0  935    100075   48       1  isRare  2887  \n",
       "1.640144e+19   0   35    100084   79       6  isRare   665  "
      ]
     },
     "execution_count": 86,
     "metadata": {},
     "output_type": "execute_result"
    }
   ],
   "source": [
    "Xtrain_mg.head() ### header of transformed train"
   ]
  },
  {
   "cell_type": "markdown",
   "metadata": {},
   "source": [
    "<font color=\"red\">**Question 46:**\n",
    "   How many elements of the column Xtrain_mg['app_domain'] are now labeled as 'rare'?\n",
    "</font>"
   ]
  },
  {
   "cell_type": "code",
   "execution_count": 87,
   "metadata": {},
   "outputs": [
    {
     "name": "stdout",
     "output_type": "stream",
     "text": [
      "Number of modalities in app_domain before tranforming xtrain is 196\n",
      "Number of modalities in app_domain after tranforming the data is 53\n",
      "Number of rare modalities in app-domain is 143\n"
     ]
    }
   ],
   "source": [
    "print(\"Number of modalities in app_domain before tranforming xtrain is %s\" %len(Xtrain['app_domain'] .value_counts().tolist()))\n",
    "\n",
    "print(\"Number of modalities in app_domain after tranforming the data is %s\" %len(Xtrain_mg['app_domain'] .value_counts().tolist()))\n",
    "\n",
    "\n",
    "print (\"Number of rare modalities in app-domain is %s\" %(len(Xtrain['app_domain'] .value_counts().tolist()) -len(Xtrain_mg['app_domain'] .value_counts().tolist())))"
   ]
  },
  {
   "cell_type": "code",
   "execution_count": 88,
   "metadata": {},
   "outputs": [
    {
     "name": "stdout",
     "output_type": "stream",
     "text": [
      "The number of 'isRare' observations in the column app_domain in the train is 513\n"
     ]
    }
   ],
   "source": [
    "print (\"The number of 'isRare' observations in the column app_domain in the train is %s\" %Xtrain_mg['app_domain'] .value_counts()['isRare'])"
   ]
  },
  {
   "cell_type": "markdown",
   "metadata": {},
   "source": [
    "The MergeRareTransformer was very useful to decreaase the number of modalities for the variable app_domain , This operation enhance the training of the model"
   ]
  },
  {
   "cell_type": "markdown",
   "metadata": {},
   "source": [
    "<font color=\"red\">**Question 47:**\n",
    "   In the new train set, display the number of modalities for each feature.\n",
    "</font>"
   ]
  },
  {
   "cell_type": "code",
   "execution_count": 89,
   "metadata": {},
   "outputs": [
    {
     "name": "stdout",
     "output_type": "stream",
     "text": [
      "The variable hour has 24 modalities\n",
      "The variable C1 has 7 modalities\n",
      "The variable banner_pos has 7 modalities\n",
      "The variable site_category has 18 modalities\n",
      "The variable app_id has 613 modalities\n",
      "The variable app_domain has 53 modalities\n",
      "The variable app_category has 19 modalities\n",
      "The variable device_type has 5 modalities\n",
      "The variable device_conn_type has 4 modalities\n",
      "The variable C14 has 1339 modalities\n",
      "The variable C15 has 8 modalities\n",
      "The variable C16 has 9 modalities\n",
      "The variable C17 has 381 modalities\n",
      "The variable C18 has 4 modalities\n",
      "The variable C19 has 63 modalities\n",
      "The variable C20 has 148 modalities\n",
      "The variable C21 has 60 modalities\n",
      "The variable weekday has 7 modalities\n",
      "The variable user has 901 modalities\n",
      "The variable site has 889 modalities\n"
     ]
    }
   ],
   "source": [
    "\n",
    "\n",
    "col_feat=Xtrain_mg.columns.tolist() ####columns of xtrain_rare\n",
    "nfeat=0  \n",
    "for i,f in enumerate(col_feat) : \n",
    "    print(\"The variable %s has %s modalities\" %(col_feat[i] ,Xtrain_mg[f].value_counts().size)) ### get number of mod\n"
   ]
  },
  {
   "cell_type": "markdown",
   "metadata": {},
   "source": [
    "Modalities are arbitrary object, such as '234', 'isRare', etc. We will now transform them into integers with the hashing trick.\n",
    "<font color=\"red\">**Question 48:**\n",
    "   To better understand how the 'hash' function is working, apply it to a string of your choice.\n",
    "</font>"
   ]
  },
  {
   "cell_type": "code",
   "execution_count": 90,
   "metadata": {
    "scrolled": true
   },
   "outputs": [
    {
     "name": "stdout",
     "output_type": "stream",
     "text": [
      "The hash of ' chinchaaaaahdhdhdhdhdhdbaaaapfffbarcelona  '   is    5561385009659535215 \n"
     ]
    }
   ],
   "source": [
    "ch=\"chinchaaaaahdhdhdhdhdhdbaaaapfffbarcelona\"  ### simpleexample\n",
    "print (\"The hash of ' %s  '   is    %s \"%(ch ,hash(ch ))) ### print hash"
   ]
  },
  {
   "cell_type": "markdown",
   "metadata": {},
   "source": [
    "The hash function of large string return just a number , this will be very useful to gain more memory of saving  and processing the file"
   ]
  },
  {
   "cell_type": "markdown",
   "metadata": {},
   "source": [
    "<font color=\"red\">**Question 49:**\n",
    "   Create two new datasets 'Xtrain_ha' and 'Xtest_ha' containing the output of the hashing process. Use the '.apply' method to transform iteratively the columns by mapping to each value its remainder in the euclidean division of the hash by 1000000. \n",
    "   Example:\n",
    "</font>\n",
    "</font>\n",
    "<p>\n",
    "<center>\n",
    "2060777048690<font color=\"red\">918393</font>  -->  918393\n",
    "</center>\n",
    "Remark: do not forget that the function 'hash' has to take a string as input."
   ]
  },
  {
   "cell_type": "code",
   "execution_count": 91,
   "metadata": {},
   "outputs": [],
   "source": [
    "Xtrain_ha = pd.DataFrame()#### initilize train with empty dataframe\n",
    "Xtest_ha = pd.DataFrame()### initilize  test with empty dataframe\n",
    "for col in Xtrain_mg.columns:\n",
    "    Xtrain_ha[col] = Xtrain_mg[col].apply( lambda x: hash(str(x))%1000000 ) # lambda function of hashing\n",
    "    Xtest_ha[col] = Xtest_mg[col].apply( lambda x: hash(str(x))%1000000 )"
   ]
  },
  {
   "cell_type": "markdown",
   "metadata": {},
   "source": [
    "<font color=\"red\">**Question 50:**\n",
    "   Visualize the content of the DataFrames you have obtained.\n",
    "</font>"
   ]
  },
  {
   "cell_type": "code",
   "execution_count": 92,
   "metadata": {
    "scrolled": true
   },
   "outputs": [
    {
     "data": {
      "text/html": [
       "<div>\n",
       "<style scoped>\n",
       "    .dataframe tbody tr th:only-of-type {\n",
       "        vertical-align: middle;\n",
       "    }\n",
       "\n",
       "    .dataframe tbody tr th {\n",
       "        vertical-align: top;\n",
       "    }\n",
       "\n",
       "    .dataframe thead th {\n",
       "        text-align: right;\n",
       "    }\n",
       "</style>\n",
       "<table border=\"1\" class=\"dataframe\">\n",
       "  <thead>\n",
       "    <tr style=\"text-align: right;\">\n",
       "      <th></th>\n",
       "      <th>hour</th>\n",
       "      <th>C1</th>\n",
       "      <th>banner_pos</th>\n",
       "      <th>site_category</th>\n",
       "      <th>app_id</th>\n",
       "      <th>app_domain</th>\n",
       "      <th>app_category</th>\n",
       "      <th>device_type</th>\n",
       "      <th>device_conn_type</th>\n",
       "      <th>C14</th>\n",
       "      <th>C15</th>\n",
       "      <th>C16</th>\n",
       "      <th>C17</th>\n",
       "      <th>C18</th>\n",
       "      <th>C19</th>\n",
       "      <th>C20</th>\n",
       "      <th>C21</th>\n",
       "      <th>weekday</th>\n",
       "      <th>user</th>\n",
       "      <th>site</th>\n",
       "    </tr>\n",
       "    <tr>\n",
       "      <th>id</th>\n",
       "      <th></th>\n",
       "      <th></th>\n",
       "      <th></th>\n",
       "      <th></th>\n",
       "      <th></th>\n",
       "      <th></th>\n",
       "      <th></th>\n",
       "      <th></th>\n",
       "      <th></th>\n",
       "      <th></th>\n",
       "      <th></th>\n",
       "      <th></th>\n",
       "      <th></th>\n",
       "      <th></th>\n",
       "      <th></th>\n",
       "      <th></th>\n",
       "      <th></th>\n",
       "      <th></th>\n",
       "      <th></th>\n",
       "      <th></th>\n",
       "    </tr>\n",
       "  </thead>\n",
       "  <tbody>\n",
       "    <tr>\n",
       "      <th>3.406845e+18</th>\n",
       "      <td>227324</td>\n",
       "      <td>198037</td>\n",
       "      <td>804595</td>\n",
       "      <td>184316</td>\n",
       "      <td>613087</td>\n",
       "      <td>946786</td>\n",
       "      <td>514416</td>\n",
       "      <td>742956</td>\n",
       "      <td>514416</td>\n",
       "      <td>119650</td>\n",
       "      <td>266323</td>\n",
       "      <td>459151</td>\n",
       "      <td>507279</td>\n",
       "      <td>295339</td>\n",
       "      <td>396465</td>\n",
       "      <td>723432</td>\n",
       "      <td>169949</td>\n",
       "      <td>295339</td>\n",
       "      <td>161431</td>\n",
       "      <td>622603</td>\n",
       "    </tr>\n",
       "    <tr>\n",
       "      <th>1.598544e+19</th>\n",
       "      <td>615055</td>\n",
       "      <td>658714</td>\n",
       "      <td>295339</td>\n",
       "      <td>184316</td>\n",
       "      <td>906043</td>\n",
       "      <td>140983</td>\n",
       "      <td>198635</td>\n",
       "      <td>804595</td>\n",
       "      <td>610966</td>\n",
       "      <td>119650</td>\n",
       "      <td>266323</td>\n",
       "      <td>459151</td>\n",
       "      <td>507279</td>\n",
       "      <td>295339</td>\n",
       "      <td>396465</td>\n",
       "      <td>723432</td>\n",
       "      <td>169949</td>\n",
       "      <td>804595</td>\n",
       "      <td>161431</td>\n",
       "      <td>622603</td>\n",
       "    </tr>\n",
       "    <tr>\n",
       "      <th>1.792626e+19</th>\n",
       "      <td>742956</td>\n",
       "      <td>658714</td>\n",
       "      <td>295339</td>\n",
       "      <td>597659</td>\n",
       "      <td>983258</td>\n",
       "      <td>946786</td>\n",
       "      <td>295339</td>\n",
       "      <td>804595</td>\n",
       "      <td>610966</td>\n",
       "      <td>898594</td>\n",
       "      <td>266323</td>\n",
       "      <td>459151</td>\n",
       "      <td>26717</td>\n",
       "      <td>295339</td>\n",
       "      <td>293236</td>\n",
       "      <td>723432</td>\n",
       "      <td>208098</td>\n",
       "      <td>295339</td>\n",
       "      <td>161431</td>\n",
       "      <td>773053</td>\n",
       "    </tr>\n",
       "    <tr>\n",
       "      <th>8.452958e+18</th>\n",
       "      <td>881994</td>\n",
       "      <td>658714</td>\n",
       "      <td>804595</td>\n",
       "      <td>597659</td>\n",
       "      <td>983258</td>\n",
       "      <td>946786</td>\n",
       "      <td>295339</td>\n",
       "      <td>804595</td>\n",
       "      <td>295339</td>\n",
       "      <td>140223</td>\n",
       "      <td>266323</td>\n",
       "      <td>459151</td>\n",
       "      <td>318945</td>\n",
       "      <td>295339</td>\n",
       "      <td>98309</td>\n",
       "      <td>704072</td>\n",
       "      <td>668916</td>\n",
       "      <td>804595</td>\n",
       "      <td>161431</td>\n",
       "      <td>621449</td>\n",
       "    </tr>\n",
       "    <tr>\n",
       "      <th>1.640144e+19</th>\n",
       "      <td>346907</td>\n",
       "      <td>658714</td>\n",
       "      <td>295339</td>\n",
       "      <td>804595</td>\n",
       "      <td>983258</td>\n",
       "      <td>946786</td>\n",
       "      <td>295339</td>\n",
       "      <td>804595</td>\n",
       "      <td>295339</td>\n",
       "      <td>250574</td>\n",
       "      <td>266323</td>\n",
       "      <td>459151</td>\n",
       "      <td>507279</td>\n",
       "      <td>295339</td>\n",
       "      <td>396465</td>\n",
       "      <td>906848</td>\n",
       "      <td>169949</td>\n",
       "      <td>488470</td>\n",
       "      <td>161431</td>\n",
       "      <td>446218</td>\n",
       "    </tr>\n",
       "  </tbody>\n",
       "</table>\n",
       "</div>"
      ],
      "text/plain": [
       "                hour      C1  banner_pos  site_category  app_id  app_domain  \\\n",
       "id                                                                            \n",
       "3.406845e+18  227324  198037      804595         184316  613087      946786   \n",
       "1.598544e+19  615055  658714      295339         184316  906043      140983   \n",
       "1.792626e+19  742956  658714      295339         597659  983258      946786   \n",
       "8.452958e+18  881994  658714      804595         597659  983258      946786   \n",
       "1.640144e+19  346907  658714      295339         804595  983258      946786   \n",
       "\n",
       "              app_category  device_type  device_conn_type     C14     C15  \\\n",
       "id                                                                          \n",
       "3.406845e+18        514416       742956            514416  119650  266323   \n",
       "1.598544e+19        198635       804595            610966  119650  266323   \n",
       "1.792626e+19        295339       804595            610966  898594  266323   \n",
       "8.452958e+18        295339       804595            295339  140223  266323   \n",
       "1.640144e+19        295339       804595            295339  250574  266323   \n",
       "\n",
       "                 C16     C17     C18     C19     C20     C21  weekday    user  \\\n",
       "id                                                                              \n",
       "3.406845e+18  459151  507279  295339  396465  723432  169949   295339  161431   \n",
       "1.598544e+19  459151  507279  295339  396465  723432  169949   804595  161431   \n",
       "1.792626e+19  459151   26717  295339  293236  723432  208098   295339  161431   \n",
       "8.452958e+18  459151  318945  295339   98309  704072  668916   804595  161431   \n",
       "1.640144e+19  459151  507279  295339  396465  906848  169949   488470  161431   \n",
       "\n",
       "                site  \n",
       "id                    \n",
       "3.406845e+18  622603  \n",
       "1.598544e+19  622603  \n",
       "1.792626e+19  773053  \n",
       "8.452958e+18  621449  \n",
       "1.640144e+19  446218  "
      ]
     },
     "execution_count": 92,
     "metadata": {},
     "output_type": "execute_result"
    }
   ],
   "source": [
    "Xtrain_ha.head() ### recall the content"
   ]
  },
  {
   "cell_type": "code",
   "execution_count": 93,
   "metadata": {},
   "outputs": [
    {
     "data": {
      "text/html": [
       "<div>\n",
       "<style scoped>\n",
       "    .dataframe tbody tr th:only-of-type {\n",
       "        vertical-align: middle;\n",
       "    }\n",
       "\n",
       "    .dataframe tbody tr th {\n",
       "        vertical-align: top;\n",
       "    }\n",
       "\n",
       "    .dataframe thead th {\n",
       "        text-align: right;\n",
       "    }\n",
       "</style>\n",
       "<table border=\"1\" class=\"dataframe\">\n",
       "  <thead>\n",
       "    <tr style=\"text-align: right;\">\n",
       "      <th></th>\n",
       "      <th>hour</th>\n",
       "      <th>C1</th>\n",
       "      <th>banner_pos</th>\n",
       "      <th>site_category</th>\n",
       "      <th>app_id</th>\n",
       "      <th>app_domain</th>\n",
       "      <th>app_category</th>\n",
       "      <th>device_type</th>\n",
       "      <th>device_conn_type</th>\n",
       "      <th>C14</th>\n",
       "      <th>C15</th>\n",
       "      <th>C16</th>\n",
       "      <th>C17</th>\n",
       "      <th>C18</th>\n",
       "      <th>C19</th>\n",
       "      <th>C20</th>\n",
       "      <th>C21</th>\n",
       "      <th>weekday</th>\n",
       "      <th>user</th>\n",
       "      <th>site</th>\n",
       "    </tr>\n",
       "    <tr>\n",
       "      <th>id</th>\n",
       "      <th></th>\n",
       "      <th></th>\n",
       "      <th></th>\n",
       "      <th></th>\n",
       "      <th></th>\n",
       "      <th></th>\n",
       "      <th></th>\n",
       "      <th></th>\n",
       "      <th></th>\n",
       "      <th></th>\n",
       "      <th></th>\n",
       "      <th></th>\n",
       "      <th></th>\n",
       "      <th></th>\n",
       "      <th></th>\n",
       "      <th></th>\n",
       "      <th></th>\n",
       "      <th></th>\n",
       "      <th></th>\n",
       "      <th></th>\n",
       "    </tr>\n",
       "  </thead>\n",
       "  <tbody>\n",
       "    <tr>\n",
       "      <th>1.253899e+19</th>\n",
       "      <td>488470</td>\n",
       "      <td>658714</td>\n",
       "      <td>804595</td>\n",
       "      <td>597659</td>\n",
       "      <td>983258</td>\n",
       "      <td>946786</td>\n",
       "      <td>295339</td>\n",
       "      <td>804595</td>\n",
       "      <td>295339</td>\n",
       "      <td>836914</td>\n",
       "      <td>266323</td>\n",
       "      <td>459151</td>\n",
       "      <td>216317</td>\n",
       "      <td>610966</td>\n",
       "      <td>478834</td>\n",
       "      <td>723432</td>\n",
       "      <td>91558</td>\n",
       "      <td>514416</td>\n",
       "      <td>161431</td>\n",
       "      <td>212446</td>\n",
       "    </tr>\n",
       "    <tr>\n",
       "      <th>9.390228e+18</th>\n",
       "      <td>227324</td>\n",
       "      <td>658714</td>\n",
       "      <td>295339</td>\n",
       "      <td>804595</td>\n",
       "      <td>983258</td>\n",
       "      <td>946786</td>\n",
       "      <td>295339</td>\n",
       "      <td>804595</td>\n",
       "      <td>295339</td>\n",
       "      <td>621737</td>\n",
       "      <td>266323</td>\n",
       "      <td>459151</td>\n",
       "      <td>795481</td>\n",
       "      <td>610966</td>\n",
       "      <td>199943</td>\n",
       "      <td>829231</td>\n",
       "      <td>336866</td>\n",
       "      <td>610966</td>\n",
       "      <td>161431</td>\n",
       "      <td>41924</td>\n",
       "    </tr>\n",
       "    <tr>\n",
       "      <th>4.224471e+18</th>\n",
       "      <td>444428</td>\n",
       "      <td>658714</td>\n",
       "      <td>804595</td>\n",
       "      <td>597659</td>\n",
       "      <td>983258</td>\n",
       "      <td>946786</td>\n",
       "      <td>295339</td>\n",
       "      <td>804595</td>\n",
       "      <td>295339</td>\n",
       "      <td>517775</td>\n",
       "      <td>266323</td>\n",
       "      <td>459151</td>\n",
       "      <td>268540</td>\n",
       "      <td>514416</td>\n",
       "      <td>396465</td>\n",
       "      <td>116689</td>\n",
       "      <td>346907</td>\n",
       "      <td>184316</td>\n",
       "      <td>161431</td>\n",
       "      <td>621449</td>\n",
       "    </tr>\n",
       "    <tr>\n",
       "      <th>1.227886e+19</th>\n",
       "      <td>488470</td>\n",
       "      <td>658714</td>\n",
       "      <td>295339</td>\n",
       "      <td>184316</td>\n",
       "      <td>161087</td>\n",
       "      <td>140983</td>\n",
       "      <td>514416</td>\n",
       "      <td>804595</td>\n",
       "      <td>295339</td>\n",
       "      <td>4382</td>\n",
       "      <td>266323</td>\n",
       "      <td>459151</td>\n",
       "      <td>307208</td>\n",
       "      <td>514416</td>\n",
       "      <td>647533</td>\n",
       "      <td>386329</td>\n",
       "      <td>287947</td>\n",
       "      <td>514416</td>\n",
       "      <td>161431</td>\n",
       "      <td>622603</td>\n",
       "    </tr>\n",
       "    <tr>\n",
       "      <th>1.065422e+18</th>\n",
       "      <td>227324</td>\n",
       "      <td>426631</td>\n",
       "      <td>295339</td>\n",
       "      <td>184316</td>\n",
       "      <td>983258</td>\n",
       "      <td>946786</td>\n",
       "      <td>295339</td>\n",
       "      <td>295339</td>\n",
       "      <td>295339</td>\n",
       "      <td>145159</td>\n",
       "      <td>266323</td>\n",
       "      <td>459151</td>\n",
       "      <td>239404</td>\n",
       "      <td>610966</td>\n",
       "      <td>478834</td>\n",
       "      <td>723432</td>\n",
       "      <td>91558</td>\n",
       "      <td>610966</td>\n",
       "      <td>161431</td>\n",
       "      <td>932659</td>\n",
       "    </tr>\n",
       "  </tbody>\n",
       "</table>\n",
       "</div>"
      ],
      "text/plain": [
       "                hour      C1  banner_pos  site_category  app_id  app_domain  \\\n",
       "id                                                                            \n",
       "1.253899e+19  488470  658714      804595         597659  983258      946786   \n",
       "9.390228e+18  227324  658714      295339         804595  983258      946786   \n",
       "4.224471e+18  444428  658714      804595         597659  983258      946786   \n",
       "1.227886e+19  488470  658714      295339         184316  161087      140983   \n",
       "1.065422e+18  227324  426631      295339         184316  983258      946786   \n",
       "\n",
       "              app_category  device_type  device_conn_type     C14     C15  \\\n",
       "id                                                                          \n",
       "1.253899e+19        295339       804595            295339  836914  266323   \n",
       "9.390228e+18        295339       804595            295339  621737  266323   \n",
       "4.224471e+18        295339       804595            295339  517775  266323   \n",
       "1.227886e+19        514416       804595            295339    4382  266323   \n",
       "1.065422e+18        295339       295339            295339  145159  266323   \n",
       "\n",
       "                 C16     C17     C18     C19     C20     C21  weekday    user  \\\n",
       "id                                                                              \n",
       "1.253899e+19  459151  216317  610966  478834  723432   91558   514416  161431   \n",
       "9.390228e+18  459151  795481  610966  199943  829231  336866   610966  161431   \n",
       "4.224471e+18  459151  268540  514416  396465  116689  346907   184316  161431   \n",
       "1.227886e+19  459151  307208  514416  647533  386329  287947   514416  161431   \n",
       "1.065422e+18  459151  239404  610966  478834  723432   91558   610966  161431   \n",
       "\n",
       "                site  \n",
       "id                    \n",
       "1.253899e+19  212446  \n",
       "9.390228e+18   41924  \n",
       "4.224471e+18  621449  \n",
       "1.227886e+19  622603  \n",
       "1.065422e+18  932659  "
      ]
     },
     "execution_count": 93,
     "metadata": {},
     "output_type": "execute_result"
    }
   ],
   "source": [
    "Xtest_ha.head()  ### recall the content"
   ]
  },
  {
   "cell_type": "markdown",
   "metadata": {},
   "source": [
    "<font color=\"red\">**Question 51:**\n",
    "    <br>\n",
    "    - Train a RandomForestClassifier on Xtrain_ha and evaluate its performance on Xtest_ha. One can chose 1024 estimators, min_samples_leaf=20 and verbose=1 in order to monitor the fitting step.\n",
    "    <br>\n",
    "</font>"
   ]
  },
  {
   "cell_type": "code",
   "execution_count": 94,
   "metadata": {},
   "outputs": [
    {
     "name": "stdout",
     "output_type": "stream",
     "text": [
      "CPU times: user 22min 48s, sys: 996 ms, total: 22min 49s\n",
      "Wall time: 22min 53s\n"
     ]
    },
    {
     "name": "stderr",
     "output_type": "stream",
     "text": [
      "[Parallel(n_jobs=1)]: Done 1024 out of 1024 | elapsed: 22.8min finished\n"
     ]
    }
   ],
   "source": [
    "\n",
    "start_time = time.time()\n",
    "\n",
    "############## fitting the randomforest with 1024 estimators #####\n",
    "rf = RandomForestClassifier( n_estimators=1024,min_samples_leaf=20 , verbose=1 )\n",
    "%time rf.fit( Xtrain_ha,y_train)\n",
    "\n",
    "end_time = time.time()\n",
    "\n",
    "time_rf =(end_time - start_time)\n"
   ]
  },
  {
   "cell_type": "code",
   "execution_count": 95,
   "metadata": {},
   "outputs": [
    {
     "name": "stderr",
     "output_type": "stream",
     "text": [
      "[Parallel(n_jobs=1)]: Done 1024 out of 1024 | elapsed:   24.4s finished\n"
     ]
    },
    {
     "name": "stdout",
     "output_type": "stream",
     "text": [
      "The logloss of RandomForest with 1024 estimators  is  40.11% , the auc is 74.09%\n"
     ]
    },
    {
     "name": "stderr",
     "output_type": "stream",
     "text": [
      "[Parallel(n_jobs=1)]: Done 1024 out of 1024 | elapsed:   24.2s finished\n"
     ]
    }
   ],
   "source": [
    "############# evaluating the random forest ##########################\n",
    "hard =rf.predict(Xtest_ha)\n",
    "soft = rf.predict_proba(Xtest_ha)\n",
    "\n",
    "print(\"The logloss of RandomForest with 1024 estimators  is  %.2f%% , the auc is %.2f%%\" %(100*log_loss(ytest, soft[:,1]) ,100*roc_auc_score(ytest, soft[:,1])))\n",
    "\n",
    "log_loss_rf=log_loss(ytest,soft[:,1])\n",
    "auc_rf= roc_auc_score(ytest, soft[:,1])"
   ]
  },
  {
   "cell_type": "markdown",
   "metadata": {},
   "source": [
    "The performance of the model remains stable but the execution time is considerable for RandomForest"
   ]
  },
  {
   "cell_type": "markdown",
   "metadata": {},
   "source": [
    "<font color=\"red\">**Question 52:**\n",
    "   Compare with xgboost performance on the same hashed dataset.\n",
    "</font>"
   ]
  },
  {
   "cell_type": "code",
   "execution_count": 96,
   "metadata": {},
   "outputs": [
    {
     "name": "stdout",
     "output_type": "stream",
     "text": [
      "CPU times: user 13min 41s, sys: 232 ms, total: 13min 41s\n",
      "Wall time: 13min 43s\n"
     ]
    }
   ],
   "source": [
    "############## fitting the xgboost with 1024 estimators #####\n",
    "\n",
    "start_time = time.time()\n",
    "\n",
    "xgb = XGBClassifier( n_estimators=1024, learning_rate = 0.1 ,njobs=-1,verbose=True)\n",
    "%time xgb.fit(Xtrain_ha,y_train) \n",
    "\n",
    "end_time = time.time()\n",
    "\n",
    "time_xgb_hash=(end_time - start_time)"
   ]
  },
  {
   "cell_type": "code",
   "execution_count": 97,
   "metadata": {},
   "outputs": [
    {
     "name": "stdout",
     "output_type": "stream",
     "text": [
      "The logloss of XGBOOST with 1024 estimators after hashing and regrouping modalities is  40.30% , the auc is 73.68%\n"
     ]
    }
   ],
   "source": [
    "############# evaluating the xgboost after hashing##########################\n",
    "\n",
    "\n",
    "hard =xgb .predict(Xtest_ha)\n",
    "soft = xgb .predict_proba(Xtest_ha)\n",
    "\n",
    "\n",
    "print(\"The logloss of XGBOOST with 1024 estimators after hashing and regrouping modalities is  %.2f%% , the auc is %.2f%%\" %(100*log_loss(ytest, soft[:,1]) ,100*roc_auc_score(ytest, soft[:,1])))\n",
    "\n",
    "log_loss_xgb_hash=log_loss(ytest,soft[:,1])\n",
    "auc_xgb_hash= roc_auc_score(ytest, soft[:,1])"
   ]
  },
  {
   "cell_type": "markdown",
   "metadata": {},
   "source": [
    "<font color=\"red\">**Question 53:**\n",
    "    Plot the ROC and the lift curves for the obtained classifier (xgboost on hashed data).\n",
    "</font>"
   ]
  },
  {
   "cell_type": "code",
   "execution_count": 98,
   "metadata": {},
   "outputs": [
    {
     "data": {
      "text/plain": [
       "Text(0.5,1,'The lift curve of xgboost on hashed data ')"
      ]
     },
     "execution_count": 98,
     "metadata": {},
     "output_type": "execute_result"
    },
    {
     "data": {
      "image/png": "[encoded data removed]",
      "text/plain": [
       "<Figure size 1080x720 with 1 Axes>"
      ]
     },
     "metadata": {},
     "output_type": "display_data"
    }
   ],
   "source": [
    "# Plot the lift curve here\n",
    "plt.figure(figsize=(15,10))\n",
    "plt.style.use(\"ggplot\")\n",
    "plotlift(ytest, soft.T[1])\n",
    "# The following line just plots a vertical line for you to answer the second part of the question\n",
    "plt.axvline(x= 0.2 , linestyle='--', color='g')\n",
    "plt.axhline(y= 1 , linestyle='--', color='r');\n",
    "plt.title(\"The lift curve of xgboost on hashed data \")"
   ]
  },
  {
   "cell_type": "code",
   "execution_count": 99,
   "metadata": {
    "scrolled": false
   },
   "outputs": [
    {
     "data": {
      "image/png": "[encoded data removed]",
      "text/plain": [
       "<Figure size 1080x720 with 1 Axes>"
      ]
     },
     "metadata": {},
     "output_type": "display_data"
    }
   ],
   "source": [
    "# Plot the ROC curve here\n",
    "#from ggplot import *\n",
    "plt.figure(figsize=(15,10))\n",
    "\n",
    "fpr, tpr, thresholds = roc_curve(ytest,soft[:,1])\n",
    "roc_auc =auc(fpr, tpr)\n",
    "\n",
    "plt.plot(fpr, tpr, color='b',\n",
    "         label=r'Mean ROC',\n",
    "         lw=2, alpha=.8)\n",
    "\n",
    "plt.plot([0, 1], [0, 1], color='darkorange', lw=2, linestyle='--',label='ROC = %0.2f' % roc_auc_score(ytest, soft.T[1]))\n",
    "plt.xlim([0.0, 1.0])\n",
    "plt.ylim([0.0, 1.05])\n",
    "plt.xlabel('False Positive Rate')\n",
    "plt.ylabel('True Positive Rate')\n",
    "plt.title('Roc curve of the xgboost with hash')\n",
    "plt.legend(loc=\"lower right\")\n",
    "plt.show()\n",
    "\n"
   ]
  },
  {
   "cell_type": "markdown",
   "metadata": {},
   "source": [
    "Here we can see that the area under curve of XGB is a bit larger than the area of the logistic regression.So the algorithms performs better\n"
   ]
  },
  {
   "cell_type": "markdown",
   "metadata": {},
   "source": [
    " "
   ]
  },
  {
   "cell_type": "markdown",
   "metadata": {},
   "source": [
    "Hashing produces columns of integers arbitrarily ordered. One can wonder if adding more columns hashed in a different fashion would lead to better performance. \n",
    "<font color=\"red\">**Question 54:**\n",
    "    Add hashed columns by recursively hashing the previous ones: complete the following code. \n",
    "</font>"
   ]
  },
  {
   "cell_type": "code",
   "execution_count": 100,
   "metadata": {},
   "outputs": [],
   "source": [
    "Xtrain_haha = pd.DataFrame(Xtrain_ha).copy()\n",
    "Xtest_haha = pd.DataFrame(Xtest_ha).copy()\n",
    "\n",
    "n_hash = 3\n",
    "cols = Xtrain_ha.columns\n",
    "for l in range(n_hash):\n",
    "    for col in cols:\n",
    "        Xtrain_haha[col + '-hash'] = Xtrain_haha[col].apply(  lambda x: hash(str(x))%1000000  )\n",
    "        Xtest_haha[col + '-hash'] = Xtest_haha[col].apply(  lambda x: hash(str(x))%1000000  )\n",
    "    cols = [col + '-hash' for col in cols]"
   ]
  },
  {
   "cell_type": "markdown",
   "metadata": {},
   "source": [
    "<font color=\"red\">**Question 55:**\n",
    "    Evaluate the performance of a random forest and/or an xgboost clasifier on these enlarged dataset.\n",
    "</font>"
   ]
  },
  {
   "cell_type": "code",
   "execution_count": 101,
   "metadata": {},
   "outputs": [
    {
     "name": "stdout",
     "output_type": "stream",
     "text": [
      "CPU times: user 46min 31s, sys: 4.56 s, total: 46min 36s\n",
      "Wall time: 46min 55s\n"
     ]
    }
   ],
   "source": [
    "\n",
    "start_time = time.time()\n",
    "\n",
    "xgb = XGBClassifier( n_estimators=1024, learning_rate = 0.1 ,njobs=-1,verbose=True)\n",
    "%time xgb.fit(Xtrain_haha,y_train) \n",
    "\n",
    "\n",
    "end_time = time.time()\n",
    "\n",
    "time_xgb_haha =(end_time - start_time)\n",
    "\n"
   ]
  },
  {
   "cell_type": "code",
   "execution_count": 102,
   "metadata": {},
   "outputs": [
    {
     "name": "stdout",
     "output_type": "stream",
     "text": [
      "The logloss of RandomForest with 1024 estimators  is  40.15%, the auc is 73.97%\n"
     ]
    }
   ],
   "source": [
    "############# evaluating the bewxgbclassifier ##########################\n",
    "hard =xgb.predict(Xtest_haha)\n",
    "soft = xgb.predict_proba(Xtest_haha)\n",
    "\n",
    "print(\"The logloss of RandomForest with 1024 estimators  is  %.2f%%, the auc is %.2f%%\" %(100*log_loss(ytest, soft[:,1]) ,100*roc_auc_score(ytest, soft[:,1])))\n",
    "\n",
    "log_loss_xgb_haha=log_loss(ytest,soft[:,1])\n",
    "auc_xgb_haha= roc_auc_score(ytest, soft[:,1])"
   ]
  },
  {
   "cell_type": "markdown",
   "metadata": {},
   "source": [
    "We did not enhance significanly the performance  of the model and the metric remains stable regardless the different features engineering process  used "
   ]
  },
  {
   "cell_type": "markdown",
   "metadata": {},
   "source": [
    "<font color=\"red\">**Question 55:**\n",
    "    Compare the different models used in the TP.\n",
    "</font>"
   ]
  },
  {
   "cell_type": "markdown",
   "metadata": {},
   "source": [
    "Let's compare the different models based on the AUC and the log_loss"
   ]
  },
  {
   "cell_type": "code",
   "execution_count": 106,
   "metadata": {},
   "outputs": [],
   "source": [
    "##### get all the scores \n",
    "logloss_models=[logloss_lr_1,log_loss_lr_new,log_los_xgbt,log_loss_lr_new_xgb,log_loss_xgbclassifier,log_loss_xgbclassifier_1024,log_loss_xgbclassifier_1024_learnrate,\n",
    "log_loss_rf,log_loss_xgb_hash ,log_loss_xgb_haha]\n",
    "auc_models=[auc_lr_1,auc_lr_new,auc_xgbt,auc_lr_new_xgb,auc_xgbclassifier,auc_xgbclassifier_1024,auc_xgbclassifier_1024_learnrate,auc_rf,auc_xgb_hash,auc_xgb_haha]\n",
    "time_models=[time_lr_1,time_lr_new,time_xgbt,time_lr_new_xgb,time_xgbclassifier,time_xgbclassifier_1024,time_xgbclassifier_1024_learnrate,time_rf,time_xgb_hash,time_xgb_haha]"
   ]
  },
  {
   "cell_type": "code",
   "execution_count": 119,
   "metadata": {
    "scrolled": true
   },
   "outputs": [],
   "source": [
    "##### combining the scores  into a dataframe\n",
    "result=pd.concat([pd.DataFrame(auc_models),pd.DataFrame(logloss_models),pd.DataFrame(time_models)/60],axis=1)\n",
    "result.index=['Simple Logistic regression','LR with fewer columns','XGBT','Logistic Regression after XGB','XGBClassifier_50estimators','XGBclassifier_1024estimators','XGBclassifier_1024_learnrate0.1','RandomForest','XGB after hashing','XGB after double hashing']\n",
    "result.columns=[\"AUC\",\"LOG_LOSS\",\"Execution_time (min)\"]"
   ]
  },
  {
   "cell_type": "code",
   "execution_count": 120,
   "metadata": {},
   "outputs": [
    {
     "data": {
      "text/html": [
       "<div>\n",
       "<style scoped>\n",
       "    .dataframe tbody tr th:only-of-type {\n",
       "        vertical-align: middle;\n",
       "    }\n",
       "\n",
       "    .dataframe tbody tr th {\n",
       "        vertical-align: top;\n",
       "    }\n",
       "\n",
       "    .dataframe thead th {\n",
       "        text-align: right;\n",
       "    }\n",
       "</style>\n",
       "<table border=\"1\" class=\"dataframe\">\n",
       "  <thead>\n",
       "    <tr style=\"text-align: right;\">\n",
       "      <th></th>\n",
       "      <th>AUC</th>\n",
       "      <th>LOG_LOSS</th>\n",
       "      <th>Execution_time (min)</th>\n",
       "    </tr>\n",
       "  </thead>\n",
       "  <tbody>\n",
       "    <tr>\n",
       "      <th>Simple Logistic regression</th>\n",
       "      <td>0.676241</td>\n",
       "      <td>0.425161</td>\n",
       "      <td>0.219458</td>\n",
       "    </tr>\n",
       "    <tr>\n",
       "      <th>LR with fewer columns</th>\n",
       "      <td>0.736041</td>\n",
       "      <td>0.402793</td>\n",
       "      <td>0.209179</td>\n",
       "    </tr>\n",
       "    <tr>\n",
       "      <th>XGBT</th>\n",
       "      <td>0.725244</td>\n",
       "      <td>0.409155</td>\n",
       "      <td>2.187799</td>\n",
       "    </tr>\n",
       "    <tr>\n",
       "      <th>Logistic Regression after XGB</th>\n",
       "      <td>0.737046</td>\n",
       "      <td>0.402565</td>\n",
       "      <td>0.459813</td>\n",
       "    </tr>\n",
       "    <tr>\n",
       "      <th>XGBClassifier_50estimators</th>\n",
       "      <td>0.724445</td>\n",
       "      <td>0.407897</td>\n",
       "      <td>0.688812</td>\n",
       "    </tr>\n",
       "    <tr>\n",
       "      <th>XGBclassifier_1024estimators</th>\n",
       "      <td>0.742571</td>\n",
       "      <td>0.399654</td>\n",
       "      <td>11.169984</td>\n",
       "    </tr>\n",
       "    <tr>\n",
       "      <th>XGBclassifier_1024_learnrate0.1</th>\n",
       "      <td>0.735957</td>\n",
       "      <td>0.403317</td>\n",
       "      <td>11.019196</td>\n",
       "    </tr>\n",
       "    <tr>\n",
       "      <th>RandomForest</th>\n",
       "      <td>0.740900</td>\n",
       "      <td>0.401073</td>\n",
       "      <td>22.890225</td>\n",
       "    </tr>\n",
       "    <tr>\n",
       "      <th>XGB after hashing</th>\n",
       "      <td>0.736770</td>\n",
       "      <td>0.402965</td>\n",
       "      <td>13.718477</td>\n",
       "    </tr>\n",
       "    <tr>\n",
       "      <th>XGB after double hashing</th>\n",
       "      <td>0.739709</td>\n",
       "      <td>0.401476</td>\n",
       "      <td>46.922686</td>\n",
       "    </tr>\n",
       "  </tbody>\n",
       "</table>\n",
       "</div>"
      ],
      "text/plain": [
       "                                      AUC  LOG_LOSS  Execution_time (min)\n",
       "Simple Logistic regression       0.676241  0.425161              0.219458\n",
       "LR with fewer columns            0.736041  0.402793              0.209179\n",
       "XGBT                             0.725244  0.409155              2.187799\n",
       "Logistic Regression after XGB    0.737046  0.402565              0.459813\n",
       "XGBClassifier_50estimators       0.724445  0.407897              0.688812\n",
       "XGBclassifier_1024estimators     0.742571  0.399654             11.169984\n",
       "XGBclassifier_1024_learnrate0.1  0.735957  0.403317             11.019196\n",
       "RandomForest                     0.740900  0.401073             22.890225\n",
       "XGB after hashing                0.736770  0.402965             13.718477\n",
       "XGB after double hashing         0.739709  0.401476             46.922686"
      ]
     },
     "execution_count": 120,
     "metadata": {},
     "output_type": "execute_result"
    }
   ],
   "source": [
    "result"
   ]
  },
  {
   "cell_type": "markdown",
   "metadata": {},
   "source": [
    "We presented in the table above the scores of the different algorithms sorted chronologically :\n",
    "* The scores based on AUC and log_loss are correlated .\n",
    "* Except the simple logistic regression , the performance of all tested algorithms is globally similar\n",
    "* The logisic regression does not give  good result unless processing and selecting the features using XGBoost\n",
    "* tha XGB classifier with 1024 estimators  gives a far better results ,but it takes more time to run ( 12 min  VS 1 minutes for LR) . We tried three different learning rate ( 0.1 , 0.5 and 0.8) but this does not enhance the XGBCLASSIFIER score.\n",
    "* Without tuning , The random forest gives a good score  but it remains less performant than xgboost with 1024 estimators , and it takes more time to train ( 22 min vs 12 min ) .\n",
    "* The XGB with hashing and double hashing did not enhance the score  for our dataset\n",
    "* The best model in term of auc & logloss is  XGBclassifier with 1024 estimators\n",
    "\n",
    "In term of accuracy and execution time , Logistic regression with xgboostfeature pocessing is a good choice for our problem "
   ]
  },
  {
   "cell_type": "markdown",
   "metadata": {},
   "source": [
    "## Conclusion"
   ]
  },
  {
   "cell_type": "markdown",
   "metadata": {},
   "source": [
    "\n",
    "The Avazu CTR lab was clearly worth investing in as it provided a playing ground for methods, algorithms and libraries on a moderately big data set, with a multi-billion dollars business motivation. The lessons and insights learned here can be applied to similar click-through problems, as well as other time series events, such as web navigation logs analysis.\n",
    "\n",
    "There are many well known methods that we did not implement in this lab and seem to be very promising like Matrix factorizaton and Vowpal Wabbit . We recall that Vowpal Wabbit is a large scale online learner, designed for learning from large datsets as it only reads a fraction of training examples into memory at any point. It seems highly suited for this example as it can accomodate models becoming out-dated, dealing with divergence of distributions over time and unbounded features (you may constantly collect new categorical feature values). \n"
   ]
  },
  {
   "cell_type": "code",
   "execution_count": null,
   "metadata": {},
   "outputs": [],
   "source": []
  }
 ],
 "metadata": {
  "kernelspec": {
   "display_name": "Python 3",
   "language": "python",
   "name": "python3"
  },
  "language_info": {
   "codemirror_mode": {
    "name": "ipython",
    "version": 3
   },
   "file_extension": ".py",
   "mimetype": "text/x-python",
   "name": "python",
   "nbconvert_exporter": "python",
   "pygments_lexer": "ipython3",
   "version": "3.6.5"
  }
 },
 "nbformat": 4,
 "nbformat_minor": 2
}
